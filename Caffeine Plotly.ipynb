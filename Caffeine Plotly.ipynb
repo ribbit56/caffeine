{
 "cells": [
  {
   "cell_type": "markdown",
   "id": "942f993a",
   "metadata": {},
   "source": [
    "# Drink Caffeine Content Analysis Project"
   ]
  },
  {
   "cell_type": "markdown",
   "id": "8824a494",
   "metadata": {},
   "source": [
    "## Project Introdocution\n",
    "\n",
    "In this analysis we will delve into a topic that is very near and dear to my heart - caffeine! I have a caffeine addiction. More often than not I opt for energy drinks ala Red Bull, Monster, Rockstar, etc. However, when the weather gets cold I start to really enjoy coffee. I often worry that the amount of caffeine I ingest will one day come back to bite me in terms of health. Despite how much caffeine I consume on a weekly basis, I know shockingly little about the amount of caffeine in the drinks I enjoy so much. \n",
    "\n",
    "This data set contains information related to roughly 600 different drinks with caffeine and provides information for each related to caffeine content, volume, and calories. We will conduct some exploratory data analysis (EDA) and then attempt to find a subset of drinks which may be \"less unhealthy\" and could serve as some alternatives to sugar filled energy drinks and coffee.\n"
   ]
  },
  {
   "cell_type": "markdown",
   "id": "9a798b5b",
   "metadata": {},
   "source": [
    "## Import Libraries and Load the Dataset"
   ]
  },
  {
   "cell_type": "code",
   "execution_count": 1,
   "id": "63bb9cb9",
   "metadata": {},
   "outputs": [],
   "source": [
    "# Import libraries used in the project\n",
    "import numpy as np\n",
    "import pandas as pd\n",
    "import plotly.express as px\n",
    "import plotly.io as pio\n",
    "\n"
   ]
  },
  {
   "cell_type": "code",
   "execution_count": 2,
   "id": "6e27122e",
   "metadata": {},
   "outputs": [],
   "source": [
    "# import the caffeine dataset\n",
    "caffeine = pd.read_csv(r'C:\\Users\\benwh\\Documents\\Projects\\Caffeine\\caffeine.csv')"
   ]
  },
  {
   "cell_type": "markdown",
   "id": "6d8f69f5",
   "metadata": {},
   "source": [
    "## Data Familiarization"
   ]
  },
  {
   "cell_type": "code",
   "execution_count": 3,
   "id": "a24959f5",
   "metadata": {},
   "outputs": [
    {
     "name": "stdout",
     "output_type": "stream",
     "text": [
      "<class 'pandas.core.frame.DataFrame'>\n",
      "RangeIndex: 610 entries, 0 to 609\n",
      "Data columns (total 5 columns):\n",
      " #   Column         Non-Null Count  Dtype  \n",
      "---  ------         --------------  -----  \n",
      " 0   drink          610 non-null    object \n",
      " 1   Volume (ml)    610 non-null    float64\n",
      " 2   Calories       610 non-null    int64  \n",
      " 3   Caffeine (mg)  610 non-null    int64  \n",
      " 4   type           610 non-null    object \n",
      "dtypes: float64(1), int64(2), object(2)\n",
      "memory usage: 24.0+ KB\n"
     ]
    }
   ],
   "source": [
    "caffeine.info()"
   ]
  },
  {
   "cell_type": "code",
   "execution_count": 4,
   "id": "a2d45a99",
   "metadata": {},
   "outputs": [
    {
     "data": {
      "text/html": [
       "<div>\n",
       "<style scoped>\n",
       "    .dataframe tbody tr th:only-of-type {\n",
       "        vertical-align: middle;\n",
       "    }\n",
       "\n",
       "    .dataframe tbody tr th {\n",
       "        vertical-align: top;\n",
       "    }\n",
       "\n",
       "    .dataframe thead th {\n",
       "        text-align: right;\n",
       "    }\n",
       "</style>\n",
       "<table border=\"1\" class=\"dataframe\">\n",
       "  <thead>\n",
       "    <tr style=\"text-align: right;\">\n",
       "      <th></th>\n",
       "      <th>drink</th>\n",
       "      <th>Volume (ml)</th>\n",
       "      <th>Calories</th>\n",
       "      <th>Caffeine (mg)</th>\n",
       "      <th>type</th>\n",
       "    </tr>\n",
       "  </thead>\n",
       "  <tbody>\n",
       "    <tr>\n",
       "      <th>0</th>\n",
       "      <td>Costa Coffee</td>\n",
       "      <td>256.993715</td>\n",
       "      <td>0</td>\n",
       "      <td>277</td>\n",
       "      <td>Coffee</td>\n",
       "    </tr>\n",
       "    <tr>\n",
       "      <th>1</th>\n",
       "      <td>Coffee Friend Brewed Coffee</td>\n",
       "      <td>250.191810</td>\n",
       "      <td>0</td>\n",
       "      <td>145</td>\n",
       "      <td>Coffee</td>\n",
       "    </tr>\n",
       "    <tr>\n",
       "      <th>2</th>\n",
       "      <td>Hell Energy Coffee</td>\n",
       "      <td>250.191810</td>\n",
       "      <td>150</td>\n",
       "      <td>100</td>\n",
       "      <td>Coffee</td>\n",
       "    </tr>\n",
       "    <tr>\n",
       "      <th>3</th>\n",
       "      <td>Killer Coffee (AU)</td>\n",
       "      <td>250.191810</td>\n",
       "      <td>0</td>\n",
       "      <td>430</td>\n",
       "      <td>Coffee</td>\n",
       "    </tr>\n",
       "    <tr>\n",
       "      <th>4</th>\n",
       "      <td>Nescafe Gold</td>\n",
       "      <td>250.191810</td>\n",
       "      <td>0</td>\n",
       "      <td>66</td>\n",
       "      <td>Coffee</td>\n",
       "    </tr>\n",
       "  </tbody>\n",
       "</table>\n",
       "</div>"
      ],
      "text/plain": [
       "                         drink  Volume (ml)  Calories  Caffeine (mg)    type\n",
       "0                 Costa Coffee   256.993715         0            277  Coffee\n",
       "1  Coffee Friend Brewed Coffee   250.191810         0            145  Coffee\n",
       "2           Hell Energy Coffee   250.191810       150            100  Coffee\n",
       "3           Killer Coffee (AU)   250.191810         0            430  Coffee\n",
       "4                 Nescafe Gold   250.191810         0             66  Coffee"
      ]
     },
     "execution_count": 4,
     "metadata": {},
     "output_type": "execute_result"
    }
   ],
   "source": [
    "caffeine.head()"
   ]
  },
  {
   "cell_type": "markdown",
   "id": "11d67c0a",
   "metadata": {},
   "source": [
    "We can see after running .info() and .head() that our data set is pretty straight forward - 610 observations with five fields covering drink name, volume, calories, caffeine content and drink type."
   ]
  },
  {
   "cell_type": "code",
   "execution_count": 5,
   "id": "94b503e2",
   "metadata": {},
   "outputs": [
    {
     "data": {
      "text/html": [
       "<div>\n",
       "<style scoped>\n",
       "    .dataframe tbody tr th:only-of-type {\n",
       "        vertical-align: middle;\n",
       "    }\n",
       "\n",
       "    .dataframe tbody tr th {\n",
       "        vertical-align: top;\n",
       "    }\n",
       "\n",
       "    .dataframe thead th {\n",
       "        text-align: right;\n",
       "    }\n",
       "</style>\n",
       "<table border=\"1\" class=\"dataframe\">\n",
       "  <thead>\n",
       "    <tr style=\"text-align: right;\">\n",
       "      <th></th>\n",
       "      <th>drink</th>\n",
       "      <th>Volume (ml)</th>\n",
       "      <th>Calories</th>\n",
       "      <th>Caffeine (mg)</th>\n",
       "      <th>type</th>\n",
       "    </tr>\n",
       "  </thead>\n",
       "  <tbody>\n",
       "  </tbody>\n",
       "</table>\n",
       "</div>"
      ],
      "text/plain": [
       "Empty DataFrame\n",
       "Columns: [drink, Volume (ml), Calories, Caffeine (mg), type]\n",
       "Index: []"
      ]
     },
     "execution_count": 5,
     "metadata": {},
     "output_type": "execute_result"
    }
   ],
   "source": [
    "# Check for duplicate drink names\n",
    "duplicatedrinks = caffeine[caffeine.duplicated(['drink'])]\n",
    "duplicatedrinks"
   ]
  },
  {
   "cell_type": "markdown",
   "id": "87e040ef",
   "metadata": {},
   "source": [
    "We have no duplicate drink names in our dataset."
   ]
  },
  {
   "cell_type": "code",
   "execution_count": 6,
   "id": "ce889d7e",
   "metadata": {},
   "outputs": [
    {
     "data": {
      "text/plain": [
       "Energy Drinks    219\n",
       "Coffee           173\n",
       "Soft Drinks       90\n",
       "Tea               66\n",
       "Energy Shots      36\n",
       "Water             26\n",
       "Name: type, dtype: int64"
      ]
     },
     "execution_count": 6,
     "metadata": {},
     "output_type": "execute_result"
    }
   ],
   "source": [
    "# Distribution of drink types in the dataset.\n",
    "caffeine['type'].value_counts()"
   ]
  },
  {
   "cell_type": "markdown",
   "id": "5d3dc4f5",
   "metadata": {},
   "source": [
    "Value_counts() reveals there are six unique drink types."
   ]
  },
  {
   "cell_type": "code",
   "execution_count": 7,
   "id": "c186c720",
   "metadata": {},
   "outputs": [
    {
     "data": {
      "text/plain": [
       "354.882000    159\n",
       "473.176000    125\n",
       "236.588000     96\n",
       "250.191810     35\n",
       "59.147000      19\n",
       "             ... \n",
       "428.815750      1\n",
       "380.019475      1\n",
       "370.260220      1\n",
       "339.208045      1\n",
       "329.744525      1\n",
       "Name: Volume (ml), Length: 70, dtype: int64"
      ]
     },
     "execution_count": 7,
     "metadata": {},
     "output_type": "execute_result"
    }
   ],
   "source": [
    "# Distribution of types of volume in the dataset.\n",
    "caffeine['Volume (ml)'].value_counts()"
   ]
  },
  {
   "cell_type": "markdown",
   "id": "ee146786",
   "metadata": {},
   "source": [
    "The volume of drinks varies quite a bit, but more than half of all volumes are higher than 200 mL."
   ]
  },
  {
   "cell_type": "code",
   "execution_count": 8,
   "id": "a53cb6cd",
   "metadata": {},
   "outputs": [
    {
     "data": {
      "text/plain": [
       "0      200\n",
       "5       32\n",
       "10      30\n",
       "160     22\n",
       "140     21\n",
       "      ... \n",
       "155      1\n",
       "117      1\n",
       "78       1\n",
       "118      1\n",
       "299      1\n",
       "Name: Calories, Length: 98, dtype: int64"
      ]
     },
     "execution_count": 8,
     "metadata": {},
     "output_type": "execute_result"
    }
   ],
   "source": [
    "# Distribution of calorie contnet in the dataset.\n",
    "caffeine['Calories'].value_counts()"
   ]
  },
  {
   "cell_type": "markdown",
   "id": "2a8c8fdb",
   "metadata": {},
   "source": [
    "Calories per drink appear to varry quite a bit. Notably, just under half appear to be very low in calories."
   ]
  },
  {
   "cell_type": "code",
   "execution_count": 9,
   "id": "f920752d",
   "metadata": {},
   "outputs": [
    {
     "data": {
      "text/plain": [
       "80      37\n",
       "100     34\n",
       "160     33\n",
       "0       28\n",
       "120     23\n",
       "        ..\n",
       "1150     1\n",
       "1325     1\n",
       "728      1\n",
       "1101     1\n",
       "99       1\n",
       "Name: Caffeine (mg), Length: 162, dtype: int64"
      ]
     },
     "execution_count": 9,
     "metadata": {},
     "output_type": "execute_result"
    }
   ],
   "source": [
    "# Distribution of caffeine content in the dataset.\n",
    "caffeine['Caffeine (mg)'].value_counts()"
   ]
  },
  {
   "cell_type": "markdown",
   "id": "1c551810",
   "metadata": {},
   "source": [
    "While there are six types of drinks included in the dataset, there is a lot more variation among volume, calories, and caffeine content."
   ]
  },
  {
   "cell_type": "markdown",
   "id": "38be9b7b",
   "metadata": {},
   "source": [
    "## Univariate Analysis "
   ]
  },
  {
   "cell_type": "markdown",
   "id": "a7ae4b4c",
   "metadata": {},
   "source": [
    "### Summary Statistics for Volume (ml), Calories, and Caffeine (mg)"
   ]
  },
  {
   "cell_type": "code",
   "execution_count": 10,
   "id": "7fb8fb3b",
   "metadata": {},
   "outputs": [
    {
     "data": {
      "text/html": [
       "<div>\n",
       "<style scoped>\n",
       "    .dataframe tbody tr th:only-of-type {\n",
       "        vertical-align: middle;\n",
       "    }\n",
       "\n",
       "    .dataframe tbody tr th {\n",
       "        vertical-align: top;\n",
       "    }\n",
       "\n",
       "    .dataframe thead th {\n",
       "        text-align: right;\n",
       "    }\n",
       "</style>\n",
       "<table border=\"1\" class=\"dataframe\">\n",
       "  <thead>\n",
       "    <tr style=\"text-align: right;\">\n",
       "      <th></th>\n",
       "      <th>Volume (ml)</th>\n",
       "      <th>Calories</th>\n",
       "      <th>Caffeine (mg)</th>\n",
       "    </tr>\n",
       "  </thead>\n",
       "  <tbody>\n",
       "    <tr>\n",
       "      <th>count</th>\n",
       "      <td>610.000000</td>\n",
       "      <td>610.000000</td>\n",
       "      <td>610.000000</td>\n",
       "    </tr>\n",
       "    <tr>\n",
       "      <th>mean</th>\n",
       "      <td>346.543630</td>\n",
       "      <td>75.527869</td>\n",
       "      <td>134.693443</td>\n",
       "    </tr>\n",
       "    <tr>\n",
       "      <th>std</th>\n",
       "      <td>143.747738</td>\n",
       "      <td>94.799919</td>\n",
       "      <td>155.362861</td>\n",
       "    </tr>\n",
       "    <tr>\n",
       "      <th>min</th>\n",
       "      <td>7.393375</td>\n",
       "      <td>0.000000</td>\n",
       "      <td>0.000000</td>\n",
       "    </tr>\n",
       "    <tr>\n",
       "      <th>25%</th>\n",
       "      <td>236.588000</td>\n",
       "      <td>0.000000</td>\n",
       "      <td>50.000000</td>\n",
       "    </tr>\n",
       "    <tr>\n",
       "      <th>50%</th>\n",
       "      <td>354.882000</td>\n",
       "      <td>25.000000</td>\n",
       "      <td>100.000000</td>\n",
       "    </tr>\n",
       "    <tr>\n",
       "      <th>75%</th>\n",
       "      <td>473.176000</td>\n",
       "      <td>140.000000</td>\n",
       "      <td>160.000000</td>\n",
       "    </tr>\n",
       "    <tr>\n",
       "      <th>max</th>\n",
       "      <td>1419.528000</td>\n",
       "      <td>830.000000</td>\n",
       "      <td>1555.000000</td>\n",
       "    </tr>\n",
       "  </tbody>\n",
       "</table>\n",
       "</div>"
      ],
      "text/plain": [
       "       Volume (ml)    Calories  Caffeine (mg)\n",
       "count   610.000000  610.000000     610.000000\n",
       "mean    346.543630   75.527869     134.693443\n",
       "std     143.747738   94.799919     155.362861\n",
       "min       7.393375    0.000000       0.000000\n",
       "25%     236.588000    0.000000      50.000000\n",
       "50%     354.882000   25.000000     100.000000\n",
       "75%     473.176000  140.000000     160.000000\n",
       "max    1419.528000  830.000000    1555.000000"
      ]
     },
     "execution_count": 10,
     "metadata": {},
     "output_type": "execute_result"
    }
   ],
   "source": [
    "caffeine.describe()"
   ]
  },
  {
   "cell_type": "code",
   "execution_count": 11,
   "id": "518b0c8c",
   "metadata": {},
   "outputs": [
    {
     "data": {
      "text/html": [
       "<div>\n",
       "<style scoped>\n",
       "    .dataframe tbody tr th:only-of-type {\n",
       "        vertical-align: middle;\n",
       "    }\n",
       "\n",
       "    .dataframe tbody tr th {\n",
       "        vertical-align: top;\n",
       "    }\n",
       "\n",
       "    .dataframe thead tr th {\n",
       "        text-align: left;\n",
       "    }\n",
       "\n",
       "    .dataframe thead tr:last-of-type th {\n",
       "        text-align: right;\n",
       "    }\n",
       "</style>\n",
       "<table border=\"1\" class=\"dataframe\">\n",
       "  <thead>\n",
       "    <tr>\n",
       "      <th></th>\n",
       "      <th colspan=\"8\" halign=\"left\">Volume (ml)</th>\n",
       "      <th colspan=\"5\" halign=\"left\">Calories</th>\n",
       "      <th colspan=\"8\" halign=\"left\">Caffeine (mg)</th>\n",
       "    </tr>\n",
       "    <tr>\n",
       "      <th></th>\n",
       "      <th>count</th>\n",
       "      <th>mean</th>\n",
       "      <th>std</th>\n",
       "      <th>min</th>\n",
       "      <th>25%</th>\n",
       "      <th>50%</th>\n",
       "      <th>75%</th>\n",
       "      <th>max</th>\n",
       "      <th>count</th>\n",
       "      <th>mean</th>\n",
       "      <th>...</th>\n",
       "      <th>75%</th>\n",
       "      <th>max</th>\n",
       "      <th>count</th>\n",
       "      <th>mean</th>\n",
       "      <th>std</th>\n",
       "      <th>min</th>\n",
       "      <th>25%</th>\n",
       "      <th>50%</th>\n",
       "      <th>75%</th>\n",
       "      <th>max</th>\n",
       "    </tr>\n",
       "    <tr>\n",
       "      <th>type</th>\n",
       "      <th></th>\n",
       "      <th></th>\n",
       "      <th></th>\n",
       "      <th></th>\n",
       "      <th></th>\n",
       "      <th></th>\n",
       "      <th></th>\n",
       "      <th></th>\n",
       "      <th></th>\n",
       "      <th></th>\n",
       "      <th></th>\n",
       "      <th></th>\n",
       "      <th></th>\n",
       "      <th></th>\n",
       "      <th></th>\n",
       "      <th></th>\n",
       "      <th></th>\n",
       "      <th></th>\n",
       "      <th></th>\n",
       "      <th></th>\n",
       "      <th></th>\n",
       "    </tr>\n",
       "  </thead>\n",
       "  <tbody>\n",
       "    <tr>\n",
       "      <th>Coffee</th>\n",
       "      <td>173.0</td>\n",
       "      <td>335.870855</td>\n",
       "      <td>159.716392</td>\n",
       "      <td>12.716605</td>\n",
       "      <td>236.588000</td>\n",
       "      <td>325.3085</td>\n",
       "      <td>473.176</td>\n",
       "      <td>1419.52800</td>\n",
       "      <td>173.0</td>\n",
       "      <td>73.497110</td>\n",
       "      <td>...</td>\n",
       "      <td>120.00</td>\n",
       "      <td>830.0</td>\n",
       "      <td>173.0</td>\n",
       "      <td>200.589595</td>\n",
       "      <td>248.222165</td>\n",
       "      <td>2.0</td>\n",
       "      <td>100.00</td>\n",
       "      <td>145.0</td>\n",
       "      <td>200.00</td>\n",
       "      <td>1555.0</td>\n",
       "    </tr>\n",
       "    <tr>\n",
       "      <th>Energy Drinks</th>\n",
       "      <td>219.0</td>\n",
       "      <td>388.971198</td>\n",
       "      <td>106.409997</td>\n",
       "      <td>236.588000</td>\n",
       "      <td>250.191810</td>\n",
       "      <td>354.8820</td>\n",
       "      <td>473.176</td>\n",
       "      <td>751.16690</td>\n",
       "      <td>219.0</td>\n",
       "      <td>86.671233</td>\n",
       "      <td>...</td>\n",
       "      <td>149.50</td>\n",
       "      <td>320.0</td>\n",
       "      <td>219.0</td>\n",
       "      <td>147.867580</td>\n",
       "      <td>76.734535</td>\n",
       "      <td>0.0</td>\n",
       "      <td>80.00</td>\n",
       "      <td>135.0</td>\n",
       "      <td>182.50</td>\n",
       "      <td>400.0</td>\n",
       "    </tr>\n",
       "    <tr>\n",
       "      <th>Energy Shots</th>\n",
       "      <td>36.0</td>\n",
       "      <td>57.742259</td>\n",
       "      <td>22.094888</td>\n",
       "      <td>7.393375</td>\n",
       "      <td>57.076855</td>\n",
       "      <td>59.1470</td>\n",
       "      <td>59.147</td>\n",
       "      <td>125.98311</td>\n",
       "      <td>36.0</td>\n",
       "      <td>16.500000</td>\n",
       "      <td>...</td>\n",
       "      <td>25.00</td>\n",
       "      <td>100.0</td>\n",
       "      <td>36.0</td>\n",
       "      <td>193.416667</td>\n",
       "      <td>79.535931</td>\n",
       "      <td>75.0</td>\n",
       "      <td>120.00</td>\n",
       "      <td>192.5</td>\n",
       "      <td>241.25</td>\n",
       "      <td>350.0</td>\n",
       "    </tr>\n",
       "    <tr>\n",
       "      <th>Soft Drinks</th>\n",
       "      <td>90.0</td>\n",
       "      <td>355.243454</td>\n",
       "      <td>41.509635</td>\n",
       "      <td>236.588000</td>\n",
       "      <td>354.882000</td>\n",
       "      <td>354.8820</td>\n",
       "      <td>354.882</td>\n",
       "      <td>591.47000</td>\n",
       "      <td>90.0</td>\n",
       "      <td>111.111111</td>\n",
       "      <td>...</td>\n",
       "      <td>160.00</td>\n",
       "      <td>320.0</td>\n",
       "      <td>90.0</td>\n",
       "      <td>33.677778</td>\n",
       "      <td>24.915961</td>\n",
       "      <td>0.0</td>\n",
       "      <td>9.25</td>\n",
       "      <td>37.0</td>\n",
       "      <td>47.75</td>\n",
       "      <td>102.0</td>\n",
       "    </tr>\n",
       "    <tr>\n",
       "      <th>Tea</th>\n",
       "      <td>66.0</td>\n",
       "      <td>360.474080</td>\n",
       "      <td>167.002318</td>\n",
       "      <td>177.441000</td>\n",
       "      <td>236.588000</td>\n",
       "      <td>236.5880</td>\n",
       "      <td>473.176</td>\n",
       "      <td>946.35200</td>\n",
       "      <td>66.0</td>\n",
       "      <td>52.757576</td>\n",
       "      <td>...</td>\n",
       "      <td>107.50</td>\n",
       "      <td>299.0</td>\n",
       "      <td>66.0</td>\n",
       "      <td>55.863636</td>\n",
       "      <td>39.333637</td>\n",
       "      <td>0.0</td>\n",
       "      <td>29.25</td>\n",
       "      <td>45.0</td>\n",
       "      <td>68.00</td>\n",
       "      <td>165.0</td>\n",
       "    </tr>\n",
       "    <tr>\n",
       "      <th>Water</th>\n",
       "      <td>26.0</td>\n",
       "      <td>394.590111</td>\n",
       "      <td>99.702740</td>\n",
       "      <td>236.588000</td>\n",
       "      <td>343.791938</td>\n",
       "      <td>354.8820</td>\n",
       "      <td>473.176</td>\n",
       "      <td>591.47000</td>\n",
       "      <td>26.0</td>\n",
       "      <td>11.538462</td>\n",
       "      <td>...</td>\n",
       "      <td>3.75</td>\n",
       "      <td>110.0</td>\n",
       "      <td>26.0</td>\n",
       "      <td>53.730769</td>\n",
       "      <td>34.060602</td>\n",
       "      <td>0.0</td>\n",
       "      <td>35.00</td>\n",
       "      <td>60.0</td>\n",
       "      <td>73.75</td>\n",
       "      <td>120.0</td>\n",
       "    </tr>\n",
       "  </tbody>\n",
       "</table>\n",
       "<p>6 rows × 24 columns</p>\n",
       "</div>"
      ],
      "text/plain": [
       "              Volume (ml)                                                  \\\n",
       "                    count        mean         std         min         25%   \n",
       "type                                                                        \n",
       "Coffee              173.0  335.870855  159.716392   12.716605  236.588000   \n",
       "Energy Drinks       219.0  388.971198  106.409997  236.588000  250.191810   \n",
       "Energy Shots         36.0   57.742259   22.094888    7.393375   57.076855   \n",
       "Soft Drinks          90.0  355.243454   41.509635  236.588000  354.882000   \n",
       "Tea                  66.0  360.474080  167.002318  177.441000  236.588000   \n",
       "Water                26.0  394.590111   99.702740  236.588000  343.791938   \n",
       "\n",
       "                                             Calories              ...  \\\n",
       "                    50%      75%         max    count        mean  ...   \n",
       "type                                                               ...   \n",
       "Coffee         325.3085  473.176  1419.52800    173.0   73.497110  ...   \n",
       "Energy Drinks  354.8820  473.176   751.16690    219.0   86.671233  ...   \n",
       "Energy Shots    59.1470   59.147   125.98311     36.0   16.500000  ...   \n",
       "Soft Drinks    354.8820  354.882   591.47000     90.0  111.111111  ...   \n",
       "Tea            236.5880  473.176   946.35200     66.0   52.757576  ...   \n",
       "Water          354.8820  473.176   591.47000     26.0   11.538462  ...   \n",
       "\n",
       "                             Caffeine (mg)                                \\\n",
       "                  75%    max         count        mean         std   min   \n",
       "type                                                                       \n",
       "Coffee         120.00  830.0         173.0  200.589595  248.222165   2.0   \n",
       "Energy Drinks  149.50  320.0         219.0  147.867580   76.734535   0.0   \n",
       "Energy Shots    25.00  100.0          36.0  193.416667   79.535931  75.0   \n",
       "Soft Drinks    160.00  320.0          90.0   33.677778   24.915961   0.0   \n",
       "Tea            107.50  299.0          66.0   55.863636   39.333637   0.0   \n",
       "Water            3.75  110.0          26.0   53.730769   34.060602   0.0   \n",
       "\n",
       "                                              \n",
       "                  25%    50%     75%     max  \n",
       "type                                          \n",
       "Coffee         100.00  145.0  200.00  1555.0  \n",
       "Energy Drinks   80.00  135.0  182.50   400.0  \n",
       "Energy Shots   120.00  192.5  241.25   350.0  \n",
       "Soft Drinks      9.25   37.0   47.75   102.0  \n",
       "Tea             29.25   45.0   68.00   165.0  \n",
       "Water           35.00   60.0   73.75   120.0  \n",
       "\n",
       "[6 rows x 24 columns]"
      ]
     },
     "execution_count": 11,
     "metadata": {},
     "output_type": "execute_result"
    }
   ],
   "source": [
    "caffeine.groupby(['type']).describe()"
   ]
  },
  {
   "cell_type": "markdown",
   "id": "ddcc0d9b",
   "metadata": {},
   "source": [
    "### Distribution of Drink Types"
   ]
  },
  {
   "cell_type": "code",
   "execution_count": 12,
   "id": "d0ac2073",
   "metadata": {},
   "outputs": [
    {
     "data": {
      "application/vnd.plotly.v1+json": {
       "config": {
        "plotlyServerURL": "https://plot.ly"
       },
       "data": [
        {
         "alignmentgroup": "True",
         "hovertemplate": "type=%{x}<br>drink=%{y}<extra></extra>",
         "legendgroup": "",
         "marker": {
          "color": "#636efa",
          "pattern": {
           "shape": ""
          }
         },
         "name": "",
         "offsetgroup": "",
         "orientation": "v",
         "showlegend": false,
         "textposition": "auto",
         "type": "bar",
         "x": [
          "Coffee",
          "Energy Drinks",
          "Energy Shots",
          "Soft Drinks",
          "Tea",
          "Water"
         ],
         "xaxis": "x",
         "y": [
          173,
          219,
          36,
          90,
          66,
          26
         ],
         "yaxis": "y"
        }
       ],
       "layout": {
        "barmode": "relative",
        "legend": {
         "tracegroupgap": 0
        },
        "template": {
         "data": {
          "bar": [
           {
            "error_x": {
             "color": "#2a3f5f"
            },
            "error_y": {
             "color": "#2a3f5f"
            },
            "marker": {
             "line": {
              "color": "#E5ECF6",
              "width": 0.5
             },
             "pattern": {
              "fillmode": "overlay",
              "size": 10,
              "solidity": 0.2
             }
            },
            "type": "bar"
           }
          ],
          "barpolar": [
           {
            "marker": {
             "line": {
              "color": "#E5ECF6",
              "width": 0.5
             },
             "pattern": {
              "fillmode": "overlay",
              "size": 10,
              "solidity": 0.2
             }
            },
            "type": "barpolar"
           }
          ],
          "carpet": [
           {
            "aaxis": {
             "endlinecolor": "#2a3f5f",
             "gridcolor": "white",
             "linecolor": "white",
             "minorgridcolor": "white",
             "startlinecolor": "#2a3f5f"
            },
            "baxis": {
             "endlinecolor": "#2a3f5f",
             "gridcolor": "white",
             "linecolor": "white",
             "minorgridcolor": "white",
             "startlinecolor": "#2a3f5f"
            },
            "type": "carpet"
           }
          ],
          "choropleth": [
           {
            "colorbar": {
             "outlinewidth": 0,
             "ticks": ""
            },
            "type": "choropleth"
           }
          ],
          "contour": [
           {
            "colorbar": {
             "outlinewidth": 0,
             "ticks": ""
            },
            "colorscale": [
             [
              0,
              "#0d0887"
             ],
             [
              0.1111111111111111,
              "#46039f"
             ],
             [
              0.2222222222222222,
              "#7201a8"
             ],
             [
              0.3333333333333333,
              "#9c179e"
             ],
             [
              0.4444444444444444,
              "#bd3786"
             ],
             [
              0.5555555555555556,
              "#d8576b"
             ],
             [
              0.6666666666666666,
              "#ed7953"
             ],
             [
              0.7777777777777778,
              "#fb9f3a"
             ],
             [
              0.8888888888888888,
              "#fdca26"
             ],
             [
              1,
              "#f0f921"
             ]
            ],
            "type": "contour"
           }
          ],
          "contourcarpet": [
           {
            "colorbar": {
             "outlinewidth": 0,
             "ticks": ""
            },
            "type": "contourcarpet"
           }
          ],
          "heatmap": [
           {
            "colorbar": {
             "outlinewidth": 0,
             "ticks": ""
            },
            "colorscale": [
             [
              0,
              "#0d0887"
             ],
             [
              0.1111111111111111,
              "#46039f"
             ],
             [
              0.2222222222222222,
              "#7201a8"
             ],
             [
              0.3333333333333333,
              "#9c179e"
             ],
             [
              0.4444444444444444,
              "#bd3786"
             ],
             [
              0.5555555555555556,
              "#d8576b"
             ],
             [
              0.6666666666666666,
              "#ed7953"
             ],
             [
              0.7777777777777778,
              "#fb9f3a"
             ],
             [
              0.8888888888888888,
              "#fdca26"
             ],
             [
              1,
              "#f0f921"
             ]
            ],
            "type": "heatmap"
           }
          ],
          "heatmapgl": [
           {
            "colorbar": {
             "outlinewidth": 0,
             "ticks": ""
            },
            "colorscale": [
             [
              0,
              "#0d0887"
             ],
             [
              0.1111111111111111,
              "#46039f"
             ],
             [
              0.2222222222222222,
              "#7201a8"
             ],
             [
              0.3333333333333333,
              "#9c179e"
             ],
             [
              0.4444444444444444,
              "#bd3786"
             ],
             [
              0.5555555555555556,
              "#d8576b"
             ],
             [
              0.6666666666666666,
              "#ed7953"
             ],
             [
              0.7777777777777778,
              "#fb9f3a"
             ],
             [
              0.8888888888888888,
              "#fdca26"
             ],
             [
              1,
              "#f0f921"
             ]
            ],
            "type": "heatmapgl"
           }
          ],
          "histogram": [
           {
            "marker": {
             "pattern": {
              "fillmode": "overlay",
              "size": 10,
              "solidity": 0.2
             }
            },
            "type": "histogram"
           }
          ],
          "histogram2d": [
           {
            "colorbar": {
             "outlinewidth": 0,
             "ticks": ""
            },
            "colorscale": [
             [
              0,
              "#0d0887"
             ],
             [
              0.1111111111111111,
              "#46039f"
             ],
             [
              0.2222222222222222,
              "#7201a8"
             ],
             [
              0.3333333333333333,
              "#9c179e"
             ],
             [
              0.4444444444444444,
              "#bd3786"
             ],
             [
              0.5555555555555556,
              "#d8576b"
             ],
             [
              0.6666666666666666,
              "#ed7953"
             ],
             [
              0.7777777777777778,
              "#fb9f3a"
             ],
             [
              0.8888888888888888,
              "#fdca26"
             ],
             [
              1,
              "#f0f921"
             ]
            ],
            "type": "histogram2d"
           }
          ],
          "histogram2dcontour": [
           {
            "colorbar": {
             "outlinewidth": 0,
             "ticks": ""
            },
            "colorscale": [
             [
              0,
              "#0d0887"
             ],
             [
              0.1111111111111111,
              "#46039f"
             ],
             [
              0.2222222222222222,
              "#7201a8"
             ],
             [
              0.3333333333333333,
              "#9c179e"
             ],
             [
              0.4444444444444444,
              "#bd3786"
             ],
             [
              0.5555555555555556,
              "#d8576b"
             ],
             [
              0.6666666666666666,
              "#ed7953"
             ],
             [
              0.7777777777777778,
              "#fb9f3a"
             ],
             [
              0.8888888888888888,
              "#fdca26"
             ],
             [
              1,
              "#f0f921"
             ]
            ],
            "type": "histogram2dcontour"
           }
          ],
          "mesh3d": [
           {
            "colorbar": {
             "outlinewidth": 0,
             "ticks": ""
            },
            "type": "mesh3d"
           }
          ],
          "parcoords": [
           {
            "line": {
             "colorbar": {
              "outlinewidth": 0,
              "ticks": ""
             }
            },
            "type": "parcoords"
           }
          ],
          "pie": [
           {
            "automargin": true,
            "type": "pie"
           }
          ],
          "scatter": [
           {
            "fillpattern": {
             "fillmode": "overlay",
             "size": 10,
             "solidity": 0.2
            },
            "type": "scatter"
           }
          ],
          "scatter3d": [
           {
            "line": {
             "colorbar": {
              "outlinewidth": 0,
              "ticks": ""
             }
            },
            "marker": {
             "colorbar": {
              "outlinewidth": 0,
              "ticks": ""
             }
            },
            "type": "scatter3d"
           }
          ],
          "scattercarpet": [
           {
            "marker": {
             "colorbar": {
              "outlinewidth": 0,
              "ticks": ""
             }
            },
            "type": "scattercarpet"
           }
          ],
          "scattergeo": [
           {
            "marker": {
             "colorbar": {
              "outlinewidth": 0,
              "ticks": ""
             }
            },
            "type": "scattergeo"
           }
          ],
          "scattergl": [
           {
            "marker": {
             "colorbar": {
              "outlinewidth": 0,
              "ticks": ""
             }
            },
            "type": "scattergl"
           }
          ],
          "scattermapbox": [
           {
            "marker": {
             "colorbar": {
              "outlinewidth": 0,
              "ticks": ""
             }
            },
            "type": "scattermapbox"
           }
          ],
          "scatterpolar": [
           {
            "marker": {
             "colorbar": {
              "outlinewidth": 0,
              "ticks": ""
             }
            },
            "type": "scatterpolar"
           }
          ],
          "scatterpolargl": [
           {
            "marker": {
             "colorbar": {
              "outlinewidth": 0,
              "ticks": ""
             }
            },
            "type": "scatterpolargl"
           }
          ],
          "scatterternary": [
           {
            "marker": {
             "colorbar": {
              "outlinewidth": 0,
              "ticks": ""
             }
            },
            "type": "scatterternary"
           }
          ],
          "surface": [
           {
            "colorbar": {
             "outlinewidth": 0,
             "ticks": ""
            },
            "colorscale": [
             [
              0,
              "#0d0887"
             ],
             [
              0.1111111111111111,
              "#46039f"
             ],
             [
              0.2222222222222222,
              "#7201a8"
             ],
             [
              0.3333333333333333,
              "#9c179e"
             ],
             [
              0.4444444444444444,
              "#bd3786"
             ],
             [
              0.5555555555555556,
              "#d8576b"
             ],
             [
              0.6666666666666666,
              "#ed7953"
             ],
             [
              0.7777777777777778,
              "#fb9f3a"
             ],
             [
              0.8888888888888888,
              "#fdca26"
             ],
             [
              1,
              "#f0f921"
             ]
            ],
            "type": "surface"
           }
          ],
          "table": [
           {
            "cells": {
             "fill": {
              "color": "#EBF0F8"
             },
             "line": {
              "color": "white"
             }
            },
            "header": {
             "fill": {
              "color": "#C8D4E3"
             },
             "line": {
              "color": "white"
             }
            },
            "type": "table"
           }
          ]
         },
         "layout": {
          "annotationdefaults": {
           "arrowcolor": "#2a3f5f",
           "arrowhead": 0,
           "arrowwidth": 1
          },
          "autotypenumbers": "strict",
          "coloraxis": {
           "colorbar": {
            "outlinewidth": 0,
            "ticks": ""
           }
          },
          "colorscale": {
           "diverging": [
            [
             0,
             "#8e0152"
            ],
            [
             0.1,
             "#c51b7d"
            ],
            [
             0.2,
             "#de77ae"
            ],
            [
             0.3,
             "#f1b6da"
            ],
            [
             0.4,
             "#fde0ef"
            ],
            [
             0.5,
             "#f7f7f7"
            ],
            [
             0.6,
             "#e6f5d0"
            ],
            [
             0.7,
             "#b8e186"
            ],
            [
             0.8,
             "#7fbc41"
            ],
            [
             0.9,
             "#4d9221"
            ],
            [
             1,
             "#276419"
            ]
           ],
           "sequential": [
            [
             0,
             "#0d0887"
            ],
            [
             0.1111111111111111,
             "#46039f"
            ],
            [
             0.2222222222222222,
             "#7201a8"
            ],
            [
             0.3333333333333333,
             "#9c179e"
            ],
            [
             0.4444444444444444,
             "#bd3786"
            ],
            [
             0.5555555555555556,
             "#d8576b"
            ],
            [
             0.6666666666666666,
             "#ed7953"
            ],
            [
             0.7777777777777778,
             "#fb9f3a"
            ],
            [
             0.8888888888888888,
             "#fdca26"
            ],
            [
             1,
             "#f0f921"
            ]
           ],
           "sequentialminus": [
            [
             0,
             "#0d0887"
            ],
            [
             0.1111111111111111,
             "#46039f"
            ],
            [
             0.2222222222222222,
             "#7201a8"
            ],
            [
             0.3333333333333333,
             "#9c179e"
            ],
            [
             0.4444444444444444,
             "#bd3786"
            ],
            [
             0.5555555555555556,
             "#d8576b"
            ],
            [
             0.6666666666666666,
             "#ed7953"
            ],
            [
             0.7777777777777778,
             "#fb9f3a"
            ],
            [
             0.8888888888888888,
             "#fdca26"
            ],
            [
             1,
             "#f0f921"
            ]
           ]
          },
          "colorway": [
           "#636efa",
           "#EF553B",
           "#00cc96",
           "#ab63fa",
           "#FFA15A",
           "#19d3f3",
           "#FF6692",
           "#B6E880",
           "#FF97FF",
           "#FECB52"
          ],
          "font": {
           "color": "#2a3f5f"
          },
          "geo": {
           "bgcolor": "white",
           "lakecolor": "white",
           "landcolor": "#E5ECF6",
           "showlakes": true,
           "showland": true,
           "subunitcolor": "white"
          },
          "hoverlabel": {
           "align": "left"
          },
          "hovermode": "closest",
          "mapbox": {
           "style": "light"
          },
          "paper_bgcolor": "white",
          "plot_bgcolor": "#E5ECF6",
          "polar": {
           "angularaxis": {
            "gridcolor": "white",
            "linecolor": "white",
            "ticks": ""
           },
           "bgcolor": "#E5ECF6",
           "radialaxis": {
            "gridcolor": "white",
            "linecolor": "white",
            "ticks": ""
           }
          },
          "scene": {
           "xaxis": {
            "backgroundcolor": "#E5ECF6",
            "gridcolor": "white",
            "gridwidth": 2,
            "linecolor": "white",
            "showbackground": true,
            "ticks": "",
            "zerolinecolor": "white"
           },
           "yaxis": {
            "backgroundcolor": "#E5ECF6",
            "gridcolor": "white",
            "gridwidth": 2,
            "linecolor": "white",
            "showbackground": true,
            "ticks": "",
            "zerolinecolor": "white"
           },
           "zaxis": {
            "backgroundcolor": "#E5ECF6",
            "gridcolor": "white",
            "gridwidth": 2,
            "linecolor": "white",
            "showbackground": true,
            "ticks": "",
            "zerolinecolor": "white"
           }
          },
          "shapedefaults": {
           "line": {
            "color": "#2a3f5f"
           }
          },
          "ternary": {
           "aaxis": {
            "gridcolor": "white",
            "linecolor": "white",
            "ticks": ""
           },
           "baxis": {
            "gridcolor": "white",
            "linecolor": "white",
            "ticks": ""
           },
           "bgcolor": "#E5ECF6",
           "caxis": {
            "gridcolor": "white",
            "linecolor": "white",
            "ticks": ""
           }
          },
          "title": {
           "x": 0.05
          },
          "xaxis": {
           "automargin": true,
           "gridcolor": "white",
           "linecolor": "white",
           "ticks": "",
           "title": {
            "standoff": 15
           },
           "zerolinecolor": "white",
           "zerolinewidth": 2
          },
          "yaxis": {
           "automargin": true,
           "gridcolor": "white",
           "linecolor": "white",
           "ticks": "",
           "title": {
            "standoff": 15
           },
           "zerolinecolor": "white",
           "zerolinewidth": 2
          }
         }
        },
        "title": {
         "text": "Count of Drink Types"
        },
        "xaxis": {
         "anchor": "y",
         "categoryorder": "total descending",
         "domain": [
          0,
          1
         ],
         "title": {
          "text": "type"
         }
        },
        "yaxis": {
         "anchor": "x",
         "domain": [
          0,
          1
         ],
         "title": {
          "text": "drink"
         }
        }
       }
      }
     },
     "metadata": {},
     "output_type": "display_data"
    }
   ],
   "source": [
    "caffeine_gb = caffeine.groupby([\"type\"]).count()\n",
    "fig = px.bar(caffeine_gb, \n",
    "             x=caffeine_gb.index, \n",
    "             y=\"drink\", \n",
    "             title='Count of Drink Types')\n",
    "fig.update_layout(xaxis={'categoryorder':'total descending'})\n",
    "fig.show()"
   ]
  },
  {
   "cell_type": "markdown",
   "id": "4bfef21f",
   "metadata": {},
   "source": [
    "### Histogram - Volume (ml)"
   ]
  },
  {
   "cell_type": "code",
   "execution_count": 13,
   "id": "7e93092d",
   "metadata": {},
   "outputs": [
    {
     "data": {
      "application/vnd.plotly.v1+json": {
       "config": {
        "plotlyServerURL": "https://plot.ly"
       },
       "data": [
        {
         "alignmentgroup": "True",
         "bingroup": "x",
         "hovertemplate": "Volume (ml)=%{x}<br>count=%{y}<extra></extra>",
         "legendgroup": "",
         "marker": {
          "color": "#636efa",
          "pattern": {
           "shape": ""
          }
         },
         "name": "",
         "offsetgroup": "",
         "orientation": "v",
         "showlegend": false,
         "type": "histogram",
         "x": [
          256.99371499999995,
          250.19181000000003,
          250.19181000000003,
          250.19181000000003,
          250.19181000000003,
          248.4174,
          239.54535,
          201.0998,
          192.22775,
          150.82485,
          78.96124499999999,
          517.53625,
          500.087885,
          500.087885,
          500.087885,
          405.15695,
          405.15695,
          405.15695,
          405.15695,
          340.09525,
          340.09525,
          340.09525,
          310.52175,
          44.36025,
          44.36025,
          44.36025,
          39.924225,
          39.924225,
          12.716605,
          1419.528,
          709.764,
          709.764,
          709.764,
          709.764,
          591.47,
          591.47,
          473.176,
          473.176,
          473.176,
          473.176,
          473.176,
          473.176,
          473.176,
          473.176,
          473.176,
          473.176,
          473.176,
          473.176,
          473.176,
          473.176,
          473.176,
          473.176,
          473.176,
          473.176,
          473.176,
          473.176,
          473.176,
          473.176,
          473.176,
          473.176,
          473.176,
          473.176,
          473.176,
          473.176,
          473.176,
          473.176,
          473.176,
          473.176,
          473.176,
          473.176,
          473.176,
          443.6025,
          443.6025,
          443.6025,
          414.029,
          414.029,
          414.029,
          414.029,
          414.029,
          414.029,
          354.882,
          354.882,
          354.882,
          354.882,
          354.882,
          354.882,
          354.882,
          354.882,
          354.882,
          354.882,
          354.882,
          354.882,
          354.882,
          354.882,
          354.882,
          354.882,
          354.882,
          354.882,
          354.882,
          354.882,
          354.882,
          354.882,
          354.882,
          325.3085,
          325.3085,
          325.3085,
          325.3085,
          325.3085,
          325.3085,
          325.3085,
          325.3085,
          325.3085,
          295.735,
          295.735,
          295.735,
          295.735,
          266.1615,
          266.1615,
          236.588,
          236.588,
          236.588,
          236.588,
          236.588,
          236.588,
          236.588,
          236.588,
          236.588,
          236.588,
          236.588,
          236.588,
          236.588,
          236.588,
          236.588,
          236.588,
          236.588,
          236.588,
          236.588,
          236.588,
          236.588,
          236.588,
          236.588,
          236.588,
          236.588,
          236.588,
          236.588,
          236.588,
          236.588,
          236.588,
          236.588,
          236.588,
          236.588,
          236.588,
          236.588,
          236.588,
          236.588,
          236.588,
          236.588,
          236.588,
          236.588,
          236.588,
          236.588,
          236.588,
          207.0145,
          177.441,
          177.441,
          177.441,
          177.441,
          177.441,
          177.441,
          59.975058,
          59.147,
          59.147,
          59.147,
          250.19181000000003,
          250.19181000000003,
          250.19181000000003,
          250.19181000000003,
          250.19181000000003,
          250.19181000000003,
          250.19181000000003,
          250.19181000000003,
          250.19181000000003,
          250.19181000000003,
          250.19181000000003,
          250.19181000000003,
          250.19181000000003,
          250.19181000000003,
          250.19181000000003,
          250.19181000000003,
          250.19181000000003,
          250.19181000000003,
          250.19181000000003,
          250.19181000000003,
          250.19181000000003,
          250.19181000000003,
          250.19181000000003,
          250.19181000000003,
          250.19181000000003,
          250.19181000000003,
          250.19181000000003,
          250.19181000000003,
          250.19181000000003,
          249.896075,
          249.896075,
          249.896075,
          249.896075,
          249.304605,
          248.4174,
          248.4174,
          248.4174,
          248.4174,
          247.23446,
          245.46005,
          245.46005,
          751.1668999999999,
          550.0671,
          500.97509,
          500.087885,
          500.087885,
          500.087885,
          500.087885,
          500.087885,
          500.087885,
          500.087885,
          500.087885,
          499.79215,
          499.79215,
          499.79215,
          499.79215,
          499.79215,
          458.38925,
          458.38925,
          428.81575,
          380.019475,
          370.26022,
          340.09525,
          339.208045,
          330.335995,
          330.04026,
          330.04026,
          330.04026,
          328.26585,
          709.764,
          650.617,
          591.47,
          591.47,
          532.323,
          532.323,
          502.7495,
          473.176,
          473.176,
          473.176,
          473.176,
          473.176,
          473.176,
          473.176,
          473.176,
          473.176,
          473.176,
          473.176,
          473.176,
          473.176,
          473.176,
          473.176,
          473.176,
          473.176,
          473.176,
          473.176,
          473.176,
          473.176,
          473.176,
          473.176,
          473.176,
          473.176,
          473.176,
          473.176,
          473.176,
          473.176,
          473.176,
          473.176,
          473.176,
          473.176,
          473.176,
          473.176,
          473.176,
          473.176,
          473.176,
          473.176,
          473.176,
          473.176,
          473.176,
          473.176,
          473.176,
          473.176,
          473.176,
          473.176,
          473.176,
          473.176,
          473.176,
          473.176,
          473.176,
          473.176,
          473.176,
          473.176,
          473.176,
          473.176,
          473.176,
          473.176,
          473.176,
          473.176,
          473.176,
          473.176,
          473.176,
          473.176,
          473.176,
          473.176,
          473.176,
          473.176,
          473.176,
          473.176,
          473.176,
          473.176,
          473.176,
          473.176,
          473.176,
          443.6025,
          443.6025,
          443.6025,
          443.6025,
          443.6025,
          354.882,
          354.882,
          354.882,
          354.882,
          354.882,
          354.882,
          354.882,
          354.882,
          354.882,
          354.882,
          354.882,
          354.882,
          354.882,
          354.882,
          354.882,
          354.882,
          354.882,
          354.882,
          354.882,
          354.882,
          354.882,
          354.882,
          354.882,
          354.882,
          354.882,
          354.882,
          354.882,
          354.882,
          354.882,
          354.882,
          354.882,
          354.882,
          354.882,
          354.882,
          354.882,
          354.882,
          354.882,
          354.882,
          354.882,
          354.882,
          354.882,
          354.882,
          354.882,
          295.735,
          295.735,
          295.735,
          236.588,
          236.588,
          236.588,
          236.588,
          236.588,
          236.588,
          236.588,
          236.588,
          236.588,
          236.588,
          236.588,
          236.588,
          236.588,
          236.588,
          236.588,
          236.588,
          125.98311,
          100.5499,
          73.93375,
          73.93375,
          57.076855,
          57.076855,
          57.076855,
          57.076855,
          57.076855,
          57.076855,
          53.2323,
          49.979215,
          35.4882,
          18.039835,
          14.78675,
          7.393375,
          88.7205,
          88.7205,
          59.147,
          59.147,
          59.147,
          59.147,
          59.147,
          59.147,
          59.147,
          59.147,
          59.147,
          59.147,
          59.147,
          59.147,
          59.147,
          59.147,
          59.147,
          59.147,
          29.5735,
          29.5735,
          250.19181000000003,
          330.04026,
          330.04026,
          330.04026,
          330.04026,
          591.47,
          473.176,
          473.176,
          473.176,
          354.882,
          354.882,
          354.882,
          354.882,
          354.882,
          354.882,
          354.882,
          354.882,
          354.882,
          354.882,
          354.882,
          354.882,
          354.882,
          354.882,
          354.882,
          354.882,
          354.882,
          354.882,
          354.882,
          354.882,
          354.882,
          354.882,
          354.882,
          354.882,
          354.882,
          354.882,
          354.882,
          354.882,
          354.882,
          354.882,
          354.882,
          354.882,
          354.882,
          354.882,
          354.882,
          354.882,
          354.882,
          354.882,
          354.882,
          354.882,
          354.882,
          354.882,
          354.882,
          354.882,
          354.882,
          354.882,
          354.882,
          354.882,
          354.882,
          354.882,
          354.882,
          354.882,
          354.882,
          354.882,
          354.882,
          354.882,
          354.882,
          354.882,
          354.882,
          354.882,
          354.882,
          354.882,
          354.882,
          354.882,
          354.882,
          354.882,
          354.882,
          354.882,
          354.882,
          354.882,
          354.882,
          354.882,
          354.882,
          354.882,
          354.882,
          354.882,
          354.882,
          354.882,
          236.588,
          236.588,
          236.588,
          200.50833,
          189.2704,
          694.97725,
          547.10975,
          547.10975,
          499.79215,
          499.79215,
          499.79215,
          499.79215,
          458.38925,
          458.38925,
          449.5172,
          946.352,
          709.764,
          709.764,
          680.1904999999999,
          591.47,
          591.47,
          473.176,
          473.176,
          473.176,
          473.176,
          473.176,
          473.176,
          473.176,
          473.176,
          473.176,
          414.029,
          354.882,
          354.882,
          354.882,
          354.882,
          236.588,
          236.588,
          236.588,
          236.588,
          236.588,
          236.588,
          236.588,
          236.588,
          236.588,
          236.588,
          236.588,
          236.588,
          236.588,
          236.588,
          236.588,
          236.588,
          236.588,
          236.588,
          236.588,
          236.588,
          236.588,
          236.588,
          236.588,
          236.588,
          236.588,
          236.588,
          236.588,
          236.588,
          236.588,
          236.588,
          236.588,
          236.588,
          177.441,
          177.441,
          250.19181000000003,
          499.79215,
          499.79215,
          340.09525,
          340.09525,
          340.09525,
          329.744525,
          591.47,
          591.47,
          591.47,
          502.7495,
          473.176,
          473.176,
          354.882,
          354.882,
          354.882,
          354.882,
          354.882,
          354.882,
          354.882,
          354.882,
          354.882,
          354.882,
          354.882,
          295.735,
          236.588
         ],
         "xaxis": "x",
         "yaxis": "y"
        }
       ],
       "layout": {
        "barmode": "relative",
        "legend": {
         "tracegroupgap": 0
        },
        "template": {
         "data": {
          "bar": [
           {
            "error_x": {
             "color": "#2a3f5f"
            },
            "error_y": {
             "color": "#2a3f5f"
            },
            "marker": {
             "line": {
              "color": "#E5ECF6",
              "width": 0.5
             },
             "pattern": {
              "fillmode": "overlay",
              "size": 10,
              "solidity": 0.2
             }
            },
            "type": "bar"
           }
          ],
          "barpolar": [
           {
            "marker": {
             "line": {
              "color": "#E5ECF6",
              "width": 0.5
             },
             "pattern": {
              "fillmode": "overlay",
              "size": 10,
              "solidity": 0.2
             }
            },
            "type": "barpolar"
           }
          ],
          "carpet": [
           {
            "aaxis": {
             "endlinecolor": "#2a3f5f",
             "gridcolor": "white",
             "linecolor": "white",
             "minorgridcolor": "white",
             "startlinecolor": "#2a3f5f"
            },
            "baxis": {
             "endlinecolor": "#2a3f5f",
             "gridcolor": "white",
             "linecolor": "white",
             "minorgridcolor": "white",
             "startlinecolor": "#2a3f5f"
            },
            "type": "carpet"
           }
          ],
          "choropleth": [
           {
            "colorbar": {
             "outlinewidth": 0,
             "ticks": ""
            },
            "type": "choropleth"
           }
          ],
          "contour": [
           {
            "colorbar": {
             "outlinewidth": 0,
             "ticks": ""
            },
            "colorscale": [
             [
              0,
              "#0d0887"
             ],
             [
              0.1111111111111111,
              "#46039f"
             ],
             [
              0.2222222222222222,
              "#7201a8"
             ],
             [
              0.3333333333333333,
              "#9c179e"
             ],
             [
              0.4444444444444444,
              "#bd3786"
             ],
             [
              0.5555555555555556,
              "#d8576b"
             ],
             [
              0.6666666666666666,
              "#ed7953"
             ],
             [
              0.7777777777777778,
              "#fb9f3a"
             ],
             [
              0.8888888888888888,
              "#fdca26"
             ],
             [
              1,
              "#f0f921"
             ]
            ],
            "type": "contour"
           }
          ],
          "contourcarpet": [
           {
            "colorbar": {
             "outlinewidth": 0,
             "ticks": ""
            },
            "type": "contourcarpet"
           }
          ],
          "heatmap": [
           {
            "colorbar": {
             "outlinewidth": 0,
             "ticks": ""
            },
            "colorscale": [
             [
              0,
              "#0d0887"
             ],
             [
              0.1111111111111111,
              "#46039f"
             ],
             [
              0.2222222222222222,
              "#7201a8"
             ],
             [
              0.3333333333333333,
              "#9c179e"
             ],
             [
              0.4444444444444444,
              "#bd3786"
             ],
             [
              0.5555555555555556,
              "#d8576b"
             ],
             [
              0.6666666666666666,
              "#ed7953"
             ],
             [
              0.7777777777777778,
              "#fb9f3a"
             ],
             [
              0.8888888888888888,
              "#fdca26"
             ],
             [
              1,
              "#f0f921"
             ]
            ],
            "type": "heatmap"
           }
          ],
          "heatmapgl": [
           {
            "colorbar": {
             "outlinewidth": 0,
             "ticks": ""
            },
            "colorscale": [
             [
              0,
              "#0d0887"
             ],
             [
              0.1111111111111111,
              "#46039f"
             ],
             [
              0.2222222222222222,
              "#7201a8"
             ],
             [
              0.3333333333333333,
              "#9c179e"
             ],
             [
              0.4444444444444444,
              "#bd3786"
             ],
             [
              0.5555555555555556,
              "#d8576b"
             ],
             [
              0.6666666666666666,
              "#ed7953"
             ],
             [
              0.7777777777777778,
              "#fb9f3a"
             ],
             [
              0.8888888888888888,
              "#fdca26"
             ],
             [
              1,
              "#f0f921"
             ]
            ],
            "type": "heatmapgl"
           }
          ],
          "histogram": [
           {
            "marker": {
             "pattern": {
              "fillmode": "overlay",
              "size": 10,
              "solidity": 0.2
             }
            },
            "type": "histogram"
           }
          ],
          "histogram2d": [
           {
            "colorbar": {
             "outlinewidth": 0,
             "ticks": ""
            },
            "colorscale": [
             [
              0,
              "#0d0887"
             ],
             [
              0.1111111111111111,
              "#46039f"
             ],
             [
              0.2222222222222222,
              "#7201a8"
             ],
             [
              0.3333333333333333,
              "#9c179e"
             ],
             [
              0.4444444444444444,
              "#bd3786"
             ],
             [
              0.5555555555555556,
              "#d8576b"
             ],
             [
              0.6666666666666666,
              "#ed7953"
             ],
             [
              0.7777777777777778,
              "#fb9f3a"
             ],
             [
              0.8888888888888888,
              "#fdca26"
             ],
             [
              1,
              "#f0f921"
             ]
            ],
            "type": "histogram2d"
           }
          ],
          "histogram2dcontour": [
           {
            "colorbar": {
             "outlinewidth": 0,
             "ticks": ""
            },
            "colorscale": [
             [
              0,
              "#0d0887"
             ],
             [
              0.1111111111111111,
              "#46039f"
             ],
             [
              0.2222222222222222,
              "#7201a8"
             ],
             [
              0.3333333333333333,
              "#9c179e"
             ],
             [
              0.4444444444444444,
              "#bd3786"
             ],
             [
              0.5555555555555556,
              "#d8576b"
             ],
             [
              0.6666666666666666,
              "#ed7953"
             ],
             [
              0.7777777777777778,
              "#fb9f3a"
             ],
             [
              0.8888888888888888,
              "#fdca26"
             ],
             [
              1,
              "#f0f921"
             ]
            ],
            "type": "histogram2dcontour"
           }
          ],
          "mesh3d": [
           {
            "colorbar": {
             "outlinewidth": 0,
             "ticks": ""
            },
            "type": "mesh3d"
           }
          ],
          "parcoords": [
           {
            "line": {
             "colorbar": {
              "outlinewidth": 0,
              "ticks": ""
             }
            },
            "type": "parcoords"
           }
          ],
          "pie": [
           {
            "automargin": true,
            "type": "pie"
           }
          ],
          "scatter": [
           {
            "fillpattern": {
             "fillmode": "overlay",
             "size": 10,
             "solidity": 0.2
            },
            "type": "scatter"
           }
          ],
          "scatter3d": [
           {
            "line": {
             "colorbar": {
              "outlinewidth": 0,
              "ticks": ""
             }
            },
            "marker": {
             "colorbar": {
              "outlinewidth": 0,
              "ticks": ""
             }
            },
            "type": "scatter3d"
           }
          ],
          "scattercarpet": [
           {
            "marker": {
             "colorbar": {
              "outlinewidth": 0,
              "ticks": ""
             }
            },
            "type": "scattercarpet"
           }
          ],
          "scattergeo": [
           {
            "marker": {
             "colorbar": {
              "outlinewidth": 0,
              "ticks": ""
             }
            },
            "type": "scattergeo"
           }
          ],
          "scattergl": [
           {
            "marker": {
             "colorbar": {
              "outlinewidth": 0,
              "ticks": ""
             }
            },
            "type": "scattergl"
           }
          ],
          "scattermapbox": [
           {
            "marker": {
             "colorbar": {
              "outlinewidth": 0,
              "ticks": ""
             }
            },
            "type": "scattermapbox"
           }
          ],
          "scatterpolar": [
           {
            "marker": {
             "colorbar": {
              "outlinewidth": 0,
              "ticks": ""
             }
            },
            "type": "scatterpolar"
           }
          ],
          "scatterpolargl": [
           {
            "marker": {
             "colorbar": {
              "outlinewidth": 0,
              "ticks": ""
             }
            },
            "type": "scatterpolargl"
           }
          ],
          "scatterternary": [
           {
            "marker": {
             "colorbar": {
              "outlinewidth": 0,
              "ticks": ""
             }
            },
            "type": "scatterternary"
           }
          ],
          "surface": [
           {
            "colorbar": {
             "outlinewidth": 0,
             "ticks": ""
            },
            "colorscale": [
             [
              0,
              "#0d0887"
             ],
             [
              0.1111111111111111,
              "#46039f"
             ],
             [
              0.2222222222222222,
              "#7201a8"
             ],
             [
              0.3333333333333333,
              "#9c179e"
             ],
             [
              0.4444444444444444,
              "#bd3786"
             ],
             [
              0.5555555555555556,
              "#d8576b"
             ],
             [
              0.6666666666666666,
              "#ed7953"
             ],
             [
              0.7777777777777778,
              "#fb9f3a"
             ],
             [
              0.8888888888888888,
              "#fdca26"
             ],
             [
              1,
              "#f0f921"
             ]
            ],
            "type": "surface"
           }
          ],
          "table": [
           {
            "cells": {
             "fill": {
              "color": "#EBF0F8"
             },
             "line": {
              "color": "white"
             }
            },
            "header": {
             "fill": {
              "color": "#C8D4E3"
             },
             "line": {
              "color": "white"
             }
            },
            "type": "table"
           }
          ]
         },
         "layout": {
          "annotationdefaults": {
           "arrowcolor": "#2a3f5f",
           "arrowhead": 0,
           "arrowwidth": 1
          },
          "autotypenumbers": "strict",
          "coloraxis": {
           "colorbar": {
            "outlinewidth": 0,
            "ticks": ""
           }
          },
          "colorscale": {
           "diverging": [
            [
             0,
             "#8e0152"
            ],
            [
             0.1,
             "#c51b7d"
            ],
            [
             0.2,
             "#de77ae"
            ],
            [
             0.3,
             "#f1b6da"
            ],
            [
             0.4,
             "#fde0ef"
            ],
            [
             0.5,
             "#f7f7f7"
            ],
            [
             0.6,
             "#e6f5d0"
            ],
            [
             0.7,
             "#b8e186"
            ],
            [
             0.8,
             "#7fbc41"
            ],
            [
             0.9,
             "#4d9221"
            ],
            [
             1,
             "#276419"
            ]
           ],
           "sequential": [
            [
             0,
             "#0d0887"
            ],
            [
             0.1111111111111111,
             "#46039f"
            ],
            [
             0.2222222222222222,
             "#7201a8"
            ],
            [
             0.3333333333333333,
             "#9c179e"
            ],
            [
             0.4444444444444444,
             "#bd3786"
            ],
            [
             0.5555555555555556,
             "#d8576b"
            ],
            [
             0.6666666666666666,
             "#ed7953"
            ],
            [
             0.7777777777777778,
             "#fb9f3a"
            ],
            [
             0.8888888888888888,
             "#fdca26"
            ],
            [
             1,
             "#f0f921"
            ]
           ],
           "sequentialminus": [
            [
             0,
             "#0d0887"
            ],
            [
             0.1111111111111111,
             "#46039f"
            ],
            [
             0.2222222222222222,
             "#7201a8"
            ],
            [
             0.3333333333333333,
             "#9c179e"
            ],
            [
             0.4444444444444444,
             "#bd3786"
            ],
            [
             0.5555555555555556,
             "#d8576b"
            ],
            [
             0.6666666666666666,
             "#ed7953"
            ],
            [
             0.7777777777777778,
             "#fb9f3a"
            ],
            [
             0.8888888888888888,
             "#fdca26"
            ],
            [
             1,
             "#f0f921"
            ]
           ]
          },
          "colorway": [
           "#636efa",
           "#EF553B",
           "#00cc96",
           "#ab63fa",
           "#FFA15A",
           "#19d3f3",
           "#FF6692",
           "#B6E880",
           "#FF97FF",
           "#FECB52"
          ],
          "font": {
           "color": "#2a3f5f"
          },
          "geo": {
           "bgcolor": "white",
           "lakecolor": "white",
           "landcolor": "#E5ECF6",
           "showlakes": true,
           "showland": true,
           "subunitcolor": "white"
          },
          "hoverlabel": {
           "align": "left"
          },
          "hovermode": "closest",
          "mapbox": {
           "style": "light"
          },
          "paper_bgcolor": "white",
          "plot_bgcolor": "#E5ECF6",
          "polar": {
           "angularaxis": {
            "gridcolor": "white",
            "linecolor": "white",
            "ticks": ""
           },
           "bgcolor": "#E5ECF6",
           "radialaxis": {
            "gridcolor": "white",
            "linecolor": "white",
            "ticks": ""
           }
          },
          "scene": {
           "xaxis": {
            "backgroundcolor": "#E5ECF6",
            "gridcolor": "white",
            "gridwidth": 2,
            "linecolor": "white",
            "showbackground": true,
            "ticks": "",
            "zerolinecolor": "white"
           },
           "yaxis": {
            "backgroundcolor": "#E5ECF6",
            "gridcolor": "white",
            "gridwidth": 2,
            "linecolor": "white",
            "showbackground": true,
            "ticks": "",
            "zerolinecolor": "white"
           },
           "zaxis": {
            "backgroundcolor": "#E5ECF6",
            "gridcolor": "white",
            "gridwidth": 2,
            "linecolor": "white",
            "showbackground": true,
            "ticks": "",
            "zerolinecolor": "white"
           }
          },
          "shapedefaults": {
           "line": {
            "color": "#2a3f5f"
           }
          },
          "ternary": {
           "aaxis": {
            "gridcolor": "white",
            "linecolor": "white",
            "ticks": ""
           },
           "baxis": {
            "gridcolor": "white",
            "linecolor": "white",
            "ticks": ""
           },
           "bgcolor": "#E5ECF6",
           "caxis": {
            "gridcolor": "white",
            "linecolor": "white",
            "ticks": ""
           }
          },
          "title": {
           "x": 0.05
          },
          "xaxis": {
           "automargin": true,
           "gridcolor": "white",
           "linecolor": "white",
           "ticks": "",
           "title": {
            "standoff": 15
           },
           "zerolinecolor": "white",
           "zerolinewidth": 2
          },
          "yaxis": {
           "automargin": true,
           "gridcolor": "white",
           "linecolor": "white",
           "ticks": "",
           "title": {
            "standoff": 15
           },
           "zerolinecolor": "white",
           "zerolinewidth": 2
          }
         }
        },
        "title": {
         "text": "Distribution of Volume"
        },
        "xaxis": {
         "anchor": "y",
         "domain": [
          0,
          1
         ],
         "title": {
          "text": "Volume (ml)"
         }
        },
        "yaxis": {
         "anchor": "x",
         "domain": [
          0,
          1
         ],
         "title": {
          "text": "count"
         }
        }
       }
      }
     },
     "metadata": {},
     "output_type": "display_data"
    }
   ],
   "source": [
    "px.histogram(caffeine, \n",
    "             x = 'Volume (ml)', \n",
    "             title='Distribution of Volume')"
   ]
  },
  {
   "cell_type": "markdown",
   "id": "afdbd850",
   "metadata": {},
   "source": [
    "The right tail of the histogram for Volume (ml) is pretty long. Let's zoom in and look at a histogram of volumes > 800 ml."
   ]
  },
  {
   "cell_type": "code",
   "execution_count": 14,
   "id": "29eaf68a",
   "metadata": {},
   "outputs": [
    {
     "data": {
      "text/html": [
       "<div>\n",
       "<style scoped>\n",
       "    .dataframe tbody tr th:only-of-type {\n",
       "        vertical-align: middle;\n",
       "    }\n",
       "\n",
       "    .dataframe tbody tr th {\n",
       "        vertical-align: top;\n",
       "    }\n",
       "\n",
       "    .dataframe thead th {\n",
       "        text-align: right;\n",
       "    }\n",
       "</style>\n",
       "<table border=\"1\" class=\"dataframe\">\n",
       "  <thead>\n",
       "    <tr style=\"text-align: right;\">\n",
       "      <th></th>\n",
       "      <th>drink</th>\n",
       "      <th>Volume (ml)</th>\n",
       "      <th>Calories</th>\n",
       "      <th>Caffeine (mg)</th>\n",
       "      <th>type</th>\n",
       "    </tr>\n",
       "  </thead>\n",
       "  <tbody>\n",
       "    <tr>\n",
       "      <th>29</th>\n",
       "      <td>Starbucks Bottled Iced Coffee</td>\n",
       "      <td>1419.528</td>\n",
       "      <td>240</td>\n",
       "      <td>640</td>\n",
       "      <td>Coffee</td>\n",
       "    </tr>\n",
       "    <tr>\n",
       "      <th>530</th>\n",
       "      <td>McDonalds Sweet Tea</td>\n",
       "      <td>946.352</td>\n",
       "      <td>160</td>\n",
       "      <td>100</td>\n",
       "      <td>Tea</td>\n",
       "    </tr>\n",
       "  </tbody>\n",
       "</table>\n",
       "</div>"
      ],
      "text/plain": [
       "                             drink  Volume (ml)  Calories  Caffeine (mg)  \\\n",
       "29   Starbucks Bottled Iced Coffee     1419.528       240            640   \n",
       "530            McDonalds Sweet Tea      946.352       160            100   \n",
       "\n",
       "       type  \n",
       "29   Coffee  \n",
       "530     Tea  "
      ]
     },
     "execution_count": 14,
     "metadata": {},
     "output_type": "execute_result"
    }
   ],
   "source": [
    "large_volume = caffeine[(caffeine['Volume (ml)'] > 800)]\n",
    "large_volume"
   ]
  },
  {
   "cell_type": "markdown",
   "id": "6caca9a8",
   "metadata": {},
   "source": [
    "Our large right-sided tail is only made of two drinks."
   ]
  },
  {
   "cell_type": "markdown",
   "id": "8caee901",
   "metadata": {},
   "source": [
    "### Histogram - Calories"
   ]
  },
  {
   "cell_type": "code",
   "execution_count": 15,
   "id": "45c0e02a",
   "metadata": {},
   "outputs": [
    {
     "data": {
      "application/vnd.plotly.v1+json": {
       "config": {
        "plotlyServerURL": "https://plot.ly"
       },
       "data": [
        {
         "alignmentgroup": "True",
         "bingroup": "x",
         "hovertemplate": "Calories=%{x}<br>count=%{y}<extra></extra>",
         "legendgroup": "",
         "marker": {
          "color": "#636efa",
          "pattern": {
           "shape": ""
          }
         },
         "name": "",
         "offsetgroup": "",
         "orientation": "v",
         "showlegend": false,
         "type": "histogram",
         "x": [
          0,
          0,
          150,
          0,
          0,
          170,
          80,
          45,
          140,
          0,
          0,
          0,
          204,
          429,
          345,
          260,
          300,
          0,
          290,
          10,
          180,
          160,
          3,
          0,
          0,
          0,
          0,
          0,
          10,
          240,
          470,
          5,
          20,
          100,
          10,
          5,
          5,
          830,
          0,
          387,
          0,
          5,
          5,
          0,
          160,
          190,
          380,
          0,
          15,
          5,
          10,
          190,
          390,
          140,
          0,
          120,
          310,
          250,
          5,
          0,
          15,
          190,
          370,
          140,
          5,
          15,
          5,
          140,
          250,
          70,
          4,
          230,
          220,
          190,
          240,
          190,
          5,
          350,
          10,
          100,
          5,
          410,
          3,
          0,
          0,
          0,
          0,
          239,
          5,
          0,
          97,
          0,
          0,
          170,
          4,
          0,
          180,
          10,
          190,
          0,
          0,
          0,
          0,
          100,
          130,
          180,
          50,
          0,
          50,
          3,
          5,
          5,
          10,
          0,
          0,
          0,
          5,
          90,
          0,
          0,
          10,
          0,
          15,
          0,
          6,
          0,
          0,
          20,
          15,
          170,
          2,
          0,
          0,
          0,
          5,
          0,
          50,
          79,
          0,
          0,
          0,
          0,
          0,
          50,
          10,
          80,
          0,
          30,
          0,
          0,
          0,
          0,
          130,
          0,
          0,
          0,
          0,
          0,
          0,
          0,
          0,
          48,
          5,
          56,
          0,
          110,
          0,
          2,
          74,
          0,
          0,
          25,
          20,
          125,
          70,
          110,
          122,
          90,
          112,
          49,
          56,
          0,
          58,
          115,
          115,
          108,
          155,
          148,
          117,
          113,
          10,
          0,
          78,
          122,
          58,
          180,
          50,
          0,
          110,
          8,
          115,
          125,
          113,
          125,
          116,
          118,
          10,
          123,
          60,
          116,
          10,
          125,
          120,
          120,
          150,
          190,
          0,
          160,
          253,
          8,
          185,
          219,
          228,
          70,
          0,
          15,
          180,
          40,
          227,
          10,
          40,
          25,
          35,
          133,
          148,
          130,
          10,
          0,
          63,
          65,
          180,
          149,
          320,
          0,
          180,
          250,
          0,
          10,
          140,
          15,
          10,
          30,
          0,
          130,
          0,
          0,
          240,
          5,
          0,
          0,
          0,
          15,
          200,
          10,
          220,
          220,
          0,
          15,
          200,
          0,
          10,
          200,
          0,
          260,
          0,
          10,
          210,
          210,
          160,
          30,
          240,
          210,
          190,
          10,
          10,
          220,
          90,
          25,
          200,
          15,
          0,
          25,
          5,
          0,
          0,
          0,
          260,
          280,
          250,
          250,
          30,
          260,
          20,
          25,
          25,
          0,
          10,
          25,
          5,
          5,
          12,
          10,
          240,
          120,
          0,
          15,
          0,
          0,
          160,
          220,
          220,
          220,
          15,
          20,
          100,
          220,
          200,
          180,
          180,
          210,
          10,
          25,
          0,
          40,
          110,
          163,
          0,
          10,
          15,
          140,
          140,
          90,
          110,
          170,
          20,
          80,
          25,
          115,
          0,
          130,
          20,
          25,
          150,
          0,
          90,
          18,
          160,
          170,
          25,
          160,
          156,
          200,
          0,
          120,
          10,
          140,
          160,
          10,
          150,
          105,
          20,
          60,
          0,
          40,
          110,
          130,
          0,
          15,
          5,
          5,
          5,
          40,
          0,
          25,
          4,
          0,
          90,
          0,
          0,
          100,
          15,
          140,
          0,
          25,
          25,
          0,
          4,
          0,
          0,
          0,
          0,
          0,
          35,
          25,
          100,
          40,
          34,
          0,
          0,
          5,
          0,
          10,
          80,
          77,
          35,
          5,
          0,
          45,
          0,
          0,
          0,
          0,
          24,
          0,
          0,
          0,
          25,
          0,
          0,
          139,
          135,
          0,
          132,
          320,
          190,
          80,
          240,
          140,
          170,
          170,
          0,
          120,
          170,
          160,
          150,
          140,
          150,
          140,
          150,
          0,
          140,
          140,
          150,
          0,
          70,
          0,
          0,
          0,
          0,
          0,
          0,
          0,
          0,
          0,
          0,
          150,
          160,
          150,
          10,
          0,
          160,
          165,
          150,
          0,
          140,
          0,
          160,
          140,
          190,
          170,
          170,
          170,
          170,
          180,
          160,
          170,
          0,
          140,
          160,
          160,
          150,
          0,
          150,
          150,
          150,
          0,
          140,
          160,
          144,
          170,
          170,
          170,
          0,
          150,
          180,
          90,
          140,
          140,
          90,
          170,
          160,
          140,
          25,
          160,
          0,
          240,
          100,
          40,
          0,
          0,
          50,
          0,
          160,
          70,
          160,
          5,
          0,
          120,
          100,
          60,
          160,
          230,
          160,
          150,
          110,
          200,
          190,
          0,
          120,
          80,
          150,
          128,
          299,
          5,
          5,
          80,
          70,
          35,
          0,
          120,
          210,
          0,
          0,
          0,
          0,
          5,
          0,
          0,
          0,
          0,
          30,
          0,
          0,
          0,
          0,
          0,
          0,
          0,
          0,
          0,
          0,
          0,
          0,
          0,
          0,
          0,
          0,
          0,
          0,
          0,
          0,
          0,
          130,
          90,
          35,
          0,
          0,
          0,
          0,
          35,
          0,
          100,
          0,
          0,
          10,
          0,
          5,
          0,
          0,
          5,
          0,
          0,
          0,
          0,
          0,
          0,
          0,
          0,
          110,
          0
         ],
         "xaxis": "x",
         "yaxis": "y"
        }
       ],
       "layout": {
        "barmode": "relative",
        "legend": {
         "tracegroupgap": 0
        },
        "template": {
         "data": {
          "bar": [
           {
            "error_x": {
             "color": "#2a3f5f"
            },
            "error_y": {
             "color": "#2a3f5f"
            },
            "marker": {
             "line": {
              "color": "#E5ECF6",
              "width": 0.5
             },
             "pattern": {
              "fillmode": "overlay",
              "size": 10,
              "solidity": 0.2
             }
            },
            "type": "bar"
           }
          ],
          "barpolar": [
           {
            "marker": {
             "line": {
              "color": "#E5ECF6",
              "width": 0.5
             },
             "pattern": {
              "fillmode": "overlay",
              "size": 10,
              "solidity": 0.2
             }
            },
            "type": "barpolar"
           }
          ],
          "carpet": [
           {
            "aaxis": {
             "endlinecolor": "#2a3f5f",
             "gridcolor": "white",
             "linecolor": "white",
             "minorgridcolor": "white",
             "startlinecolor": "#2a3f5f"
            },
            "baxis": {
             "endlinecolor": "#2a3f5f",
             "gridcolor": "white",
             "linecolor": "white",
             "minorgridcolor": "white",
             "startlinecolor": "#2a3f5f"
            },
            "type": "carpet"
           }
          ],
          "choropleth": [
           {
            "colorbar": {
             "outlinewidth": 0,
             "ticks": ""
            },
            "type": "choropleth"
           }
          ],
          "contour": [
           {
            "colorbar": {
             "outlinewidth": 0,
             "ticks": ""
            },
            "colorscale": [
             [
              0,
              "#0d0887"
             ],
             [
              0.1111111111111111,
              "#46039f"
             ],
             [
              0.2222222222222222,
              "#7201a8"
             ],
             [
              0.3333333333333333,
              "#9c179e"
             ],
             [
              0.4444444444444444,
              "#bd3786"
             ],
             [
              0.5555555555555556,
              "#d8576b"
             ],
             [
              0.6666666666666666,
              "#ed7953"
             ],
             [
              0.7777777777777778,
              "#fb9f3a"
             ],
             [
              0.8888888888888888,
              "#fdca26"
             ],
             [
              1,
              "#f0f921"
             ]
            ],
            "type": "contour"
           }
          ],
          "contourcarpet": [
           {
            "colorbar": {
             "outlinewidth": 0,
             "ticks": ""
            },
            "type": "contourcarpet"
           }
          ],
          "heatmap": [
           {
            "colorbar": {
             "outlinewidth": 0,
             "ticks": ""
            },
            "colorscale": [
             [
              0,
              "#0d0887"
             ],
             [
              0.1111111111111111,
              "#46039f"
             ],
             [
              0.2222222222222222,
              "#7201a8"
             ],
             [
              0.3333333333333333,
              "#9c179e"
             ],
             [
              0.4444444444444444,
              "#bd3786"
             ],
             [
              0.5555555555555556,
              "#d8576b"
             ],
             [
              0.6666666666666666,
              "#ed7953"
             ],
             [
              0.7777777777777778,
              "#fb9f3a"
             ],
             [
              0.8888888888888888,
              "#fdca26"
             ],
             [
              1,
              "#f0f921"
             ]
            ],
            "type": "heatmap"
           }
          ],
          "heatmapgl": [
           {
            "colorbar": {
             "outlinewidth": 0,
             "ticks": ""
            },
            "colorscale": [
             [
              0,
              "#0d0887"
             ],
             [
              0.1111111111111111,
              "#46039f"
             ],
             [
              0.2222222222222222,
              "#7201a8"
             ],
             [
              0.3333333333333333,
              "#9c179e"
             ],
             [
              0.4444444444444444,
              "#bd3786"
             ],
             [
              0.5555555555555556,
              "#d8576b"
             ],
             [
              0.6666666666666666,
              "#ed7953"
             ],
             [
              0.7777777777777778,
              "#fb9f3a"
             ],
             [
              0.8888888888888888,
              "#fdca26"
             ],
             [
              1,
              "#f0f921"
             ]
            ],
            "type": "heatmapgl"
           }
          ],
          "histogram": [
           {
            "marker": {
             "pattern": {
              "fillmode": "overlay",
              "size": 10,
              "solidity": 0.2
             }
            },
            "type": "histogram"
           }
          ],
          "histogram2d": [
           {
            "colorbar": {
             "outlinewidth": 0,
             "ticks": ""
            },
            "colorscale": [
             [
              0,
              "#0d0887"
             ],
             [
              0.1111111111111111,
              "#46039f"
             ],
             [
              0.2222222222222222,
              "#7201a8"
             ],
             [
              0.3333333333333333,
              "#9c179e"
             ],
             [
              0.4444444444444444,
              "#bd3786"
             ],
             [
              0.5555555555555556,
              "#d8576b"
             ],
             [
              0.6666666666666666,
              "#ed7953"
             ],
             [
              0.7777777777777778,
              "#fb9f3a"
             ],
             [
              0.8888888888888888,
              "#fdca26"
             ],
             [
              1,
              "#f0f921"
             ]
            ],
            "type": "histogram2d"
           }
          ],
          "histogram2dcontour": [
           {
            "colorbar": {
             "outlinewidth": 0,
             "ticks": ""
            },
            "colorscale": [
             [
              0,
              "#0d0887"
             ],
             [
              0.1111111111111111,
              "#46039f"
             ],
             [
              0.2222222222222222,
              "#7201a8"
             ],
             [
              0.3333333333333333,
              "#9c179e"
             ],
             [
              0.4444444444444444,
              "#bd3786"
             ],
             [
              0.5555555555555556,
              "#d8576b"
             ],
             [
              0.6666666666666666,
              "#ed7953"
             ],
             [
              0.7777777777777778,
              "#fb9f3a"
             ],
             [
              0.8888888888888888,
              "#fdca26"
             ],
             [
              1,
              "#f0f921"
             ]
            ],
            "type": "histogram2dcontour"
           }
          ],
          "mesh3d": [
           {
            "colorbar": {
             "outlinewidth": 0,
             "ticks": ""
            },
            "type": "mesh3d"
           }
          ],
          "parcoords": [
           {
            "line": {
             "colorbar": {
              "outlinewidth": 0,
              "ticks": ""
             }
            },
            "type": "parcoords"
           }
          ],
          "pie": [
           {
            "automargin": true,
            "type": "pie"
           }
          ],
          "scatter": [
           {
            "fillpattern": {
             "fillmode": "overlay",
             "size": 10,
             "solidity": 0.2
            },
            "type": "scatter"
           }
          ],
          "scatter3d": [
           {
            "line": {
             "colorbar": {
              "outlinewidth": 0,
              "ticks": ""
             }
            },
            "marker": {
             "colorbar": {
              "outlinewidth": 0,
              "ticks": ""
             }
            },
            "type": "scatter3d"
           }
          ],
          "scattercarpet": [
           {
            "marker": {
             "colorbar": {
              "outlinewidth": 0,
              "ticks": ""
             }
            },
            "type": "scattercarpet"
           }
          ],
          "scattergeo": [
           {
            "marker": {
             "colorbar": {
              "outlinewidth": 0,
              "ticks": ""
             }
            },
            "type": "scattergeo"
           }
          ],
          "scattergl": [
           {
            "marker": {
             "colorbar": {
              "outlinewidth": 0,
              "ticks": ""
             }
            },
            "type": "scattergl"
           }
          ],
          "scattermapbox": [
           {
            "marker": {
             "colorbar": {
              "outlinewidth": 0,
              "ticks": ""
             }
            },
            "type": "scattermapbox"
           }
          ],
          "scatterpolar": [
           {
            "marker": {
             "colorbar": {
              "outlinewidth": 0,
              "ticks": ""
             }
            },
            "type": "scatterpolar"
           }
          ],
          "scatterpolargl": [
           {
            "marker": {
             "colorbar": {
              "outlinewidth": 0,
              "ticks": ""
             }
            },
            "type": "scatterpolargl"
           }
          ],
          "scatterternary": [
           {
            "marker": {
             "colorbar": {
              "outlinewidth": 0,
              "ticks": ""
             }
            },
            "type": "scatterternary"
           }
          ],
          "surface": [
           {
            "colorbar": {
             "outlinewidth": 0,
             "ticks": ""
            },
            "colorscale": [
             [
              0,
              "#0d0887"
             ],
             [
              0.1111111111111111,
              "#46039f"
             ],
             [
              0.2222222222222222,
              "#7201a8"
             ],
             [
              0.3333333333333333,
              "#9c179e"
             ],
             [
              0.4444444444444444,
              "#bd3786"
             ],
             [
              0.5555555555555556,
              "#d8576b"
             ],
             [
              0.6666666666666666,
              "#ed7953"
             ],
             [
              0.7777777777777778,
              "#fb9f3a"
             ],
             [
              0.8888888888888888,
              "#fdca26"
             ],
             [
              1,
              "#f0f921"
             ]
            ],
            "type": "surface"
           }
          ],
          "table": [
           {
            "cells": {
             "fill": {
              "color": "#EBF0F8"
             },
             "line": {
              "color": "white"
             }
            },
            "header": {
             "fill": {
              "color": "#C8D4E3"
             },
             "line": {
              "color": "white"
             }
            },
            "type": "table"
           }
          ]
         },
         "layout": {
          "annotationdefaults": {
           "arrowcolor": "#2a3f5f",
           "arrowhead": 0,
           "arrowwidth": 1
          },
          "autotypenumbers": "strict",
          "coloraxis": {
           "colorbar": {
            "outlinewidth": 0,
            "ticks": ""
           }
          },
          "colorscale": {
           "diverging": [
            [
             0,
             "#8e0152"
            ],
            [
             0.1,
             "#c51b7d"
            ],
            [
             0.2,
             "#de77ae"
            ],
            [
             0.3,
             "#f1b6da"
            ],
            [
             0.4,
             "#fde0ef"
            ],
            [
             0.5,
             "#f7f7f7"
            ],
            [
             0.6,
             "#e6f5d0"
            ],
            [
             0.7,
             "#b8e186"
            ],
            [
             0.8,
             "#7fbc41"
            ],
            [
             0.9,
             "#4d9221"
            ],
            [
             1,
             "#276419"
            ]
           ],
           "sequential": [
            [
             0,
             "#0d0887"
            ],
            [
             0.1111111111111111,
             "#46039f"
            ],
            [
             0.2222222222222222,
             "#7201a8"
            ],
            [
             0.3333333333333333,
             "#9c179e"
            ],
            [
             0.4444444444444444,
             "#bd3786"
            ],
            [
             0.5555555555555556,
             "#d8576b"
            ],
            [
             0.6666666666666666,
             "#ed7953"
            ],
            [
             0.7777777777777778,
             "#fb9f3a"
            ],
            [
             0.8888888888888888,
             "#fdca26"
            ],
            [
             1,
             "#f0f921"
            ]
           ],
           "sequentialminus": [
            [
             0,
             "#0d0887"
            ],
            [
             0.1111111111111111,
             "#46039f"
            ],
            [
             0.2222222222222222,
             "#7201a8"
            ],
            [
             0.3333333333333333,
             "#9c179e"
            ],
            [
             0.4444444444444444,
             "#bd3786"
            ],
            [
             0.5555555555555556,
             "#d8576b"
            ],
            [
             0.6666666666666666,
             "#ed7953"
            ],
            [
             0.7777777777777778,
             "#fb9f3a"
            ],
            [
             0.8888888888888888,
             "#fdca26"
            ],
            [
             1,
             "#f0f921"
            ]
           ]
          },
          "colorway": [
           "#636efa",
           "#EF553B",
           "#00cc96",
           "#ab63fa",
           "#FFA15A",
           "#19d3f3",
           "#FF6692",
           "#B6E880",
           "#FF97FF",
           "#FECB52"
          ],
          "font": {
           "color": "#2a3f5f"
          },
          "geo": {
           "bgcolor": "white",
           "lakecolor": "white",
           "landcolor": "#E5ECF6",
           "showlakes": true,
           "showland": true,
           "subunitcolor": "white"
          },
          "hoverlabel": {
           "align": "left"
          },
          "hovermode": "closest",
          "mapbox": {
           "style": "light"
          },
          "paper_bgcolor": "white",
          "plot_bgcolor": "#E5ECF6",
          "polar": {
           "angularaxis": {
            "gridcolor": "white",
            "linecolor": "white",
            "ticks": ""
           },
           "bgcolor": "#E5ECF6",
           "radialaxis": {
            "gridcolor": "white",
            "linecolor": "white",
            "ticks": ""
           }
          },
          "scene": {
           "xaxis": {
            "backgroundcolor": "#E5ECF6",
            "gridcolor": "white",
            "gridwidth": 2,
            "linecolor": "white",
            "showbackground": true,
            "ticks": "",
            "zerolinecolor": "white"
           },
           "yaxis": {
            "backgroundcolor": "#E5ECF6",
            "gridcolor": "white",
            "gridwidth": 2,
            "linecolor": "white",
            "showbackground": true,
            "ticks": "",
            "zerolinecolor": "white"
           },
           "zaxis": {
            "backgroundcolor": "#E5ECF6",
            "gridcolor": "white",
            "gridwidth": 2,
            "linecolor": "white",
            "showbackground": true,
            "ticks": "",
            "zerolinecolor": "white"
           }
          },
          "shapedefaults": {
           "line": {
            "color": "#2a3f5f"
           }
          },
          "ternary": {
           "aaxis": {
            "gridcolor": "white",
            "linecolor": "white",
            "ticks": ""
           },
           "baxis": {
            "gridcolor": "white",
            "linecolor": "white",
            "ticks": ""
           },
           "bgcolor": "#E5ECF6",
           "caxis": {
            "gridcolor": "white",
            "linecolor": "white",
            "ticks": ""
           }
          },
          "title": {
           "x": 0.05
          },
          "xaxis": {
           "automargin": true,
           "gridcolor": "white",
           "linecolor": "white",
           "ticks": "",
           "title": {
            "standoff": 15
           },
           "zerolinecolor": "white",
           "zerolinewidth": 2
          },
          "yaxis": {
           "automargin": true,
           "gridcolor": "white",
           "linecolor": "white",
           "ticks": "",
           "title": {
            "standoff": 15
           },
           "zerolinecolor": "white",
           "zerolinewidth": 2
          }
         }
        },
        "title": {
         "text": "Distribution of Calories"
        },
        "xaxis": {
         "anchor": "y",
         "domain": [
          0,
          1
         ],
         "title": {
          "text": "Calories"
         }
        },
        "yaxis": {
         "anchor": "x",
         "domain": [
          0,
          1
         ],
         "title": {
          "text": "count"
         }
        }
       }
      }
     },
     "metadata": {},
     "output_type": "display_data"
    }
   ],
   "source": [
    "px.histogram(caffeine, \n",
    "             x = 'Calories', \n",
    "             title='Distribution of Calories')"
   ]
  },
  {
   "cell_type": "markdown",
   "id": "d1f49be0",
   "metadata": {},
   "source": [
    "Similar to to Volume (ml), we have a large right-sided tail for Calories. Let's take a closer look and filter for drinks with >= 400 calories."
   ]
  },
  {
   "cell_type": "code",
   "execution_count": 16,
   "id": "ef5e5925",
   "metadata": {},
   "outputs": [
    {
     "data": {
      "text/html": [
       "<div>\n",
       "<style scoped>\n",
       "    .dataframe tbody tr th:only-of-type {\n",
       "        vertical-align: middle;\n",
       "    }\n",
       "\n",
       "    .dataframe tbody tr th {\n",
       "        vertical-align: top;\n",
       "    }\n",
       "\n",
       "    .dataframe thead th {\n",
       "        text-align: right;\n",
       "    }\n",
       "</style>\n",
       "<table border=\"1\" class=\"dataframe\">\n",
       "  <thead>\n",
       "    <tr style=\"text-align: right;\">\n",
       "      <th></th>\n",
       "      <th>drink</th>\n",
       "      <th>Volume (ml)</th>\n",
       "      <th>Calories</th>\n",
       "      <th>Caffeine (mg)</th>\n",
       "      <th>type</th>\n",
       "    </tr>\n",
       "  </thead>\n",
       "  <tbody>\n",
       "    <tr>\n",
       "      <th>13</th>\n",
       "      <td>Dare Iced Coffee</td>\n",
       "      <td>500.087885</td>\n",
       "      <td>429</td>\n",
       "      <td>160</td>\n",
       "      <td>Coffee</td>\n",
       "    </tr>\n",
       "    <tr>\n",
       "      <th>30</th>\n",
       "      <td>Baskin Robbins Cappuccino Blast</td>\n",
       "      <td>709.764000</td>\n",
       "      <td>470</td>\n",
       "      <td>234</td>\n",
       "      <td>Coffee</td>\n",
       "    </tr>\n",
       "    <tr>\n",
       "      <th>37</th>\n",
       "      <td>Arby's Jamocha Shake</td>\n",
       "      <td>473.176000</td>\n",
       "      <td>830</td>\n",
       "      <td>12</td>\n",
       "      <td>Coffee</td>\n",
       "    </tr>\n",
       "    <tr>\n",
       "      <th>81</th>\n",
       "      <td>Big Train Java Chip Ice Coffee</td>\n",
       "      <td>354.882000</td>\n",
       "      <td>410</td>\n",
       "      <td>49</td>\n",
       "      <td>Coffee</td>\n",
       "    </tr>\n",
       "  </tbody>\n",
       "</table>\n",
       "</div>"
      ],
      "text/plain": [
       "                              drink  Volume (ml)  Calories  Caffeine (mg)  \\\n",
       "13                 Dare Iced Coffee   500.087885       429            160   \n",
       "30  Baskin Robbins Cappuccino Blast   709.764000       470            234   \n",
       "37             Arby's Jamocha Shake   473.176000       830             12   \n",
       "81   Big Train Java Chip Ice Coffee   354.882000       410             49   \n",
       "\n",
       "      type  \n",
       "13  Coffee  \n",
       "30  Coffee  \n",
       "37  Coffee  \n",
       "81  Coffee  "
      ]
     },
     "execution_count": 16,
     "metadata": {},
     "output_type": "execute_result"
    }
   ],
   "source": [
    "high_calories = caffeine[(caffeine['Calories'] >= 400)]\n",
    "high_calories"
   ]
  },
  {
   "cell_type": "markdown",
   "id": "b1b9300d",
   "metadata": {},
   "source": [
    "The long right-sided tail for calories is made up of four drinks that all look like they are a liquid version of ice cream."
   ]
  },
  {
   "cell_type": "markdown",
   "id": "2cb04978",
   "metadata": {},
   "source": [
    "### Histogram - Caffeine (mg)"
   ]
  },
  {
   "cell_type": "code",
   "execution_count": 17,
   "id": "ccfbce63",
   "metadata": {},
   "outputs": [
    {
     "data": {
      "application/vnd.plotly.v1+json": {
       "config": {
        "plotlyServerURL": "https://plot.ly"
       },
       "data": [
        {
         "alignmentgroup": "True",
         "bingroup": "x",
         "hovertemplate": "Caffeine (mg)=%{x}<br>count=%{y}<extra></extra>",
         "legendgroup": "",
         "marker": {
          "color": "#636efa",
          "pattern": {
           "shape": ""
          }
         },
         "name": "",
         "offsetgroup": "",
         "orientation": "v",
         "showlegend": false,
         "type": "histogram",
         "x": [
          277,
          145,
          100,
          430,
          66,
          160,
          134,
          155,
          120,
          95,
          125,
          125,
          140,
          160,
          155,
          171,
          110,
          145,
          30,
          177,
          133,
          120,
          279,
          77,
          70,
          10,
          65,
          60,
          40,
          640,
          234,
          260,
          297,
          166,
          187,
          270,
          280,
          12,
          200,
          100,
          155,
          305,
          333,
          206,
          154,
          142,
          167,
          145,
          189,
          267,
          140,
          140,
          165,
          140,
          150,
          140,
          165,
          150,
          205,
          25,
          225,
          150,
          175,
          150,
          310,
          225,
          280,
          45,
          185,
          45,
          290,
          145,
          135,
          180,
          130,
          80,
          210,
          83,
          252,
          166,
          154,
          49,
          928,
          144,
          1105,
          1555,
          150,
          152,
          160,
          1101,
          154,
          728,
          1325,
          130,
          333,
          1150,
          88,
          260,
          125,
          500,
          95,
          1182,
          1350,
          100,
          120,
          100,
          180,
          235,
          135,
          330,
          200,
          120,
          230,
          136,
          60,
          60,
          180,
          120,
          120,
          145,
          180,
          100,
          200,
          163,
          2,
          57,
          20,
          10,
          300,
          300,
          6,
          160,
          112,
          112,
          126,
          200,
          140,
          20,
          4,
          100,
          112,
          196,
          106,
          100,
          6,
          4,
          160,
          40,
          163,
          127,
          265,
          260,
          155,
          60,
          135,
          90,
          98,
          100,
          4,
          70,
          70,
          105,
          40,
          154,
          23,
          98,
          225,
          154,
          50,
          67,
          100,
          50,
          50,
          80,
          70,
          80,
          38,
          80,
          80,
          80,
          75,
          80,
          80,
          80,
          80,
          80,
          80,
          175,
          80,
          80,
          80,
          80,
          80,
          80,
          80,
          50,
          80,
          80,
          80,
          80,
          80,
          79,
          80,
          80,
          78,
          80,
          80,
          80,
          85,
          80,
          80,
          75,
          80,
          80,
          188,
          179,
          200,
          100,
          160,
          250,
          160,
          160,
          160,
          125,
          160,
          170,
          15,
          75,
          150,
          80,
          155,
          170,
          100,
          46,
          118,
          127,
          110,
          180,
          106,
          30,
          100,
          106,
          240,
          200,
          100,
          81,
          120,
          55,
          300,
          200,
          300,
          100,
          300,
          300,
          250,
          300,
          178,
          200,
          200,
          200,
          300,
          300,
          192,
          60,
          160,
          160,
          300,
          140,
          160,
          300,
          120,
          140,
          160,
          160,
          300,
          320,
          160,
          160,
          160,
          140,
          152,
          160,
          160,
          150,
          140,
          142,
          90,
          180,
          160,
          40,
          0,
          100,
          92,
          250,
          300,
          300,
          160,
          160,
          160,
          240,
          170,
          240,
          240,
          160,
          160,
          300,
          300,
          240,
          175,
          160,
          150,
          152,
          186,
          240,
          350,
          200,
          120,
          160,
          160,
          185,
          95,
          344,
          160,
          100,
          160,
          200,
          300,
          157,
          160,
          225,
          200,
          75,
          100,
          120,
          360,
          112,
          200,
          200,
          200,
          34,
          114,
          280,
          114,
          120,
          110,
          100,
          100,
          140,
          400,
          100,
          25,
          150,
          115,
          100,
          110,
          225,
          200,
          128,
          225,
          160,
          120,
          120,
          150,
          120,
          300,
          100,
          100,
          100,
          142,
          120,
          200,
          135,
          120,
          70,
          90,
          100,
          120,
          55,
          90,
          120,
          110,
          175,
          50,
          50,
          125,
          225,
          100,
          300,
          316,
          77,
          120,
          80,
          350,
          80,
          180,
          300,
          200,
          230,
          235,
          280,
          230,
          225,
          100,
          75,
          100,
          185,
          155,
          75,
          300,
          300,
          260,
          120,
          100,
          150,
          225,
          180,
          350,
          200,
          180,
          280,
          138,
          230,
          100,
          120,
          205,
          275,
          100,
          150,
          32,
          83,
          83,
          43,
          83,
          0,
          102,
          90,
          0,
          0,
          0,
          0,
          0,
          37,
          0,
          22,
          34,
          9,
          47,
          0,
          34,
          34,
          34,
          34,
          34,
          34,
          69,
          34,
          0,
          47,
          46,
          46,
          41,
          54,
          35,
          48,
          38,
          60,
          36,
          42,
          51,
          29,
          0,
          43,
          20,
          0,
          0,
          37,
          0,
          38,
          40,
          51,
          54,
          54,
          54,
          54,
          55,
          55,
          68,
          24,
          0,
          0,
          12,
          13,
          38,
          0,
          38,
          69,
          40,
          43,
          10,
          39,
          0,
          43,
          47,
          54,
          69,
          30,
          0,
          0,
          50,
          64,
          19,
          0,
          42,
          38,
          45,
          5,
          0,
          31,
          50,
          40,
          110,
          48,
          69,
          63,
          23,
          60,
          70,
          150,
          165,
          76,
          100,
          63,
          24,
          23,
          25,
          7,
          30,
          38,
          62,
          140,
          37,
          41,
          151,
          32,
          120,
          130,
          11,
          15,
          50,
          64,
          65,
          45,
          4,
          50,
          70,
          10,
          110,
          41,
          110,
          41,
          24,
          75,
          55,
          64,
          45,
          47,
          42,
          4,
          18,
          0,
          47,
          40,
          25,
          37,
          28,
          41,
          25,
          30,
          63,
          40,
          80,
          150,
          45,
          29,
          99,
          50,
          60,
          75,
          75,
          75,
          0,
          50,
          42,
          70,
          67,
          60,
          70,
          30,
          120,
          69,
          35,
          0,
          100,
          0,
          35,
          55,
          0,
          100,
          0,
          60
         ],
         "xaxis": "x",
         "yaxis": "y"
        }
       ],
       "layout": {
        "barmode": "relative",
        "legend": {
         "tracegroupgap": 0
        },
        "template": {
         "data": {
          "bar": [
           {
            "error_x": {
             "color": "#2a3f5f"
            },
            "error_y": {
             "color": "#2a3f5f"
            },
            "marker": {
             "line": {
              "color": "white",
              "width": 0.5
             },
             "pattern": {
              "fillmode": "overlay",
              "size": 10,
              "solidity": 0.2
             }
            },
            "type": "bar"
           }
          ],
          "barpolar": [
           {
            "marker": {
             "line": {
              "color": "white",
              "width": 0.5
             },
             "pattern": {
              "fillmode": "overlay",
              "size": 10,
              "solidity": 0.2
             }
            },
            "type": "barpolar"
           }
          ],
          "carpet": [
           {
            "aaxis": {
             "endlinecolor": "#2a3f5f",
             "gridcolor": "#C8D4E3",
             "linecolor": "#C8D4E3",
             "minorgridcolor": "#C8D4E3",
             "startlinecolor": "#2a3f5f"
            },
            "baxis": {
             "endlinecolor": "#2a3f5f",
             "gridcolor": "#C8D4E3",
             "linecolor": "#C8D4E3",
             "minorgridcolor": "#C8D4E3",
             "startlinecolor": "#2a3f5f"
            },
            "type": "carpet"
           }
          ],
          "choropleth": [
           {
            "colorbar": {
             "outlinewidth": 0,
             "ticks": ""
            },
            "type": "choropleth"
           }
          ],
          "contour": [
           {
            "colorbar": {
             "outlinewidth": 0,
             "ticks": ""
            },
            "colorscale": [
             [
              0,
              "#0d0887"
             ],
             [
              0.1111111111111111,
              "#46039f"
             ],
             [
              0.2222222222222222,
              "#7201a8"
             ],
             [
              0.3333333333333333,
              "#9c179e"
             ],
             [
              0.4444444444444444,
              "#bd3786"
             ],
             [
              0.5555555555555556,
              "#d8576b"
             ],
             [
              0.6666666666666666,
              "#ed7953"
             ],
             [
              0.7777777777777778,
              "#fb9f3a"
             ],
             [
              0.8888888888888888,
              "#fdca26"
             ],
             [
              1,
              "#f0f921"
             ]
            ],
            "type": "contour"
           }
          ],
          "contourcarpet": [
           {
            "colorbar": {
             "outlinewidth": 0,
             "ticks": ""
            },
            "type": "contourcarpet"
           }
          ],
          "heatmap": [
           {
            "colorbar": {
             "outlinewidth": 0,
             "ticks": ""
            },
            "colorscale": [
             [
              0,
              "#0d0887"
             ],
             [
              0.1111111111111111,
              "#46039f"
             ],
             [
              0.2222222222222222,
              "#7201a8"
             ],
             [
              0.3333333333333333,
              "#9c179e"
             ],
             [
              0.4444444444444444,
              "#bd3786"
             ],
             [
              0.5555555555555556,
              "#d8576b"
             ],
             [
              0.6666666666666666,
              "#ed7953"
             ],
             [
              0.7777777777777778,
              "#fb9f3a"
             ],
             [
              0.8888888888888888,
              "#fdca26"
             ],
             [
              1,
              "#f0f921"
             ]
            ],
            "type": "heatmap"
           }
          ],
          "heatmapgl": [
           {
            "colorbar": {
             "outlinewidth": 0,
             "ticks": ""
            },
            "colorscale": [
             [
              0,
              "#0d0887"
             ],
             [
              0.1111111111111111,
              "#46039f"
             ],
             [
              0.2222222222222222,
              "#7201a8"
             ],
             [
              0.3333333333333333,
              "#9c179e"
             ],
             [
              0.4444444444444444,
              "#bd3786"
             ],
             [
              0.5555555555555556,
              "#d8576b"
             ],
             [
              0.6666666666666666,
              "#ed7953"
             ],
             [
              0.7777777777777778,
              "#fb9f3a"
             ],
             [
              0.8888888888888888,
              "#fdca26"
             ],
             [
              1,
              "#f0f921"
             ]
            ],
            "type": "heatmapgl"
           }
          ],
          "histogram": [
           {
            "marker": {
             "pattern": {
              "fillmode": "overlay",
              "size": 10,
              "solidity": 0.2
             }
            },
            "type": "histogram"
           }
          ],
          "histogram2d": [
           {
            "colorbar": {
             "outlinewidth": 0,
             "ticks": ""
            },
            "colorscale": [
             [
              0,
              "#0d0887"
             ],
             [
              0.1111111111111111,
              "#46039f"
             ],
             [
              0.2222222222222222,
              "#7201a8"
             ],
             [
              0.3333333333333333,
              "#9c179e"
             ],
             [
              0.4444444444444444,
              "#bd3786"
             ],
             [
              0.5555555555555556,
              "#d8576b"
             ],
             [
              0.6666666666666666,
              "#ed7953"
             ],
             [
              0.7777777777777778,
              "#fb9f3a"
             ],
             [
              0.8888888888888888,
              "#fdca26"
             ],
             [
              1,
              "#f0f921"
             ]
            ],
            "type": "histogram2d"
           }
          ],
          "histogram2dcontour": [
           {
            "colorbar": {
             "outlinewidth": 0,
             "ticks": ""
            },
            "colorscale": [
             [
              0,
              "#0d0887"
             ],
             [
              0.1111111111111111,
              "#46039f"
             ],
             [
              0.2222222222222222,
              "#7201a8"
             ],
             [
              0.3333333333333333,
              "#9c179e"
             ],
             [
              0.4444444444444444,
              "#bd3786"
             ],
             [
              0.5555555555555556,
              "#d8576b"
             ],
             [
              0.6666666666666666,
              "#ed7953"
             ],
             [
              0.7777777777777778,
              "#fb9f3a"
             ],
             [
              0.8888888888888888,
              "#fdca26"
             ],
             [
              1,
              "#f0f921"
             ]
            ],
            "type": "histogram2dcontour"
           }
          ],
          "mesh3d": [
           {
            "colorbar": {
             "outlinewidth": 0,
             "ticks": ""
            },
            "type": "mesh3d"
           }
          ],
          "parcoords": [
           {
            "line": {
             "colorbar": {
              "outlinewidth": 0,
              "ticks": ""
             }
            },
            "type": "parcoords"
           }
          ],
          "pie": [
           {
            "automargin": true,
            "type": "pie"
           }
          ],
          "scatter": [
           {
            "fillpattern": {
             "fillmode": "overlay",
             "size": 10,
             "solidity": 0.2
            },
            "type": "scatter"
           }
          ],
          "scatter3d": [
           {
            "line": {
             "colorbar": {
              "outlinewidth": 0,
              "ticks": ""
             }
            },
            "marker": {
             "colorbar": {
              "outlinewidth": 0,
              "ticks": ""
             }
            },
            "type": "scatter3d"
           }
          ],
          "scattercarpet": [
           {
            "marker": {
             "colorbar": {
              "outlinewidth": 0,
              "ticks": ""
             }
            },
            "type": "scattercarpet"
           }
          ],
          "scattergeo": [
           {
            "marker": {
             "colorbar": {
              "outlinewidth": 0,
              "ticks": ""
             }
            },
            "type": "scattergeo"
           }
          ],
          "scattergl": [
           {
            "marker": {
             "colorbar": {
              "outlinewidth": 0,
              "ticks": ""
             }
            },
            "type": "scattergl"
           }
          ],
          "scattermapbox": [
           {
            "marker": {
             "colorbar": {
              "outlinewidth": 0,
              "ticks": ""
             }
            },
            "type": "scattermapbox"
           }
          ],
          "scatterpolar": [
           {
            "marker": {
             "colorbar": {
              "outlinewidth": 0,
              "ticks": ""
             }
            },
            "type": "scatterpolar"
           }
          ],
          "scatterpolargl": [
           {
            "marker": {
             "colorbar": {
              "outlinewidth": 0,
              "ticks": ""
             }
            },
            "type": "scatterpolargl"
           }
          ],
          "scatterternary": [
           {
            "marker": {
             "colorbar": {
              "outlinewidth": 0,
              "ticks": ""
             }
            },
            "type": "scatterternary"
           }
          ],
          "surface": [
           {
            "colorbar": {
             "outlinewidth": 0,
             "ticks": ""
            },
            "colorscale": [
             [
              0,
              "#0d0887"
             ],
             [
              0.1111111111111111,
              "#46039f"
             ],
             [
              0.2222222222222222,
              "#7201a8"
             ],
             [
              0.3333333333333333,
              "#9c179e"
             ],
             [
              0.4444444444444444,
              "#bd3786"
             ],
             [
              0.5555555555555556,
              "#d8576b"
             ],
             [
              0.6666666666666666,
              "#ed7953"
             ],
             [
              0.7777777777777778,
              "#fb9f3a"
             ],
             [
              0.8888888888888888,
              "#fdca26"
             ],
             [
              1,
              "#f0f921"
             ]
            ],
            "type": "surface"
           }
          ],
          "table": [
           {
            "cells": {
             "fill": {
              "color": "#EBF0F8"
             },
             "line": {
              "color": "white"
             }
            },
            "header": {
             "fill": {
              "color": "#C8D4E3"
             },
             "line": {
              "color": "white"
             }
            },
            "type": "table"
           }
          ]
         },
         "layout": {
          "annotationdefaults": {
           "arrowcolor": "#2a3f5f",
           "arrowhead": 0,
           "arrowwidth": 1
          },
          "autotypenumbers": "strict",
          "coloraxis": {
           "colorbar": {
            "outlinewidth": 0,
            "ticks": ""
           }
          },
          "colorscale": {
           "diverging": [
            [
             0,
             "#8e0152"
            ],
            [
             0.1,
             "#c51b7d"
            ],
            [
             0.2,
             "#de77ae"
            ],
            [
             0.3,
             "#f1b6da"
            ],
            [
             0.4,
             "#fde0ef"
            ],
            [
             0.5,
             "#f7f7f7"
            ],
            [
             0.6,
             "#e6f5d0"
            ],
            [
             0.7,
             "#b8e186"
            ],
            [
             0.8,
             "#7fbc41"
            ],
            [
             0.9,
             "#4d9221"
            ],
            [
             1,
             "#276419"
            ]
           ],
           "sequential": [
            [
             0,
             "#0d0887"
            ],
            [
             0.1111111111111111,
             "#46039f"
            ],
            [
             0.2222222222222222,
             "#7201a8"
            ],
            [
             0.3333333333333333,
             "#9c179e"
            ],
            [
             0.4444444444444444,
             "#bd3786"
            ],
            [
             0.5555555555555556,
             "#d8576b"
            ],
            [
             0.6666666666666666,
             "#ed7953"
            ],
            [
             0.7777777777777778,
             "#fb9f3a"
            ],
            [
             0.8888888888888888,
             "#fdca26"
            ],
            [
             1,
             "#f0f921"
            ]
           ],
           "sequentialminus": [
            [
             0,
             "#0d0887"
            ],
            [
             0.1111111111111111,
             "#46039f"
            ],
            [
             0.2222222222222222,
             "#7201a8"
            ],
            [
             0.3333333333333333,
             "#9c179e"
            ],
            [
             0.4444444444444444,
             "#bd3786"
            ],
            [
             0.5555555555555556,
             "#d8576b"
            ],
            [
             0.6666666666666666,
             "#ed7953"
            ],
            [
             0.7777777777777778,
             "#fb9f3a"
            ],
            [
             0.8888888888888888,
             "#fdca26"
            ],
            [
             1,
             "#f0f921"
            ]
           ]
          },
          "colorway": [
           "#636efa",
           "#EF553B",
           "#00cc96",
           "#ab63fa",
           "#FFA15A",
           "#19d3f3",
           "#FF6692",
           "#B6E880",
           "#FF97FF",
           "#FECB52"
          ],
          "font": {
           "color": "#2a3f5f"
          },
          "geo": {
           "bgcolor": "white",
           "lakecolor": "white",
           "landcolor": "white",
           "showlakes": true,
           "showland": true,
           "subunitcolor": "#C8D4E3"
          },
          "hoverlabel": {
           "align": "left"
          },
          "hovermode": "closest",
          "mapbox": {
           "style": "light"
          },
          "paper_bgcolor": "white",
          "plot_bgcolor": "white",
          "polar": {
           "angularaxis": {
            "gridcolor": "#EBF0F8",
            "linecolor": "#EBF0F8",
            "ticks": ""
           },
           "bgcolor": "white",
           "radialaxis": {
            "gridcolor": "#EBF0F8",
            "linecolor": "#EBF0F8",
            "ticks": ""
           }
          },
          "scene": {
           "xaxis": {
            "backgroundcolor": "white",
            "gridcolor": "#DFE8F3",
            "gridwidth": 2,
            "linecolor": "#EBF0F8",
            "showbackground": true,
            "ticks": "",
            "zerolinecolor": "#EBF0F8"
           },
           "yaxis": {
            "backgroundcolor": "white",
            "gridcolor": "#DFE8F3",
            "gridwidth": 2,
            "linecolor": "#EBF0F8",
            "showbackground": true,
            "ticks": "",
            "zerolinecolor": "#EBF0F8"
           },
           "zaxis": {
            "backgroundcolor": "white",
            "gridcolor": "#DFE8F3",
            "gridwidth": 2,
            "linecolor": "#EBF0F8",
            "showbackground": true,
            "ticks": "",
            "zerolinecolor": "#EBF0F8"
           }
          },
          "shapedefaults": {
           "line": {
            "color": "#2a3f5f"
           }
          },
          "ternary": {
           "aaxis": {
            "gridcolor": "#DFE8F3",
            "linecolor": "#A2B1C6",
            "ticks": ""
           },
           "baxis": {
            "gridcolor": "#DFE8F3",
            "linecolor": "#A2B1C6",
            "ticks": ""
           },
           "bgcolor": "white",
           "caxis": {
            "gridcolor": "#DFE8F3",
            "linecolor": "#A2B1C6",
            "ticks": ""
           }
          },
          "title": {
           "x": 0.05
          },
          "xaxis": {
           "automargin": true,
           "gridcolor": "#EBF0F8",
           "linecolor": "#EBF0F8",
           "ticks": "",
           "title": {
            "standoff": 15
           },
           "zerolinecolor": "#EBF0F8",
           "zerolinewidth": 2
          },
          "yaxis": {
           "automargin": true,
           "gridcolor": "#EBF0F8",
           "linecolor": "#EBF0F8",
           "ticks": "",
           "title": {
            "standoff": 15
           },
           "zerolinecolor": "#EBF0F8",
           "zerolinewidth": 2
          }
         }
        },
        "title": {
         "text": "Distribution of Caffeine"
        },
        "xaxis": {
         "anchor": "y",
         "domain": [
          0,
          1
         ],
         "title": {
          "text": "Caffeine (mg)"
         }
        },
        "yaxis": {
         "anchor": "x",
         "domain": [
          0,
          1
         ],
         "title": {
          "text": "count"
         }
        }
       }
      }
     },
     "metadata": {},
     "output_type": "display_data"
    }
   ],
   "source": [
    "px.histogram(caffeine, \n",
    "             x = 'Caffeine (mg)', \n",
    "             title='Distribution of Caffeine', \n",
    "             template='plotly_white')"
   ]
  },
  {
   "cell_type": "markdown",
   "id": "1800437b",
   "metadata": {},
   "source": [
    "Again we have a long, right-sided tail. This time for Caffeine. Let's zoom in on the tail by looking at any drink with > 400 mg of caffeine."
   ]
  },
  {
   "cell_type": "code",
   "execution_count": 18,
   "id": "fe0a8a50",
   "metadata": {},
   "outputs": [
    {
     "data": {
      "application/vnd.plotly.v1+json": {
       "config": {
        "plotlyServerURL": "https://plot.ly"
       },
       "data": [
        {
         "alignmentgroup": "True",
         "bingroup": "x",
         "hovertemplate": "Caffeine (mg)=%{x}<br>count=%{y}<extra></extra>",
         "legendgroup": "",
         "marker": {
          "color": "#636efa",
          "pattern": {
           "shape": ""
          }
         },
         "name": "",
         "nbinsx": 10,
         "offsetgroup": "",
         "orientation": "v",
         "showlegend": false,
         "type": "histogram",
         "x": [
          430,
          640,
          928,
          1105,
          1555,
          1101,
          728,
          1325,
          1150,
          500,
          1182,
          1350
         ],
         "xaxis": "x",
         "yaxis": "y"
        }
       ],
       "layout": {
        "barmode": "relative",
        "legend": {
         "tracegroupgap": 0
        },
        "template": {
         "data": {
          "bar": [
           {
            "error_x": {
             "color": "#2a3f5f"
            },
            "error_y": {
             "color": "#2a3f5f"
            },
            "marker": {
             "line": {
              "color": "white",
              "width": 0.5
             },
             "pattern": {
              "fillmode": "overlay",
              "size": 10,
              "solidity": 0.2
             }
            },
            "type": "bar"
           }
          ],
          "barpolar": [
           {
            "marker": {
             "line": {
              "color": "white",
              "width": 0.5
             },
             "pattern": {
              "fillmode": "overlay",
              "size": 10,
              "solidity": 0.2
             }
            },
            "type": "barpolar"
           }
          ],
          "carpet": [
           {
            "aaxis": {
             "endlinecolor": "#2a3f5f",
             "gridcolor": "#C8D4E3",
             "linecolor": "#C8D4E3",
             "minorgridcolor": "#C8D4E3",
             "startlinecolor": "#2a3f5f"
            },
            "baxis": {
             "endlinecolor": "#2a3f5f",
             "gridcolor": "#C8D4E3",
             "linecolor": "#C8D4E3",
             "minorgridcolor": "#C8D4E3",
             "startlinecolor": "#2a3f5f"
            },
            "type": "carpet"
           }
          ],
          "choropleth": [
           {
            "colorbar": {
             "outlinewidth": 0,
             "ticks": ""
            },
            "type": "choropleth"
           }
          ],
          "contour": [
           {
            "colorbar": {
             "outlinewidth": 0,
             "ticks": ""
            },
            "colorscale": [
             [
              0,
              "#0d0887"
             ],
             [
              0.1111111111111111,
              "#46039f"
             ],
             [
              0.2222222222222222,
              "#7201a8"
             ],
             [
              0.3333333333333333,
              "#9c179e"
             ],
             [
              0.4444444444444444,
              "#bd3786"
             ],
             [
              0.5555555555555556,
              "#d8576b"
             ],
             [
              0.6666666666666666,
              "#ed7953"
             ],
             [
              0.7777777777777778,
              "#fb9f3a"
             ],
             [
              0.8888888888888888,
              "#fdca26"
             ],
             [
              1,
              "#f0f921"
             ]
            ],
            "type": "contour"
           }
          ],
          "contourcarpet": [
           {
            "colorbar": {
             "outlinewidth": 0,
             "ticks": ""
            },
            "type": "contourcarpet"
           }
          ],
          "heatmap": [
           {
            "colorbar": {
             "outlinewidth": 0,
             "ticks": ""
            },
            "colorscale": [
             [
              0,
              "#0d0887"
             ],
             [
              0.1111111111111111,
              "#46039f"
             ],
             [
              0.2222222222222222,
              "#7201a8"
             ],
             [
              0.3333333333333333,
              "#9c179e"
             ],
             [
              0.4444444444444444,
              "#bd3786"
             ],
             [
              0.5555555555555556,
              "#d8576b"
             ],
             [
              0.6666666666666666,
              "#ed7953"
             ],
             [
              0.7777777777777778,
              "#fb9f3a"
             ],
             [
              0.8888888888888888,
              "#fdca26"
             ],
             [
              1,
              "#f0f921"
             ]
            ],
            "type": "heatmap"
           }
          ],
          "heatmapgl": [
           {
            "colorbar": {
             "outlinewidth": 0,
             "ticks": ""
            },
            "colorscale": [
             [
              0,
              "#0d0887"
             ],
             [
              0.1111111111111111,
              "#46039f"
             ],
             [
              0.2222222222222222,
              "#7201a8"
             ],
             [
              0.3333333333333333,
              "#9c179e"
             ],
             [
              0.4444444444444444,
              "#bd3786"
             ],
             [
              0.5555555555555556,
              "#d8576b"
             ],
             [
              0.6666666666666666,
              "#ed7953"
             ],
             [
              0.7777777777777778,
              "#fb9f3a"
             ],
             [
              0.8888888888888888,
              "#fdca26"
             ],
             [
              1,
              "#f0f921"
             ]
            ],
            "type": "heatmapgl"
           }
          ],
          "histogram": [
           {
            "marker": {
             "pattern": {
              "fillmode": "overlay",
              "size": 10,
              "solidity": 0.2
             }
            },
            "type": "histogram"
           }
          ],
          "histogram2d": [
           {
            "colorbar": {
             "outlinewidth": 0,
             "ticks": ""
            },
            "colorscale": [
             [
              0,
              "#0d0887"
             ],
             [
              0.1111111111111111,
              "#46039f"
             ],
             [
              0.2222222222222222,
              "#7201a8"
             ],
             [
              0.3333333333333333,
              "#9c179e"
             ],
             [
              0.4444444444444444,
              "#bd3786"
             ],
             [
              0.5555555555555556,
              "#d8576b"
             ],
             [
              0.6666666666666666,
              "#ed7953"
             ],
             [
              0.7777777777777778,
              "#fb9f3a"
             ],
             [
              0.8888888888888888,
              "#fdca26"
             ],
             [
              1,
              "#f0f921"
             ]
            ],
            "type": "histogram2d"
           }
          ],
          "histogram2dcontour": [
           {
            "colorbar": {
             "outlinewidth": 0,
             "ticks": ""
            },
            "colorscale": [
             [
              0,
              "#0d0887"
             ],
             [
              0.1111111111111111,
              "#46039f"
             ],
             [
              0.2222222222222222,
              "#7201a8"
             ],
             [
              0.3333333333333333,
              "#9c179e"
             ],
             [
              0.4444444444444444,
              "#bd3786"
             ],
             [
              0.5555555555555556,
              "#d8576b"
             ],
             [
              0.6666666666666666,
              "#ed7953"
             ],
             [
              0.7777777777777778,
              "#fb9f3a"
             ],
             [
              0.8888888888888888,
              "#fdca26"
             ],
             [
              1,
              "#f0f921"
             ]
            ],
            "type": "histogram2dcontour"
           }
          ],
          "mesh3d": [
           {
            "colorbar": {
             "outlinewidth": 0,
             "ticks": ""
            },
            "type": "mesh3d"
           }
          ],
          "parcoords": [
           {
            "line": {
             "colorbar": {
              "outlinewidth": 0,
              "ticks": ""
             }
            },
            "type": "parcoords"
           }
          ],
          "pie": [
           {
            "automargin": true,
            "type": "pie"
           }
          ],
          "scatter": [
           {
            "fillpattern": {
             "fillmode": "overlay",
             "size": 10,
             "solidity": 0.2
            },
            "type": "scatter"
           }
          ],
          "scatter3d": [
           {
            "line": {
             "colorbar": {
              "outlinewidth": 0,
              "ticks": ""
             }
            },
            "marker": {
             "colorbar": {
              "outlinewidth": 0,
              "ticks": ""
             }
            },
            "type": "scatter3d"
           }
          ],
          "scattercarpet": [
           {
            "marker": {
             "colorbar": {
              "outlinewidth": 0,
              "ticks": ""
             }
            },
            "type": "scattercarpet"
           }
          ],
          "scattergeo": [
           {
            "marker": {
             "colorbar": {
              "outlinewidth": 0,
              "ticks": ""
             }
            },
            "type": "scattergeo"
           }
          ],
          "scattergl": [
           {
            "marker": {
             "colorbar": {
              "outlinewidth": 0,
              "ticks": ""
             }
            },
            "type": "scattergl"
           }
          ],
          "scattermapbox": [
           {
            "marker": {
             "colorbar": {
              "outlinewidth": 0,
              "ticks": ""
             }
            },
            "type": "scattermapbox"
           }
          ],
          "scatterpolar": [
           {
            "marker": {
             "colorbar": {
              "outlinewidth": 0,
              "ticks": ""
             }
            },
            "type": "scatterpolar"
           }
          ],
          "scatterpolargl": [
           {
            "marker": {
             "colorbar": {
              "outlinewidth": 0,
              "ticks": ""
             }
            },
            "type": "scatterpolargl"
           }
          ],
          "scatterternary": [
           {
            "marker": {
             "colorbar": {
              "outlinewidth": 0,
              "ticks": ""
             }
            },
            "type": "scatterternary"
           }
          ],
          "surface": [
           {
            "colorbar": {
             "outlinewidth": 0,
             "ticks": ""
            },
            "colorscale": [
             [
              0,
              "#0d0887"
             ],
             [
              0.1111111111111111,
              "#46039f"
             ],
             [
              0.2222222222222222,
              "#7201a8"
             ],
             [
              0.3333333333333333,
              "#9c179e"
             ],
             [
              0.4444444444444444,
              "#bd3786"
             ],
             [
              0.5555555555555556,
              "#d8576b"
             ],
             [
              0.6666666666666666,
              "#ed7953"
             ],
             [
              0.7777777777777778,
              "#fb9f3a"
             ],
             [
              0.8888888888888888,
              "#fdca26"
             ],
             [
              1,
              "#f0f921"
             ]
            ],
            "type": "surface"
           }
          ],
          "table": [
           {
            "cells": {
             "fill": {
              "color": "#EBF0F8"
             },
             "line": {
              "color": "white"
             }
            },
            "header": {
             "fill": {
              "color": "#C8D4E3"
             },
             "line": {
              "color": "white"
             }
            },
            "type": "table"
           }
          ]
         },
         "layout": {
          "annotationdefaults": {
           "arrowcolor": "#2a3f5f",
           "arrowhead": 0,
           "arrowwidth": 1
          },
          "autotypenumbers": "strict",
          "coloraxis": {
           "colorbar": {
            "outlinewidth": 0,
            "ticks": ""
           }
          },
          "colorscale": {
           "diverging": [
            [
             0,
             "#8e0152"
            ],
            [
             0.1,
             "#c51b7d"
            ],
            [
             0.2,
             "#de77ae"
            ],
            [
             0.3,
             "#f1b6da"
            ],
            [
             0.4,
             "#fde0ef"
            ],
            [
             0.5,
             "#f7f7f7"
            ],
            [
             0.6,
             "#e6f5d0"
            ],
            [
             0.7,
             "#b8e186"
            ],
            [
             0.8,
             "#7fbc41"
            ],
            [
             0.9,
             "#4d9221"
            ],
            [
             1,
             "#276419"
            ]
           ],
           "sequential": [
            [
             0,
             "#0d0887"
            ],
            [
             0.1111111111111111,
             "#46039f"
            ],
            [
             0.2222222222222222,
             "#7201a8"
            ],
            [
             0.3333333333333333,
             "#9c179e"
            ],
            [
             0.4444444444444444,
             "#bd3786"
            ],
            [
             0.5555555555555556,
             "#d8576b"
            ],
            [
             0.6666666666666666,
             "#ed7953"
            ],
            [
             0.7777777777777778,
             "#fb9f3a"
            ],
            [
             0.8888888888888888,
             "#fdca26"
            ],
            [
             1,
             "#f0f921"
            ]
           ],
           "sequentialminus": [
            [
             0,
             "#0d0887"
            ],
            [
             0.1111111111111111,
             "#46039f"
            ],
            [
             0.2222222222222222,
             "#7201a8"
            ],
            [
             0.3333333333333333,
             "#9c179e"
            ],
            [
             0.4444444444444444,
             "#bd3786"
            ],
            [
             0.5555555555555556,
             "#d8576b"
            ],
            [
             0.6666666666666666,
             "#ed7953"
            ],
            [
             0.7777777777777778,
             "#fb9f3a"
            ],
            [
             0.8888888888888888,
             "#fdca26"
            ],
            [
             1,
             "#f0f921"
            ]
           ]
          },
          "colorway": [
           "#636efa",
           "#EF553B",
           "#00cc96",
           "#ab63fa",
           "#FFA15A",
           "#19d3f3",
           "#FF6692",
           "#B6E880",
           "#FF97FF",
           "#FECB52"
          ],
          "font": {
           "color": "#2a3f5f"
          },
          "geo": {
           "bgcolor": "white",
           "lakecolor": "white",
           "landcolor": "white",
           "showlakes": true,
           "showland": true,
           "subunitcolor": "#C8D4E3"
          },
          "hoverlabel": {
           "align": "left"
          },
          "hovermode": "closest",
          "mapbox": {
           "style": "light"
          },
          "paper_bgcolor": "white",
          "plot_bgcolor": "white",
          "polar": {
           "angularaxis": {
            "gridcolor": "#EBF0F8",
            "linecolor": "#EBF0F8",
            "ticks": ""
           },
           "bgcolor": "white",
           "radialaxis": {
            "gridcolor": "#EBF0F8",
            "linecolor": "#EBF0F8",
            "ticks": ""
           }
          },
          "scene": {
           "xaxis": {
            "backgroundcolor": "white",
            "gridcolor": "#DFE8F3",
            "gridwidth": 2,
            "linecolor": "#EBF0F8",
            "showbackground": true,
            "ticks": "",
            "zerolinecolor": "#EBF0F8"
           },
           "yaxis": {
            "backgroundcolor": "white",
            "gridcolor": "#DFE8F3",
            "gridwidth": 2,
            "linecolor": "#EBF0F8",
            "showbackground": true,
            "ticks": "",
            "zerolinecolor": "#EBF0F8"
           },
           "zaxis": {
            "backgroundcolor": "white",
            "gridcolor": "#DFE8F3",
            "gridwidth": 2,
            "linecolor": "#EBF0F8",
            "showbackground": true,
            "ticks": "",
            "zerolinecolor": "#EBF0F8"
           }
          },
          "shapedefaults": {
           "line": {
            "color": "#2a3f5f"
           }
          },
          "ternary": {
           "aaxis": {
            "gridcolor": "#DFE8F3",
            "linecolor": "#A2B1C6",
            "ticks": ""
           },
           "baxis": {
            "gridcolor": "#DFE8F3",
            "linecolor": "#A2B1C6",
            "ticks": ""
           },
           "bgcolor": "white",
           "caxis": {
            "gridcolor": "#DFE8F3",
            "linecolor": "#A2B1C6",
            "ticks": ""
           }
          },
          "title": {
           "x": 0.05
          },
          "xaxis": {
           "automargin": true,
           "gridcolor": "#EBF0F8",
           "linecolor": "#EBF0F8",
           "ticks": "",
           "title": {
            "standoff": 15
           },
           "zerolinecolor": "#EBF0F8",
           "zerolinewidth": 2
          },
          "yaxis": {
           "automargin": true,
           "gridcolor": "#EBF0F8",
           "linecolor": "#EBF0F8",
           "ticks": "",
           "title": {
            "standoff": 15
           },
           "zerolinecolor": "#EBF0F8",
           "zerolinewidth": 2
          }
         }
        },
        "title": {
         "text": "Distribution of Drinks With Caffeine Content Higher Than 400 mg"
        },
        "xaxis": {
         "anchor": "y",
         "domain": [
          0,
          1
         ],
         "title": {
          "text": "Caffeine (mg)"
         }
        },
        "yaxis": {
         "anchor": "x",
         "domain": [
          0,
          1
         ],
         "title": {
          "text": "count"
         }
        }
       }
      }
     },
     "metadata": {},
     "output_type": "display_data"
    }
   ],
   "source": [
    "high_caffeine = caffeine[(caffeine['Caffeine (mg)'] > 400)]\n",
    "\n",
    "px.histogram(high_caffeine, \n",
    "             x = 'Caffeine (mg)', \n",
    "             nbins=10, \n",
    "             title='Distribution of Drinks With Caffeine Content Higher Than 400 mg', \n",
    "             template='plotly_white')"
   ]
  },
  {
   "cell_type": "markdown",
   "id": "c5677319",
   "metadata": {},
   "source": [
    "### Caffeine by Drink Type"
   ]
  },
  {
   "cell_type": "markdown",
   "id": "59ea9cc2",
   "metadata": {},
   "source": [
    "### Univariate Analysis - Takeaways"
   ]
  },
  {
   "cell_type": "markdown",
   "id": "d2d5c903",
   "metadata": {},
   "source": [
    "- A bit over half of the dataset is made up of Enery Drink and Coffee drink types\n",
    "- Most volumes fall between 200 and 475 ml\n",
    "- More than half of the drinks in the dataset appear to be low calorie (< 100 calories\n",
    "- Most drinks have less than 200 mg caffeine\n",
    "- ~ 75% drinks have a caffeine concentration of .75 or less"
   ]
  },
  {
   "cell_type": "markdown",
   "id": "69f30141",
   "metadata": {},
   "source": [
    "## Bivariate Analysis"
   ]
  },
  {
   "cell_type": "markdown",
   "id": "0e2a49c6",
   "metadata": {},
   "source": [
    "### Box Plot for Caffeine Across all Drink Types"
   ]
  },
  {
   "cell_type": "code",
   "execution_count": 19,
   "id": "a4b2bed4",
   "metadata": {},
   "outputs": [
    {
     "data": {
      "application/vnd.plotly.v1+json": {
       "config": {
        "plotlyServerURL": "https://plot.ly"
       },
       "data": [
        {
         "alignmentgroup": "True",
         "customdata": [
          [
           "Costa Coffee",
           256.99371499999995
          ],
          [
           "Coffee Friend Brewed Coffee",
           250.19181000000003
          ],
          [
           "Hell Energy Coffee",
           250.19181000000003
          ],
          [
           "Killer Coffee (AU)",
           250.19181000000003
          ],
          [
           "Nescafe Gold",
           250.19181000000003
          ],
          [
           "Espresso Monster",
           248.4174
          ],
          [
           "Dunkin Donuts Shot In The Dark",
           239.54535
          ],
          [
           "Illy Issimo Cafe",
           201.0998
          ],
          [
           "Starbucks Doubleshot Espresso",
           192.22775
          ],
          [
           "TrueStart Performance Coffee",
           150.82485
          ],
          [
           "Bizzy Cold Brew",
           78.96124499999999
          ],
          [
           "Zola Coconut Water Espresso",
           517.53625
          ],
          [
           "Barista Bros Iced Coffee",
           500.087885
          ],
          [
           "Dare Iced Coffee",
           500.087885
          ],
          [
           "V Iced Coffee",
           500.087885
          ],
          [
           "Bottled Iced Coffee Dunkin Donuts",
           405.15695
          ],
          [
           "Starbucks Bottled Frappuccino",
           405.15695
          ],
          [
           "Stok Cold Brew",
           405.15695
          ],
          [
           "Wide Awake Iced Coffee Drinks",
           405.15695
          ],
          [
           "Caribou Canned Cold Brew",
           340.09525
          ],
          [
           "McDonalds Iced Coffee",
           340.09525
          ],
          [
           "Premier Protein Cafe Latte",
           340.09525
          ],
          [
           "Stumptown Cold Brew Coffee",
           310.52175
          ],
          [
           "Espresso Shot",
           44.36025
          ],
          [
           "Peet's Coffee Espresso",
           44.36025
          ],
          [
           "Peet's Decaf Espresso",
           44.36025
          ],
          [
           "Gourmesso Coffee Pods",
           39.924225
          ],
          [
           "Nespresso Coffee Capsules",
           39.924225
          ],
          [
           "Stok Coffee Shots",
           12.716605
          ],
          [
           "Starbucks Bottled Iced Coffee",
           1419.528
          ],
          [
           "Baskin Robbins Cappuccino Blast",
           709.764
          ],
          [
           "Dunkin' Cold Brew",
           709.764
          ],
          [
           "Dunkin' Donuts Iced Coffee",
           709.764
          ],
          [
           "Dunkin' Donuts Iced Latte",
           709.764
          ],
          [
           "Dutch Bros Coffee (Classic)",
           591.47
          ],
          [
           "Tim Hortons Large Brewed Coffee",
           591.47
          ],
          [
           "7 Eleven Brewed Coffee",
           473.176
          ],
          [
           "Arby's Jamocha Shake",
           473.176
          ],
          [
           "Biggby Brewed Coffee",
           473.176
          ],
          [
           "Biggby Creamy Lattes",
           473.176
          ],
          [
           "Biggby Iced Coffee",
           473.176
          ],
          [
           "Caribou Brewed Coffee",
           473.176
          ],
          [
           "Coffee Bean & Tea leaf Coffee",
           473.176
          ],
          [
           "Einstein Bros Coffee",
           473.176
          ],
          [
           "Latte",
           473.176
          ],
          [
           "McDonalds (McCafe) Latte",
           473.176
          ],
          [
           "McDonalds (McCafe) Mocha",
           473.176
          ],
          [
           "McDonalds Coffee",
           473.176
          ],
          [
           "Panera Bread Coffee",
           473.176
          ],
          [
           "Peet's Brewed Coffee",
           473.176
          ],
          [
           "Peet's Caffe Americano",
           473.176
          ],
          [
           "Peet's Caffe Latte",
           473.176
          ],
          [
           "Peet's Caffe Mocha",
           473.176
          ],
          [
           "Peet's Cappuccino",
           473.176
          ],
          [
           "Peet's Iced Coffee",
           473.176
          ],
          [
           "Peet's Iced Latte",
           473.176
          ],
          [
           "Peet's Iced Mocha",
           473.176
          ],
          [
           "Starbucks Caramel Macchiato",
           473.176
          ],
          [
           "Starbucks Cold Brew Coffee",
           473.176
          ],
          [
           "Starbucks Decaf Coffee",
           473.176
          ],
          [
           "Starbucks Grande Caffe Americano",
           473.176
          ],
          [
           "Starbucks Grande Caffe Latte",
           473.176
          ],
          [
           "Starbucks Grande Caffe Mocha",
           473.176
          ],
          [
           "Starbucks Grande Cappuccino",
           473.176
          ],
          [
           "Starbucks Grande Coffee",
           473.176
          ],
          [
           "Starbucks Iced Americano",
           473.176
          ],
          [
           "Starbucks Nitro Cold Brew Coffee",
           473.176
          ],
          [
           "Starbucks Pink Drink",
           473.176
          ],
          [
           "Starbucks Pumpkin Cream Cold Brew",
           473.176
          ],
          [
           "Starbucks Refreshers",
           473.176
          ],
          [
           "Wawa Coffee",
           473.176
          ],
          [
           "Private Selection Canned Espresso",
           443.6025
          ],
          [
           "Starbucks Doubleshot Energy",
           443.6025
          ],
          [
           "Wide Awak Energy Coffee",
           443.6025
          ],
          [
           "Chick-fil-A Frosted Coffee",
           414.029
          ],
          [
           "Chick-fil-A Iced Coffee",
           414.029
          ],
          [
           "Dunkin' Donuts Brewed Coffee",
           414.029
          ],
          [
           "Dunkin' Donuts Dunkaccino",
           414.029
          ],
          [
           "Dunkin' Donuts Extra Charged Coffee",
           414.029
          ],
          [
           "Dunkin' Donuts Latte",
           414.029
          ],
          [
           "Americano Coffee",
           354.882
          ],
          [
           "Big Train Java Chip Ice Coffee",
           354.882
          ],
          [
           "Biohazard Coffee",
           354.882
          ],
          [
           "Black Ink Coffee",
           354.882
          ],
          [
           "Black Insomnia Coffee",
           354.882
          ],
          [
           "Black Label Brewed Coffee",
           354.882
          ],
          [
           "Cafe Bustelo",
           354.882
          ],
          [
           "Caffe Mocha",
           354.882
          ],
          [
           "Caffe Nero Coffee",
           354.882
          ],
          [
           "Cannonball Coffee Maximum Charge (UK)",
           354.882
          ],
          [
           "Cappuccino",
           354.882
          ],
          [
           "Death Wish Coffee",
           354.882
          ],
          [
           "Devils Brew Extreme Caffeine Coffee",
           354.882
          ],
          [
           "Flat White",
           354.882
          ],
          [
           "GymBrew Coffee",
           354.882
          ],
          [
           "High Voltage Coffee (AU)",
           354.882
          ],
          [
           "International Delight Iced Coffee",
           354.882
          ],
          [
           "Seattle's Best Brewed Coffee",
           354.882
          ],
          [
           "Starbucks Iced Espresso Classics",
           354.882
          ],
          [
           "Stipe Miocic Extra Strength Coffee",
           354.882
          ],
          [
           "Sudden Instant Coffee",
           354.882
          ],
          [
           "Taft Coffee (EU)",
           354.882
          ],
          [
           "Very Strong Coffee",
           354.882
          ],
          [
           "Chameleon Cold Brew With Milk",
           325.3085
          ],
          [
           "Muscle Milk Coffee House",
           325.3085
          ],
          [
           "SlimFast Shake - Cappuccino",
           325.3085
          ],
          [
           "Starbucks Bottled Cold Brew",
           325.3085
          ],
          [
           "Starbucks Canned Nitro Cold Brew",
           325.3085
          ],
          [
           "Starbucks Cold & Crafted",
           325.3085
          ],
          [
           "Stumptown Nitro Cold Brew",
           325.3085
          ],
          [
           "Sunup Pure Green Coffee",
           325.3085
          ],
          [
           "Wide Awake Coffee Cold Brew",
           325.3085
          ],
          [
           "Chameleon Cold Brew RTD",
           295.735
          ],
          [
           "Chick-fil-A Brewed Coffee",
           295.735
          ],
          [
           "CoolBrew Coffee",
           295.735
          ],
          [
           "Tim Hortons Small French Vanilla Coffee",
           295.735
          ],
          [
           "La Colombe Cold Brew",
           266.1615
          ],
          [
           "La Colombe Draft Latte",
           266.1615
          ],
          [
           "Alpine Start Instant Coffee",
           236.588
          ],
          [
           "Bulletproof Coffee",
           236.588
          ],
          [
           "Califia Farms Cold Brew Coffee",
           236.588
          ],
          [
           "CBD Coffee",
           236.588
          ],
          [
           "Chameleon Cold Brew Coffee",
           236.588
          ],
          [
           "Coffee",
           236.588
          ],
          [
           "Coffee (Decaf, Instant)",
           236.588
          ],
          [
           "Coffee (Instant)",
           236.588
          ],
          [
           "Coffee Leaf Tea",
           236.588
          ],
          [
           "Crio Bru Brewed Cacao",
           236.588
          ],
          [
           "Death Wish Canned Cold Brew",
           236.588
          ],
          [
           "Death Wish Latte",
           236.588
          ],
          [
           "Decaf Coffee",
           236.588
          ],
          [
           "Driftaway Coffee",
           236.588
          ],
          [
           "Eight O'Clock Coffee",
           236.588
          ],
          [
           "Folgers Coffee",
           236.588
          ],
          [
           "Gold Peak Coffee",
           236.588
          ],
          [
           "Gothrider Gasoline Coffee",
           236.588
          ],
          [
           "High Brew Coffee",
           236.588
          ],
          [
           "Indulgio Cappuccino",
           236.588
          ],
          [
           "K Cup Decaf",
           236.588
          ],
          [
           "K-Cup Coffee",
           236.588
          ],
          [
           "Maxwell House Coffee",
           236.588
          ],
          [
           "Maxwell House Max Boost Coffee",
           236.588
          ],
          [
           "Nescafe Dolce Gusto",
           236.588
          ],
          [
           "Nescafe Ice Java",
           236.588
          ],
          [
           "Nescafe Ricoffy",
           236.588
          ],
          [
           "Nestle Milo",
           236.588
          ],
          [
           "Noocaf Smart Coffee",
           236.588
          ],
          [
           "Ocean Spray Brew",
           236.588
          ],
          [
           "Purity Coffee",
           236.588
          ],
          [
           "Revv Coffee Pods",
           236.588
          ],
          [
           "Robusta Coffee",
           236.588
          ],
          [
           "Starbucks 2X Coffee Pods",
           236.588
          ],
          [
           "Starbucks Cordusio Mocha",
           236.588
          ],
          [
           "Starbucks Verismo Coffee Pods",
           236.588
          ],
          [
           "Starbucks Via Ready Brew",
           236.588
          ],
          [
           "Steep 18 Cold Brew",
           236.588
          ],
          [
           "Taster's Choice Instant Coffee",
           236.588
          ],
          [
           "Voila Instant Coffee",
           236.588
          ],
          [
           "Waka Decaf Instant Coffee",
           236.588
          ],
          [
           "Waka Indian Instant Coffee",
           236.588
          ],
          [
           "Waka Instant Coffee",
           236.588
          ],
          [
           "Whipped (Dalgona) Coffee",
           236.588
          ],
          [
           "Mushroom Coffee",
           207.0145
          ],
          [
           "Cafe Con Leche",
           177.441
          ],
          [
           "Choffy (roasted cacao)",
           177.441
          ],
          [
           "COGO Caffeinated Hot Chocolate",
           177.441
          ],
          [
           "Dripdash Kyoto Coffee",
           177.441
          ],
          [
           "Long Black",
           177.441
          ],
          [
           "Nescafe 3 in 1 Instant Coffee",
           177.441
          ],
          [
           "Gloria Jean's Coffee",
           59.975058
          ],
          [
           "Biggby Espresso",
           59.147
          ],
          [
           "Greek Coffee (Metrios)",
           59.147
          ],
          [
           "Turkish Coffee",
           59.147
          ],
          [
           "28 Black Energy Drink",
           250.19181000000003
          ],
          [
           "4 Purpose Energy Drink",
           250.19181000000003
          ],
          [
           "BEEBAD Energy Drink",
           250.19181000000003
          ],
          [
           "Black Bruin Energy Drink",
           250.19181000000003
          ],
          [
           "Blu Frog Energy Drink",
           250.19181000000003
          ],
          [
           "Blue Bolt (UK)",
           250.19181000000003
          ],
          [
           "Blue Charge (UK)",
           250.19181000000003
          ],
          [
           "Blue Spark (UK)",
           250.19181000000003
          ],
          [
           "Bomb Energy Drink",
           250.19181000000003
          ],
          [
           "Boost Energy (UK)",
           250.19181000000003
          ],
          [
           "Euro Shopper Energy Drink (EU)",
           250.19181000000003
          ],
          [
           "Hell Energy Drink (EU)",
           250.19181000000003
          ],
          [
           "Hype Energy Drink (EU)",
           250.19181000000003
          ],
          [
           "M-150 Energy Drink",
           250.19181000000003
          ],
          [
           "Pure Cofain 699 (EU)",
           250.19181000000003
          ],
          [
           "Red Bull",
           250.19181000000003
          ],
          [
           "Red Bull Editions",
           250.19181000000003
          ],
          [
           "Red Bull Sugarfree",
           250.19181000000003
          ],
          [
           "Red Bull Zero",
           250.19181000000003
          ],
          [
           "Scheckters Energy Drink",
           250.19181000000003
          ],
          [
           "Slammers Energy Drink (EU)",
           250.19181000000003
          ],
          [
           "Source 1899 (UK)",
           250.19181000000003
          ],
          [
           "Taurus Energy Drink",
           250.19181000000003
          ],
          [
           "TENZING Natural Energy",
           250.19181000000003
          ],
          [
           "Tiger Energy Drink",
           250.19181000000003
          ],
          [
           "Tweaker Energy Drink",
           250.19181000000003
          ],
          [
           "Virtue Clean Energy Beverage",
           250.19181000000003
          ],
          [
           "Wildcat Energy Drink (UK)",
           250.19181000000003
          ],
          [
           "X Ray Energy Drink",
           250.19181000000003
          ],
          [
           "OK Energy Drink",
           249.896075
          ],
          [
           "Power Horse Energy Drink (EU)",
           249.896075
          ],
          [
           "V Energy Drink",
           249.896075
          ],
          [
           "XL Energy Drink (EU)",
           249.896075
          ],
          [
           "Crave Energy Drink (UK)",
           249.304605
          ],
          [
           "Bomba (EU)",
           248.4174
          ],
          [
           "Cintron Energy Drink",
           248.4174
          ],
          [
           "Dutch Bros Blue Rebel Energy Drink",
           248.4174
          ],
          [
           "XS Energy Drink",
           248.4174
          ],
          [
           "Wild Tiger Energy Drink",
           247.23446
          ],
          [
           "Liquid Ice Energy Drink",
           245.46005
          ],
          [
           "Rush! Energy Drink",
           245.46005
          ],
          [
           "Monster Hydro",
           751.1668999999999
          ],
          [
           "Monster Import",
           550.0671
          ],
          [
           "Moose Juice Energy Drink",
           500.97509
          ],
          [
           "Club Mate (EU)",
           500.087885
          ],
          [
           "Demon Energy Drink",
           500.087885
          ],
          [
           "LevlUp Gaming Booster",
           500.087885
          ],
          [
           "Monster Ripper Energy Juice (UK)",
           500.087885
          ],
          [
           "Monster The Doctor VR46 (UK)",
           500.087885
          ],
          [
           "Mother Energy Drink",
           500.087885
          ],
          [
           "Protein2O + Energy",
           500.087885
          ],
          [
           "Strike Force Energy Drink Mix",
           500.087885
          ],
          [
           "4C Energy Drink Mix",
           499.79215
          ],
          [
           "Arizona Arnold Palmer Half and Half",
           499.79215
          ],
          [
           "Gatorade Bolt 24 Energize",
           499.79215
          ],
          [
           "Live+ Energy Drink",
           499.79215
          ],
          [
           "Pure Kick Energy Drink Mix",
           499.79215
          ],
          [
           "Monster Dragon Tea",
           458.38925
          ],
          [
           "Monster Rehab",
           458.38925
          ],
          [
           "Neuro Sonic",
           428.81575
          ],
          [
           "Lucozade",
           380.019475
          ],
          [
           "Fakeer Energy Drink (EU)",
           370.26022
          ],
          [
           "Arizona Energy Drink Rx",
           340.09525
          ],
          [
           "Bai Boost",
           339.208045
          ],
          [
           "NOCCO Energy Drink (EU)",
           330.335995
          ],
          [
           "Carabao Energy Drink (UK)",
           330.04026
          ],
          [
           "Irn Bru (UK)",
           330.04026
          ],
          [
           "Soylent Stacked",
           330.04026
          ],
          [
           "Red Eye Energy Drink",
           328.26585
          ],
          [
           "Mega Monster Energy Drink",
           709.764
          ],
          [
           "Amino Force Energy Drink",
           650.617
          ],
          [
           "Bodyarmour Edge",
           591.47
          ],
          [
           "SoBe Energy Citrus",
           591.47
          ],
          [
           "ABB Turbo Tea Zero",
           532.323
          ],
          [
           "Bai Antioxidant Infusion",
           532.323
          ],
          [
           "Viso Energy Drink",
           502.7495
          ],
          [
           "3D Energy Drink",
           473.176
          ],
          [
           "Adrenaline Shoc",
           473.176
          ],
          [
           "Alsa Energy Drink Mix",
           473.176
          ],
          [
           "Bang Energy",
           473.176
          ],
          [
           "Bang Keto Coffee",
           473.176
          ],
          [
           "Bang Natural",
           473.176
          ],
          [
           "Bang Sweet Tea",
           473.176
          ],
          [
           "Beaver Buzz Energy Drink",
           473.176
          ],
          [
           "Berzerk Energy Drink Mix",
           473.176
          ],
          [
           "C4 Energy Drink",
           473.176
          ],
          [
           "C4 Smart Energy Drink",
           473.176
          ],
          [
           "C4 Ultimate Energy Drink",
           473.176
          ],
          [
           "Celsius Heat Energy Drink",
           473.176
          ],
          [
           "Crunk Energy Drink",
           473.176
          ],
          [
           "Crystal Light Energy Mix",
           473.176
          ],
          [
           "Electric Monkey Wild Energy Drink",
           473.176
          ],
          [
           "Full Throttle Energy Drink",
           473.176
          ],
          [
           "GFuel Cans",
           473.176
          ],
          [
           "GFuel Energy Drink Mix",
           473.176
          ],
          [
           "Go Fast Energy Drink",
           473.176
          ],
          [
           "Go Fast High Octane Energy Drink",
           473.176
          ],
          [
           "Great Value Energy Drink Mix",
           473.176
          ],
          [
           "Gridlock Energy Drink",
           473.176
          ],
          [
           "Hi Ball Energy Drink",
           473.176
          ],
          [
           "Joker Mad Energy",
           473.176
          ],
          [
           "Liquid Help Energy Drink",
           473.176
          ],
          [
           "Loud Energy Drink",
           473.176
          ],
          [
           "Monster Assault",
           473.176
          ],
          [
           "Monster Energy",
           473.176
          ],
          [
           "Monster Juice",
           473.176
          ],
          [
           "Monster Lo-Carb",
           473.176
          ],
          [
           "Monster Mango Loco",
           473.176
          ],
          [
           "Monster Mule",
           473.176
          ],
          [
           "Monster Pipeline Punch",
           473.176
          ],
          [
           "Monster Ultra",
           473.176
          ],
          [
           "Monster Zero Sugar",
           473.176
          ],
          [
           "Mountain Dew Amp",
           473.176
          ],
          [
           "Mountain Dew Game Fuel",
           473.176
          ],
          [
           "Mountain Dew Rise",
           473.176
          ],
          [
           "NOS Energy Drink",
           473.176
          ],
          [
           "Nuun Sport",
           473.176
          ],
          [
           "Propel Zero Powder",
           473.176
          ],
          [
           "Pure Boost Energy Drink Mix",
           473.176
          ],
          [
           "Quake Energy Berry Blast Slurpee",
           473.176
          ],
          [
           "Quake Energy Drink",
           473.176
          ],
          [
           "Raze Energy Drink",
           473.176
          ],
          [
           "Reign Total Body Fuel",
           473.176
          ],
          [
           "Rip It Energy Drink",
           473.176
          ],
          [
           "Rockstar Boom",
           473.176
          ],
          [
           "Rockstar Energy Drink (Original)",
           473.176
          ],
          [
           "Rockstar Halo Infinite",
           473.176
          ],
          [
           "Rockstar Juiced",
           473.176
          ],
          [
           "Rockstar Punched",
           473.176
          ],
          [
           "Rockstar Pure Zero",
           473.176
          ],
          [
           "Rockstar Recovery",
           473.176
          ],
          [
           "Rockstar Sugar Free",
           473.176
          ],
          [
           "Rockstar Thermo",
           473.176
          ],
          [
           "Rockstar XDurance",
           473.176
          ],
          [
           "Rockstar Zero Carb",
           473.176
          ],
          [
           "Rogue Energy Drink Mix",
           473.176
          ],
          [
           "Rowdy Energy Drink",
           473.176
          ],
          [
           "Sneak Energy Drink Mix",
           473.176
          ],
          [
           "Solimo Energy Drink",
           473.176
          ],
          [
           "Speed Energy Fuel",
           473.176
          ],
          [
           "Spider Energy Drink",
           473.176
          ],
          [
           "Spike Hardcore Energy",
           473.176
          ],
          [
           "Triton Energy Drink",
           473.176
          ],
          [
           "True Lemon Energy Mix",
           473.176
          ],
          [
           "Ugly Energy Water",
           473.176
          ],
          [
           "Venom Death Adder",
           473.176
          ],
          [
           "Wired X 3000 Energy Drink",
           473.176
          ],
          [
           "Wired X Berry Rush",
           473.176
          ],
          [
           "Wired X344 Energy Drink",
           473.176
          ],
          [
           "Xyience Energy Drink",
           473.176
          ],
          [
           "ZipFizz Energy Drink Mix",
           473.176
          ],
          [
           "Zoa Energy Drink",
           473.176
          ],
          [
           "Java Monster",
           443.6025
          ],
          [
           "Java Monster 300",
           443.6025
          ],
          [
           "Muscle Monster",
           443.6025
          ],
          [
           "Rockstar Organic Energy Drink",
           443.6025
          ],
          [
           "Starbucks Triple Shot Energy",
           443.6025
          ],
          [
           "Alani Nu Energy Drink",
           354.882
          ],
          [
           "ALL IN Energy Drink",
           354.882
          ],
          [
           "AXIO Energy Drink Mix",
           354.882
          ],
          [
           "Bing Energy Drink",
           354.882
          ],
          [
           "BreinFuel",
           354.882
          ],
          [
           "Burn Energy Drink",
           354.882
          ],
          [
           "C4 On The Go",
           354.882
          ],
          [
           "Celsius Energy Drink",
           354.882
          ],
          [
           "Celsius Stevia",
           354.882
          ],
          [
           "Coca-Cola Cherry Vanilla",
           354.882
          ],
          [
           "Coca-Cola Energy",
           354.882
          ],
          [
           "Cocaine Energy Drink",
           354.882
          ],
          [
           "Dark Dog Organic Energy",
           354.882
          ],
          [
           "Duff Energy Drink",
           354.882
          ],
          [
           "EBOOST Super Fuel",
           354.882
          ],
          [
           "EnerBee Energy Drink",
           354.882
          ],
          [
           "Go Girl Energy Drink",
           354.882
          ],
          [
           "GURU Energy Drink",
           354.882
          ],
          [
           "Hyde Xtreme",
           354.882
          ],
          [
           "Java Kick Coffee Cola",
           354.882
          ],
          [
           "Kill Cliff Energy X Recover",
           354.882
          ],
          [
           "Kill Cliff Ignite",
           354.882
          ],
          [
           "Kona Gold Energy Drink",
           354.882
          ],
          [
           "Marquis Energy Drink",
           354.882
          ],
          [
           "MATI Energy Drink",
           354.882
          ],
          [
           "Meltdown Ketone Drink",
           354.882
          ],
          [
           "Monster Maxx",
           354.882
          ],
          [
           "Nerd Focus",
           354.882
          ],
          [
           "Octane Energy Drink Mix",
           354.882
          ],
          [
           "Red Power Elixir",
           354.882
          ],
          [
           "Red Thunder Energy Drink",
           354.882
          ],
          [
           "RootJack Caffeinated Pirate Root Beer",
           354.882
          ],
          [
           "Runa",
           354.882
          ],
          [
           "Sambazon Amazon Energy Drink",
           354.882
          ],
          [
           "Spike Shooter",
           354.882
          ],
          [
           "Steaz Energy",
           354.882
          ],
          [
           "T-Virus Antidote",
           354.882
          ],
          [
           "Tru Energy Wakeup",
           354.882
          ],
          [
           "UPTIME Energy Drink",
           354.882
          ],
          [
           "USANA Rev3 Energy Drink",
           354.882
          ],
          [
           "Xtreme Shock Energy Drink",
           354.882
          ],
          [
           "Zest Sparkling Tea",
           354.882
          ],
          [
           "Zevia Energy Drink",
           354.882
          ],
          [
           "Cran Energy Juice",
           295.735
          ],
          [
           "Mamma Chia Energy",
           295.735
          ],
          [
           "Oikos Pro Fuel",
           295.735
          ],
          [
           "Advocare Slim",
           236.588
          ],
          [
           "Arbonne Energy Fizz Stck",
           236.588
          ],
          [
           "Berocca",
           236.588
          ],
          [
           "Best Choice Strawberry Energy Drink Mix",
           236.588
          ],
          [
           "EBOOST Energy Drink Mix",
           236.588
          ],
          [
           "EBOOST Workout Crusher Mix",
           236.588
          ],
          [
           "Great Value Energy Drink Enhancers",
           236.588
          ],
          [
           "Kin Spritz",
           236.588
          ],
          [
           "LYFT Energy Mix",
           236.588
          ],
          [
           "PerformElite Pre-Workout",
           236.588
          ],
          [
           "Perk Energy Beverage",
           236.588
          ],
          [
           "Redline Princess",
           236.588
          ],
          [
           "Redline Xtreme Energy Drink",
           236.588
          ],
          [
           "Roaring Lion Energy Drink",
           236.588
          ],
          [
           "Spark Energy Drink Mix",
           236.588
          ],
          [
           "V8 +Energy Drink",
           236.588
          ],
          [
           "Spike Energy Double Shot",
           125.98311
          ],
          [
           "Zombie Blood Energy Potion",
           100.5499
          ],
          [
           "Proper Wild Energy Shot",
           73.93375
          ],
          [
           "Redline Max 300",
           73.93375
          ],
          [
           "5 Hour Energy",
           57.076855
          ],
          [
           "5 Hour Energy Extra Strength",
           57.076855
          ],
          [
           "E6 Energy Shot",
           57.076855
          ],
          [
           "Eternal Energy Extra Strength",
           57.076855
          ],
          [
           "Eternal Energy Shot",
           57.076855
          ],
          [
           "Woke Up Energy Shot",
           57.076855
          ],
          [
           "Equip Pure Energy Shot",
           53.2323
          ],
          [
           "Mana Energy Potion",
           49.979215
          ],
          [
           "Clif Shot Energy Gel",
           35.4882
          ],
          [
           "Screamin Energy Max Hit",
           18.039835
          ],
          [
           "Vital 4U Liquid Energy",
           14.78675
          ],
          [
           "Kaffn8 Liquified Caffeine",
           7.393375
          ],
          [
           "Bang Shot",
           88.7205
          ],
          [
           "Redline Xtreme Shot",
           88.7205
          ],
          [
           "7-Eleven Energy Shot",
           59.147
          ],
          [
           "Advocare Slam Energy Shot",
           59.147
          ],
          [
           "Balance Active Shot",
           59.147
          ],
          [
           "Balance Energy Shot",
           59.147
          ],
          [
           "Forto Organic Coffee Shot",
           59.147
          ],
          [
           "Kirkland Energy Shot",
           59.147
          ],
          [
           "Neu Nootropic Shot",
           59.147
          ],
          [
           "Nutramint Smart Serum",
           59.147
          ],
          [
           "Performance Caffeine",
           59.147
          ],
          [
           "Phoenix Energy Shot",
           59.147
          ],
          [
           "Red Thunder Energy Shot",
           59.147
          ],
          [
           "Red Thunder Extra Strength",
           59.147
          ],
          [
           "Reed's Ginger Energize Shot",
           59.147
          ],
          [
           "Rip It Energy Shot",
           59.147
          ],
          [
           "Stacker Extreme Energy Shot",
           59.147
          ],
          [
           "Tweaker Shot",
           59.147
          ],
          [
           "TruBrain Extra",
           29.5735
          ],
          [
           "X-Mode Energy Shot",
           29.5735
          ],
          [
           "Red Bull Simply Cola",
           250.19181000000003
          ],
          [
           "Afri Cola",
           330.04026
          ],
          [
           "Fritz Kola (EU)",
           330.04026
          ],
          [
           "Pepsi Max (UK)",
           330.04026
          ],
          [
           "Premium Cola (EU)",
           330.04026
          ],
          [
           "Tropicana Twister Soda",
           591.47
          ],
          [
           "Bawls",
           473.176
          ],
          [
           "Mountain Dew Kickstart",
           473.176
          ],
          [
           "Sprecher Cherry Cola",
           473.176
          ],
          [
           "7-Up",
           354.882
          ],
          [
           "A&W Cream Soda",
           354.882
          ],
          [
           "A&W Root Beer",
           354.882
          ],
          [
           "A&W Zero Sugar Cream Soda",
           354.882
          ],
          [
           "Ale 8 1",
           354.882
          ],
          [
           "Barqs Red Creme Soda",
           354.882
          ],
          [
           "Barqs Root Beer",
           354.882
          ],
          [
           "Big Red Soda",
           354.882
          ],
          [
           "Canada Dry Green Tea Ginger Ale",
           354.882
          ],
          [
           "Cheerwine",
           354.882
          ],
          [
           "Coca-Cola Caffeine Free",
           354.882
          ],
          [
           "Coca-Cola Cherry",
           354.882
          ],
          [
           "Coca-Cola Cherry Zero Sugar",
           354.882
          ],
          [
           "Coca-Cola Classic",
           354.882
          ],
          [
           "Coca-Cola Orange Vanilla",
           354.882
          ],
          [
           "Coca-Cola Vanilla",
           354.882
          ],
          [
           "Coca-Cola Vanilla Zero Sugar",
           354.882
          ],
          [
           "Coca-Cola With Coffee",
           354.882
          ],
          [
           "Coca-Cola Zero Sugar",
           354.882
          ],
          [
           "Diet Barqs Root Beer",
           354.882
          ],
          [
           "Diet Cheerwine",
           354.882
          ],
          [
           "Diet Coke",
           354.882
          ],
          [
           "Diet Coke with Splenda",
           354.882
          ],
          [
           "Diet Dr Pepper",
           354.882
          ],
          [
           "Diet Mountain Dew",
           354.882
          ],
          [
           "Diet Pepsi",
           354.882
          ],
          [
           "Diet RC Cola",
           354.882
          ],
          [
           "Diet Wild Cherry Pepsi",
           354.882
          ],
          [
           "doc Soda",
           354.882
          ],
          [
           "Double Cola",
           354.882
          ],
          [
           "Dr Pepper",
           354.882
          ],
          [
           "Dr Pepper 10",
           354.882
          ],
          [
           "Dr Shasta Soda",
           354.882
          ],
          [
           "Fanta",
           354.882
          ],
          [
           "Faygo Cola",
           354.882
          ],
          [
           "Faygo Moon Mist",
           354.882
          ],
          [
           "Fresca",
           354.882
          ],
          [
           "Ginger Ale",
           354.882
          ],
          [
           "Green Cola",
           354.882
          ],
          [
           "IBC Root Beer",
           354.882
          ],
          [
           "Inca Kola",
           354.882
          ],
          [
           "Kickapoo Soda: Joy Juice & Fruit Shine",
           354.882
          ],
          [
           "Mello Yello",
           354.882
          ],
          [
           "Mountain Dew",
           354.882
          ],
          [
           "Mountain Dew Baja Blast",
           354.882
          ],
          [
           "Mountain Dew Code Red",
           354.882
          ],
          [
           "Mountain Dew Live Wire",
           354.882
          ],
          [
           "Mountain Dew Major Melon",
           354.882
          ],
          [
           "Mountain Dew Voltage",
           354.882
          ],
          [
           "Mountain Dew Zero Sugar",
           354.882
          ],
          [
           "Moxie Soda",
           354.882
          ],
          [
           "Mug Root Beer",
           354.882
          ],
          [
           "Orange Crush",
           354.882
          ],
          [
           "PC Cola",
           354.882
          ],
          [
           "PC Cola Diet",
           354.882
          ],
          [
           "Pepsi",
           354.882
          ],
          [
           "Pepsi Caffeine Free",
           354.882
          ],
          [
           "Pepsi Made With Sugar",
           354.882
          ],
          [
           "Pepsi Zero Sugar",
           354.882
          ],
          [
           "Pibb Xtra",
           354.882
          ],
          [
           "RC (Royal Crown) Cola",
           354.882
          ],
          [
           "Ritz Cola",
           354.882
          ],
          [
           "Ruby Red Squirt",
           354.882
          ],
          [
           "Sarsaparilla",
           354.882
          ],
          [
           "Shasta Cola",
           354.882
          ],
          [
           "Shasta Diet Cola",
           354.882
          ],
          [
           "Shasta Mountain Rush",
           354.882
          ],
          [
           "Ski Soda",
           354.882
          ],
          [
           "Slurpee",
           354.882
          ],
          [
           "Sprite",
           354.882
          ],
          [
           "Squirt Soda",
           354.882
          ],
          [
           "Starbucks Refreshers Canned",
           354.882
          ],
          [
           "Sun Drop Soda",
           354.882
          ],
          [
           "Sunkist Orange Soda",
           354.882
          ],
          [
           "Vernors Ginger Ale",
           354.882
          ],
          [
           "Wave Soda",
           354.882
          ],
          [
           "Wild Cherry Pepsi",
           354.882
          ],
          [
           "Zevia Cola",
           354.882
          ],
          [
           "Boost Nutritional Drink",
           236.588
          ],
          [
           "Mucho Mango Energy Drink",
           236.588
          ],
          [
           "Soda Stream",
           236.588
          ],
          [
           "PG Tips Black Tea",
           200.50833
          ],
          [
           "Sencha Green Tea Shot",
           189.2704
          ],
          [
           "Xingtea Iced Green Tea",
           694.97725
          ],
          [
           "Gold Peak Tea",
           547.10975
          ],
          [
           "Pure Leaf Iced Tea",
           547.10975
          ],
          [
           "Honest Iced Tea",
           499.79215
          ],
          [
           "Nestea Iced Tea",
           499.79215
          ],
          [
           "Oi Ocha Green Tea",
           499.79215
          ],
          [
           "Teas' Tea Oolong",
           499.79215
          ],
          [
           "Guayaki Canned Yerba Mate",
           458.38925
          ],
          [
           "Inko's White Tea Energy",
           458.38925
          ],
          [
           "Master Brew Kombucha",
           449.5172
          ],
          [
           "McDonalds Sweet Tea",
           946.352
          ],
          [
           "Dunkin' Donuts Iced Tea",
           709.764
          ],
          [
           "Fuze Iced Tea",
           709.764
          ],
          [
           "Peace Tea",
           680.1904999999999
          ],
          [
           "Lipton Iced Tea",
           591.47
          ],
          [
           "SoBe Green Tea",
           591.47
          ],
          [
           "Arizona Iced Tea",
           473.176
          ],
          [
           "Biggby Iced Tea",
           473.176
          ],
          [
           "Chick-fil-A Iced Tea",
           473.176
          ],
          [
           "Guayaki Yerba Mate Bottled Tea",
           473.176
          ],
          [
           "Snapple Tea",
           473.176
          ],
          [
           "Southern Sweet Tea",
           473.176
          ],
          [
           "Taiwanese Milk Tea",
           473.176
          ],
          [
           "Wendy's Iced Tea",
           473.176
          ],
          [
           "Xing Craft Brew",
           473.176
          ],
          [
           "Brew Dr Kombucha Uplift",
           414.029
          ],
          [
           "Brisk Iced Tea",
           354.882
          ],
          [
           "KOE Kombucha",
           354.882
          ],
          [
           "Tejava Iced Tea",
           354.882
          ],
          [
           "Turkey Hill Iced Tea",
           354.882
          ],
          [
           "Big Train Spiced Chai",
           236.588
          ],
          [
           "Bigelow Tea",
           236.588
          ],
          [
           "Brown Rice Tea",
           236.588
          ],
          [
           "Chai Tea",
           236.588
          ],
          [
           "Cold Brew Tea",
           236.588
          ],
          [
           "Crystal Light Iced Tea",
           236.588
          ],
          [
           "Fast Lane Black Tea",
           236.588
          ],
          [
           "Guayusa Tea",
           236.588
          ],
          [
           "HICAF Tea",
           236.588
          ],
          [
           "K Cup Tea",
           236.588
          ],
          [
           "Kombucha Tea",
           236.588
          ],
          [
           "Lipton Natural Energy Tea",
           236.588
          ],
          [
           "Lipton Tea",
           236.588
          ],
          [
           "Matcha Tea",
           236.588
          ],
          [
           "Morning Thunder Tea",
           236.588
          ],
          [
           "Tazo Chai",
           236.588
          ],
          [
           "Tea (Black)",
           236.588
          ],
          [
           "Tea (Decaf)",
           236.588
          ],
          [
           "Tea (Green)",
           236.588
          ],
          [
           "Tea (Herbal)",
           236.588
          ],
          [
           "Tea (Iced)",
           236.588
          ],
          [
           "Tea (Instant)",
           236.588
          ],
          [
           "Tea (Jasmine)",
           236.588
          ],
          [
           "Tea (Oolong)",
           236.588
          ],
          [
           "Tea (White)",
           236.588
          ],
          [
           "Teavana Tea",
           236.588
          ],
          [
           "Twig Tea (Kukicha)",
           236.588
          ],
          [
           "Waka Instant Tea",
           236.588
          ],
          [
           "Yellow Tea",
           236.588
          ],
          [
           "Yerba Mate Tea",
           236.588
          ],
          [
           "YMateina Yerba Mate",
           236.588
          ],
          [
           "Zest Highly Caffeinated Tea",
           236.588
          ],
          [
           "Oregon Chai Tea",
           177.441
          ],
          [
           "Pacific Chai",
           177.441
          ],
          [
           "Perrier Energize",
           250.19181000000003
          ],
          [
           "3 Water",
           499.79215
          ],
          [
           "Heroec Energy Water",
           499.79215
          ],
          [
           "Caribou BOUsted Sparkling Water",
           340.09525
          ],
          [
           "Phocus Sparkling Water",
           340.09525
          ],
          [
           "Poland Spring Sparkling Energy Water",
           340.09525
          ],
          [
           "Perrier Sparkling Water",
           329.744525
          ],
          [
           "VitaminWater Energy",
           591.47
          ],
          [
           "VitaRain Zero Enhanced Water",
           591.47
          ],
          [
           "Water Joe",
           591.47
          ],
          [
           "Polar Frost Plus Energy",
           502.7495
          ],
          [
           "Hint Caffeine Kick Water",
           473.176
          ],
          [
           "Sparkling Ice +Caffeine",
           473.176
          ],
          [
           "AHA Sparkling Water",
           354.882
          ],
          [
           "Arti Sparkling Water",
           354.882
          ],
          [
           "Bubbl'r Sparkling Water",
           354.882
          ],
          [
           "Bubly Bounce Sparkling Water",
           354.882
          ],
          [
           "Bubly Sparkling Water",
           354.882
          ],
          [
           "GURU Sparkling Energy Water",
           354.882
          ],
          [
           "La Croix Sparkling Water",
           354.882
          ],
          [
           "Limitless Sparkling Water",
           354.882
          ],
          [
           "Pep Talk Sparkling Water",
           354.882
          ],
          [
           "Polar Seltzer Water",
           354.882
          ],
          [
           "Yerbae Sparkling Water",
           354.882
          ],
          [
           "Tonic Water",
           295.735
          ],
          [
           "MiO Energy Water Enhancer",
           236.588
          ]
         ],
         "hovertemplate": "Type=%{x}<br>Caffeine (mg)=%{y}<br>drink=%{customdata[0]}<br>Volume (ml)=%{customdata[1]}<extra></extra>",
         "legendgroup": "",
         "marker": {
          "color": "#636efa"
         },
         "name": "",
         "notched": false,
         "offsetgroup": "",
         "orientation": "v",
         "showlegend": false,
         "type": "box",
         "x": [
          "Coffee",
          "Coffee",
          "Coffee",
          "Coffee",
          "Coffee",
          "Coffee",
          "Coffee",
          "Coffee",
          "Coffee",
          "Coffee",
          "Coffee",
          "Coffee",
          "Coffee",
          "Coffee",
          "Coffee",
          "Coffee",
          "Coffee",
          "Coffee",
          "Coffee",
          "Coffee",
          "Coffee",
          "Coffee",
          "Coffee",
          "Coffee",
          "Coffee",
          "Coffee",
          "Coffee",
          "Coffee",
          "Coffee",
          "Coffee",
          "Coffee",
          "Coffee",
          "Coffee",
          "Coffee",
          "Coffee",
          "Coffee",
          "Coffee",
          "Coffee",
          "Coffee",
          "Coffee",
          "Coffee",
          "Coffee",
          "Coffee",
          "Coffee",
          "Coffee",
          "Coffee",
          "Coffee",
          "Coffee",
          "Coffee",
          "Coffee",
          "Coffee",
          "Coffee",
          "Coffee",
          "Coffee",
          "Coffee",
          "Coffee",
          "Coffee",
          "Coffee",
          "Coffee",
          "Coffee",
          "Coffee",
          "Coffee",
          "Coffee",
          "Coffee",
          "Coffee",
          "Coffee",
          "Coffee",
          "Coffee",
          "Coffee",
          "Coffee",
          "Coffee",
          "Coffee",
          "Coffee",
          "Coffee",
          "Coffee",
          "Coffee",
          "Coffee",
          "Coffee",
          "Coffee",
          "Coffee",
          "Coffee",
          "Coffee",
          "Coffee",
          "Coffee",
          "Coffee",
          "Coffee",
          "Coffee",
          "Coffee",
          "Coffee",
          "Coffee",
          "Coffee",
          "Coffee",
          "Coffee",
          "Coffee",
          "Coffee",
          "Coffee",
          "Coffee",
          "Coffee",
          "Coffee",
          "Coffee",
          "Coffee",
          "Coffee",
          "Coffee",
          "Coffee",
          "Coffee",
          "Coffee",
          "Coffee",
          "Coffee",
          "Coffee",
          "Coffee",
          "Coffee",
          "Coffee",
          "Coffee",
          "Coffee",
          "Coffee",
          "Coffee",
          "Coffee",
          "Coffee",
          "Coffee",
          "Coffee",
          "Coffee",
          "Coffee",
          "Coffee",
          "Coffee",
          "Coffee",
          "Coffee",
          "Coffee",
          "Coffee",
          "Coffee",
          "Coffee",
          "Coffee",
          "Coffee",
          "Coffee",
          "Coffee",
          "Coffee",
          "Coffee",
          "Coffee",
          "Coffee",
          "Coffee",
          "Coffee",
          "Coffee",
          "Coffee",
          "Coffee",
          "Coffee",
          "Coffee",
          "Coffee",
          "Coffee",
          "Coffee",
          "Coffee",
          "Coffee",
          "Coffee",
          "Coffee",
          "Coffee",
          "Coffee",
          "Coffee",
          "Coffee",
          "Coffee",
          "Coffee",
          "Coffee",
          "Coffee",
          "Coffee",
          "Coffee",
          "Coffee",
          "Coffee",
          "Coffee",
          "Coffee",
          "Coffee",
          "Coffee",
          "Coffee",
          "Coffee",
          "Coffee",
          "Coffee",
          "Coffee",
          "Energy Drinks",
          "Energy Drinks",
          "Energy Drinks",
          "Energy Drinks",
          "Energy Drinks",
          "Energy Drinks",
          "Energy Drinks",
          "Energy Drinks",
          "Energy Drinks",
          "Energy Drinks",
          "Energy Drinks",
          "Energy Drinks",
          "Energy Drinks",
          "Energy Drinks",
          "Energy Drinks",
          "Energy Drinks",
          "Energy Drinks",
          "Energy Drinks",
          "Energy Drinks",
          "Energy Drinks",
          "Energy Drinks",
          "Energy Drinks",
          "Energy Drinks",
          "Energy Drinks",
          "Energy Drinks",
          "Energy Drinks",
          "Energy Drinks",
          "Energy Drinks",
          "Energy Drinks",
          "Energy Drinks",
          "Energy Drinks",
          "Energy Drinks",
          "Energy Drinks",
          "Energy Drinks",
          "Energy Drinks",
          "Energy Drinks",
          "Energy Drinks",
          "Energy Drinks",
          "Energy Drinks",
          "Energy Drinks",
          "Energy Drinks",
          "Energy Drinks",
          "Energy Drinks",
          "Energy Drinks",
          "Energy Drinks",
          "Energy Drinks",
          "Energy Drinks",
          "Energy Drinks",
          "Energy Drinks",
          "Energy Drinks",
          "Energy Drinks",
          "Energy Drinks",
          "Energy Drinks",
          "Energy Drinks",
          "Energy Drinks",
          "Energy Drinks",
          "Energy Drinks",
          "Energy Drinks",
          "Energy Drinks",
          "Energy Drinks",
          "Energy Drinks",
          "Energy Drinks",
          "Energy Drinks",
          "Energy Drinks",
          "Energy Drinks",
          "Energy Drinks",
          "Energy Drinks",
          "Energy Drinks",
          "Energy Drinks",
          "Energy Drinks",
          "Energy Drinks",
          "Energy Drinks",
          "Energy Drinks",
          "Energy Drinks",
          "Energy Drinks",
          "Energy Drinks",
          "Energy Drinks",
          "Energy Drinks",
          "Energy Drinks",
          "Energy Drinks",
          "Energy Drinks",
          "Energy Drinks",
          "Energy Drinks",
          "Energy Drinks",
          "Energy Drinks",
          "Energy Drinks",
          "Energy Drinks",
          "Energy Drinks",
          "Energy Drinks",
          "Energy Drinks",
          "Energy Drinks",
          "Energy Drinks",
          "Energy Drinks",
          "Energy Drinks",
          "Energy Drinks",
          "Energy Drinks",
          "Energy Drinks",
          "Energy Drinks",
          "Energy Drinks",
          "Energy Drinks",
          "Energy Drinks",
          "Energy Drinks",
          "Energy Drinks",
          "Energy Drinks",
          "Energy Drinks",
          "Energy Drinks",
          "Energy Drinks",
          "Energy Drinks",
          "Energy Drinks",
          "Energy Drinks",
          "Energy Drinks",
          "Energy Drinks",
          "Energy Drinks",
          "Energy Drinks",
          "Energy Drinks",
          "Energy Drinks",
          "Energy Drinks",
          "Energy Drinks",
          "Energy Drinks",
          "Energy Drinks",
          "Energy Drinks",
          "Energy Drinks",
          "Energy Drinks",
          "Energy Drinks",
          "Energy Drinks",
          "Energy Drinks",
          "Energy Drinks",
          "Energy Drinks",
          "Energy Drinks",
          "Energy Drinks",
          "Energy Drinks",
          "Energy Drinks",
          "Energy Drinks",
          "Energy Drinks",
          "Energy Drinks",
          "Energy Drinks",
          "Energy Drinks",
          "Energy Drinks",
          "Energy Drinks",
          "Energy Drinks",
          "Energy Drinks",
          "Energy Drinks",
          "Energy Drinks",
          "Energy Drinks",
          "Energy Drinks",
          "Energy Drinks",
          "Energy Drinks",
          "Energy Drinks",
          "Energy Drinks",
          "Energy Drinks",
          "Energy Drinks",
          "Energy Drinks",
          "Energy Drinks",
          "Energy Drinks",
          "Energy Drinks",
          "Energy Drinks",
          "Energy Drinks",
          "Energy Drinks",
          "Energy Drinks",
          "Energy Drinks",
          "Energy Drinks",
          "Energy Drinks",
          "Energy Drinks",
          "Energy Drinks",
          "Energy Drinks",
          "Energy Drinks",
          "Energy Drinks",
          "Energy Drinks",
          "Energy Drinks",
          "Energy Drinks",
          "Energy Drinks",
          "Energy Drinks",
          "Energy Drinks",
          "Energy Drinks",
          "Energy Drinks",
          "Energy Drinks",
          "Energy Drinks",
          "Energy Drinks",
          "Energy Drinks",
          "Energy Drinks",
          "Energy Drinks",
          "Energy Drinks",
          "Energy Drinks",
          "Energy Drinks",
          "Energy Drinks",
          "Energy Drinks",
          "Energy Drinks",
          "Energy Drinks",
          "Energy Drinks",
          "Energy Drinks",
          "Energy Drinks",
          "Energy Drinks",
          "Energy Drinks",
          "Energy Drinks",
          "Energy Drinks",
          "Energy Drinks",
          "Energy Drinks",
          "Energy Drinks",
          "Energy Drinks",
          "Energy Drinks",
          "Energy Drinks",
          "Energy Drinks",
          "Energy Drinks",
          "Energy Drinks",
          "Energy Drinks",
          "Energy Drinks",
          "Energy Drinks",
          "Energy Drinks",
          "Energy Drinks",
          "Energy Drinks",
          "Energy Drinks",
          "Energy Drinks",
          "Energy Drinks",
          "Energy Drinks",
          "Energy Drinks",
          "Energy Drinks",
          "Energy Drinks",
          "Energy Drinks",
          "Energy Drinks",
          "Energy Shots",
          "Energy Shots",
          "Energy Shots",
          "Energy Shots",
          "Energy Shots",
          "Energy Shots",
          "Energy Shots",
          "Energy Shots",
          "Energy Shots",
          "Energy Shots",
          "Energy Shots",
          "Energy Shots",
          "Energy Shots",
          "Energy Shots",
          "Energy Shots",
          "Energy Shots",
          "Energy Shots",
          "Energy Shots",
          "Energy Shots",
          "Energy Shots",
          "Energy Shots",
          "Energy Shots",
          "Energy Shots",
          "Energy Shots",
          "Energy Shots",
          "Energy Shots",
          "Energy Shots",
          "Energy Shots",
          "Energy Shots",
          "Energy Shots",
          "Energy Shots",
          "Energy Shots",
          "Energy Shots",
          "Energy Shots",
          "Energy Shots",
          "Energy Shots",
          "Soft Drinks",
          "Soft Drinks",
          "Soft Drinks",
          "Soft Drinks",
          "Soft Drinks",
          "Soft Drinks",
          "Soft Drinks",
          "Soft Drinks",
          "Soft Drinks",
          "Soft Drinks",
          "Soft Drinks",
          "Soft Drinks",
          "Soft Drinks",
          "Soft Drinks",
          "Soft Drinks",
          "Soft Drinks",
          "Soft Drinks",
          "Soft Drinks",
          "Soft Drinks",
          "Soft Drinks",
          "Soft Drinks",
          "Soft Drinks",
          "Soft Drinks",
          "Soft Drinks",
          "Soft Drinks",
          "Soft Drinks",
          "Soft Drinks",
          "Soft Drinks",
          "Soft Drinks",
          "Soft Drinks",
          "Soft Drinks",
          "Soft Drinks",
          "Soft Drinks",
          "Soft Drinks",
          "Soft Drinks",
          "Soft Drinks",
          "Soft Drinks",
          "Soft Drinks",
          "Soft Drinks",
          "Soft Drinks",
          "Soft Drinks",
          "Soft Drinks",
          "Soft Drinks",
          "Soft Drinks",
          "Soft Drinks",
          "Soft Drinks",
          "Soft Drinks",
          "Soft Drinks",
          "Soft Drinks",
          "Soft Drinks",
          "Soft Drinks",
          "Soft Drinks",
          "Soft Drinks",
          "Soft Drinks",
          "Soft Drinks",
          "Soft Drinks",
          "Soft Drinks",
          "Soft Drinks",
          "Soft Drinks",
          "Soft Drinks",
          "Soft Drinks",
          "Soft Drinks",
          "Soft Drinks",
          "Soft Drinks",
          "Soft Drinks",
          "Soft Drinks",
          "Soft Drinks",
          "Soft Drinks",
          "Soft Drinks",
          "Soft Drinks",
          "Soft Drinks",
          "Soft Drinks",
          "Soft Drinks",
          "Soft Drinks",
          "Soft Drinks",
          "Soft Drinks",
          "Soft Drinks",
          "Soft Drinks",
          "Soft Drinks",
          "Soft Drinks",
          "Soft Drinks",
          "Soft Drinks",
          "Soft Drinks",
          "Soft Drinks",
          "Soft Drinks",
          "Soft Drinks",
          "Soft Drinks",
          "Soft Drinks",
          "Soft Drinks",
          "Soft Drinks",
          "Tea",
          "Tea",
          "Tea",
          "Tea",
          "Tea",
          "Tea",
          "Tea",
          "Tea",
          "Tea",
          "Tea",
          "Tea",
          "Tea",
          "Tea",
          "Tea",
          "Tea",
          "Tea",
          "Tea",
          "Tea",
          "Tea",
          "Tea",
          "Tea",
          "Tea",
          "Tea",
          "Tea",
          "Tea",
          "Tea",
          "Tea",
          "Tea",
          "Tea",
          "Tea",
          "Tea",
          "Tea",
          "Tea",
          "Tea",
          "Tea",
          "Tea",
          "Tea",
          "Tea",
          "Tea",
          "Tea",
          "Tea",
          "Tea",
          "Tea",
          "Tea",
          "Tea",
          "Tea",
          "Tea",
          "Tea",
          "Tea",
          "Tea",
          "Tea",
          "Tea",
          "Tea",
          "Tea",
          "Tea",
          "Tea",
          "Tea",
          "Tea",
          "Tea",
          "Tea",
          "Tea",
          "Tea",
          "Tea",
          "Tea",
          "Tea",
          "Tea",
          "Water",
          "Water",
          "Water",
          "Water",
          "Water",
          "Water",
          "Water",
          "Water",
          "Water",
          "Water",
          "Water",
          "Water",
          "Water",
          "Water",
          "Water",
          "Water",
          "Water",
          "Water",
          "Water",
          "Water",
          "Water",
          "Water",
          "Water",
          "Water",
          "Water",
          "Water"
         ],
         "x0": " ",
         "xaxis": "x",
         "y": [
          277,
          145,
          100,
          430,
          66,
          160,
          134,
          155,
          120,
          95,
          125,
          125,
          140,
          160,
          155,
          171,
          110,
          145,
          30,
          177,
          133,
          120,
          279,
          77,
          70,
          10,
          65,
          60,
          40,
          640,
          234,
          260,
          297,
          166,
          187,
          270,
          280,
          12,
          200,
          100,
          155,
          305,
          333,
          206,
          154,
          142,
          167,
          145,
          189,
          267,
          140,
          140,
          165,
          140,
          150,
          140,
          165,
          150,
          205,
          25,
          225,
          150,
          175,
          150,
          310,
          225,
          280,
          45,
          185,
          45,
          290,
          145,
          135,
          180,
          130,
          80,
          210,
          83,
          252,
          166,
          154,
          49,
          928,
          144,
          1105,
          1555,
          150,
          152,
          160,
          1101,
          154,
          728,
          1325,
          130,
          333,
          1150,
          88,
          260,
          125,
          500,
          95,
          1182,
          1350,
          100,
          120,
          100,
          180,
          235,
          135,
          330,
          200,
          120,
          230,
          136,
          60,
          60,
          180,
          120,
          120,
          145,
          180,
          100,
          200,
          163,
          2,
          57,
          20,
          10,
          300,
          300,
          6,
          160,
          112,
          112,
          126,
          200,
          140,
          20,
          4,
          100,
          112,
          196,
          106,
          100,
          6,
          4,
          160,
          40,
          163,
          127,
          265,
          260,
          155,
          60,
          135,
          90,
          98,
          100,
          4,
          70,
          70,
          105,
          40,
          154,
          23,
          98,
          225,
          154,
          50,
          67,
          100,
          50,
          50,
          80,
          70,
          80,
          38,
          80,
          80,
          80,
          75,
          80,
          80,
          80,
          80,
          80,
          80,
          175,
          80,
          80,
          80,
          80,
          80,
          80,
          80,
          50,
          80,
          80,
          80,
          80,
          80,
          79,
          80,
          80,
          78,
          80,
          80,
          80,
          85,
          80,
          80,
          75,
          80,
          80,
          188,
          179,
          200,
          100,
          160,
          250,
          160,
          160,
          160,
          125,
          160,
          170,
          15,
          75,
          150,
          80,
          155,
          170,
          100,
          46,
          118,
          127,
          110,
          180,
          106,
          30,
          100,
          106,
          240,
          200,
          100,
          81,
          120,
          55,
          300,
          200,
          300,
          100,
          300,
          300,
          250,
          300,
          178,
          200,
          200,
          200,
          300,
          300,
          192,
          60,
          160,
          160,
          300,
          140,
          160,
          300,
          120,
          140,
          160,
          160,
          300,
          320,
          160,
          160,
          160,
          140,
          152,
          160,
          160,
          150,
          140,
          142,
          90,
          180,
          160,
          40,
          0,
          100,
          92,
          250,
          300,
          300,
          160,
          160,
          160,
          240,
          170,
          240,
          240,
          160,
          160,
          300,
          300,
          240,
          175,
          160,
          150,
          152,
          186,
          240,
          350,
          200,
          120,
          160,
          160,
          185,
          95,
          344,
          160,
          100,
          160,
          200,
          300,
          157,
          160,
          225,
          200,
          75,
          100,
          120,
          360,
          112,
          200,
          200,
          200,
          34,
          114,
          280,
          114,
          120,
          110,
          100,
          100,
          140,
          400,
          100,
          25,
          150,
          115,
          100,
          110,
          225,
          200,
          128,
          225,
          160,
          120,
          120,
          150,
          120,
          300,
          100,
          100,
          100,
          142,
          120,
          200,
          135,
          120,
          70,
          90,
          100,
          120,
          55,
          90,
          120,
          110,
          175,
          50,
          50,
          125,
          225,
          100,
          300,
          316,
          77,
          120,
          80,
          350,
          80,
          180,
          300,
          200,
          230,
          235,
          280,
          230,
          225,
          100,
          75,
          100,
          185,
          155,
          75,
          300,
          300,
          260,
          120,
          100,
          150,
          225,
          180,
          350,
          200,
          180,
          280,
          138,
          230,
          100,
          120,
          205,
          275,
          100,
          150,
          32,
          83,
          83,
          43,
          83,
          0,
          102,
          90,
          0,
          0,
          0,
          0,
          0,
          37,
          0,
          22,
          34,
          9,
          47,
          0,
          34,
          34,
          34,
          34,
          34,
          34,
          69,
          34,
          0,
          47,
          46,
          46,
          41,
          54,
          35,
          48,
          38,
          60,
          36,
          42,
          51,
          29,
          0,
          43,
          20,
          0,
          0,
          37,
          0,
          38,
          40,
          51,
          54,
          54,
          54,
          54,
          55,
          55,
          68,
          24,
          0,
          0,
          12,
          13,
          38,
          0,
          38,
          69,
          40,
          43,
          10,
          39,
          0,
          43,
          47,
          54,
          69,
          30,
          0,
          0,
          50,
          64,
          19,
          0,
          42,
          38,
          45,
          5,
          0,
          31,
          50,
          40,
          110,
          48,
          69,
          63,
          23,
          60,
          70,
          150,
          165,
          76,
          100,
          63,
          24,
          23,
          25,
          7,
          30,
          38,
          62,
          140,
          37,
          41,
          151,
          32,
          120,
          130,
          11,
          15,
          50,
          64,
          65,
          45,
          4,
          50,
          70,
          10,
          110,
          41,
          110,
          41,
          24,
          75,
          55,
          64,
          45,
          47,
          42,
          4,
          18,
          0,
          47,
          40,
          25,
          37,
          28,
          41,
          25,
          30,
          63,
          40,
          80,
          150,
          45,
          29,
          99,
          50,
          60,
          75,
          75,
          75,
          0,
          50,
          42,
          70,
          67,
          60,
          70,
          30,
          120,
          69,
          35,
          0,
          100,
          0,
          35,
          55,
          0,
          100,
          0,
          60
         ],
         "y0": " ",
         "yaxis": "y"
        }
       ],
       "layout": {
        "boxmode": "group",
        "legend": {
         "tracegroupgap": 0
        },
        "template": {
         "data": {
          "bar": [
           {
            "error_x": {
             "color": "#2a3f5f"
            },
            "error_y": {
             "color": "#2a3f5f"
            },
            "marker": {
             "line": {
              "color": "white",
              "width": 0.5
             },
             "pattern": {
              "fillmode": "overlay",
              "size": 10,
              "solidity": 0.2
             }
            },
            "type": "bar"
           }
          ],
          "barpolar": [
           {
            "marker": {
             "line": {
              "color": "white",
              "width": 0.5
             },
             "pattern": {
              "fillmode": "overlay",
              "size": 10,
              "solidity": 0.2
             }
            },
            "type": "barpolar"
           }
          ],
          "carpet": [
           {
            "aaxis": {
             "endlinecolor": "#2a3f5f",
             "gridcolor": "#C8D4E3",
             "linecolor": "#C8D4E3",
             "minorgridcolor": "#C8D4E3",
             "startlinecolor": "#2a3f5f"
            },
            "baxis": {
             "endlinecolor": "#2a3f5f",
             "gridcolor": "#C8D4E3",
             "linecolor": "#C8D4E3",
             "minorgridcolor": "#C8D4E3",
             "startlinecolor": "#2a3f5f"
            },
            "type": "carpet"
           }
          ],
          "choropleth": [
           {
            "colorbar": {
             "outlinewidth": 0,
             "ticks": ""
            },
            "type": "choropleth"
           }
          ],
          "contour": [
           {
            "colorbar": {
             "outlinewidth": 0,
             "ticks": ""
            },
            "colorscale": [
             [
              0,
              "#0d0887"
             ],
             [
              0.1111111111111111,
              "#46039f"
             ],
             [
              0.2222222222222222,
              "#7201a8"
             ],
             [
              0.3333333333333333,
              "#9c179e"
             ],
             [
              0.4444444444444444,
              "#bd3786"
             ],
             [
              0.5555555555555556,
              "#d8576b"
             ],
             [
              0.6666666666666666,
              "#ed7953"
             ],
             [
              0.7777777777777778,
              "#fb9f3a"
             ],
             [
              0.8888888888888888,
              "#fdca26"
             ],
             [
              1,
              "#f0f921"
             ]
            ],
            "type": "contour"
           }
          ],
          "contourcarpet": [
           {
            "colorbar": {
             "outlinewidth": 0,
             "ticks": ""
            },
            "type": "contourcarpet"
           }
          ],
          "heatmap": [
           {
            "colorbar": {
             "outlinewidth": 0,
             "ticks": ""
            },
            "colorscale": [
             [
              0,
              "#0d0887"
             ],
             [
              0.1111111111111111,
              "#46039f"
             ],
             [
              0.2222222222222222,
              "#7201a8"
             ],
             [
              0.3333333333333333,
              "#9c179e"
             ],
             [
              0.4444444444444444,
              "#bd3786"
             ],
             [
              0.5555555555555556,
              "#d8576b"
             ],
             [
              0.6666666666666666,
              "#ed7953"
             ],
             [
              0.7777777777777778,
              "#fb9f3a"
             ],
             [
              0.8888888888888888,
              "#fdca26"
             ],
             [
              1,
              "#f0f921"
             ]
            ],
            "type": "heatmap"
           }
          ],
          "heatmapgl": [
           {
            "colorbar": {
             "outlinewidth": 0,
             "ticks": ""
            },
            "colorscale": [
             [
              0,
              "#0d0887"
             ],
             [
              0.1111111111111111,
              "#46039f"
             ],
             [
              0.2222222222222222,
              "#7201a8"
             ],
             [
              0.3333333333333333,
              "#9c179e"
             ],
             [
              0.4444444444444444,
              "#bd3786"
             ],
             [
              0.5555555555555556,
              "#d8576b"
             ],
             [
              0.6666666666666666,
              "#ed7953"
             ],
             [
              0.7777777777777778,
              "#fb9f3a"
             ],
             [
              0.8888888888888888,
              "#fdca26"
             ],
             [
              1,
              "#f0f921"
             ]
            ],
            "type": "heatmapgl"
           }
          ],
          "histogram": [
           {
            "marker": {
             "pattern": {
              "fillmode": "overlay",
              "size": 10,
              "solidity": 0.2
             }
            },
            "type": "histogram"
           }
          ],
          "histogram2d": [
           {
            "colorbar": {
             "outlinewidth": 0,
             "ticks": ""
            },
            "colorscale": [
             [
              0,
              "#0d0887"
             ],
             [
              0.1111111111111111,
              "#46039f"
             ],
             [
              0.2222222222222222,
              "#7201a8"
             ],
             [
              0.3333333333333333,
              "#9c179e"
             ],
             [
              0.4444444444444444,
              "#bd3786"
             ],
             [
              0.5555555555555556,
              "#d8576b"
             ],
             [
              0.6666666666666666,
              "#ed7953"
             ],
             [
              0.7777777777777778,
              "#fb9f3a"
             ],
             [
              0.8888888888888888,
              "#fdca26"
             ],
             [
              1,
              "#f0f921"
             ]
            ],
            "type": "histogram2d"
           }
          ],
          "histogram2dcontour": [
           {
            "colorbar": {
             "outlinewidth": 0,
             "ticks": ""
            },
            "colorscale": [
             [
              0,
              "#0d0887"
             ],
             [
              0.1111111111111111,
              "#46039f"
             ],
             [
              0.2222222222222222,
              "#7201a8"
             ],
             [
              0.3333333333333333,
              "#9c179e"
             ],
             [
              0.4444444444444444,
              "#bd3786"
             ],
             [
              0.5555555555555556,
              "#d8576b"
             ],
             [
              0.6666666666666666,
              "#ed7953"
             ],
             [
              0.7777777777777778,
              "#fb9f3a"
             ],
             [
              0.8888888888888888,
              "#fdca26"
             ],
             [
              1,
              "#f0f921"
             ]
            ],
            "type": "histogram2dcontour"
           }
          ],
          "mesh3d": [
           {
            "colorbar": {
             "outlinewidth": 0,
             "ticks": ""
            },
            "type": "mesh3d"
           }
          ],
          "parcoords": [
           {
            "line": {
             "colorbar": {
              "outlinewidth": 0,
              "ticks": ""
             }
            },
            "type": "parcoords"
           }
          ],
          "pie": [
           {
            "automargin": true,
            "type": "pie"
           }
          ],
          "scatter": [
           {
            "fillpattern": {
             "fillmode": "overlay",
             "size": 10,
             "solidity": 0.2
            },
            "type": "scatter"
           }
          ],
          "scatter3d": [
           {
            "line": {
             "colorbar": {
              "outlinewidth": 0,
              "ticks": ""
             }
            },
            "marker": {
             "colorbar": {
              "outlinewidth": 0,
              "ticks": ""
             }
            },
            "type": "scatter3d"
           }
          ],
          "scattercarpet": [
           {
            "marker": {
             "colorbar": {
              "outlinewidth": 0,
              "ticks": ""
             }
            },
            "type": "scattercarpet"
           }
          ],
          "scattergeo": [
           {
            "marker": {
             "colorbar": {
              "outlinewidth": 0,
              "ticks": ""
             }
            },
            "type": "scattergeo"
           }
          ],
          "scattergl": [
           {
            "marker": {
             "colorbar": {
              "outlinewidth": 0,
              "ticks": ""
             }
            },
            "type": "scattergl"
           }
          ],
          "scattermapbox": [
           {
            "marker": {
             "colorbar": {
              "outlinewidth": 0,
              "ticks": ""
             }
            },
            "type": "scattermapbox"
           }
          ],
          "scatterpolar": [
           {
            "marker": {
             "colorbar": {
              "outlinewidth": 0,
              "ticks": ""
             }
            },
            "type": "scatterpolar"
           }
          ],
          "scatterpolargl": [
           {
            "marker": {
             "colorbar": {
              "outlinewidth": 0,
              "ticks": ""
             }
            },
            "type": "scatterpolargl"
           }
          ],
          "scatterternary": [
           {
            "marker": {
             "colorbar": {
              "outlinewidth": 0,
              "ticks": ""
             }
            },
            "type": "scatterternary"
           }
          ],
          "surface": [
           {
            "colorbar": {
             "outlinewidth": 0,
             "ticks": ""
            },
            "colorscale": [
             [
              0,
              "#0d0887"
             ],
             [
              0.1111111111111111,
              "#46039f"
             ],
             [
              0.2222222222222222,
              "#7201a8"
             ],
             [
              0.3333333333333333,
              "#9c179e"
             ],
             [
              0.4444444444444444,
              "#bd3786"
             ],
             [
              0.5555555555555556,
              "#d8576b"
             ],
             [
              0.6666666666666666,
              "#ed7953"
             ],
             [
              0.7777777777777778,
              "#fb9f3a"
             ],
             [
              0.8888888888888888,
              "#fdca26"
             ],
             [
              1,
              "#f0f921"
             ]
            ],
            "type": "surface"
           }
          ],
          "table": [
           {
            "cells": {
             "fill": {
              "color": "#EBF0F8"
             },
             "line": {
              "color": "white"
             }
            },
            "header": {
             "fill": {
              "color": "#C8D4E3"
             },
             "line": {
              "color": "white"
             }
            },
            "type": "table"
           }
          ]
         },
         "layout": {
          "annotationdefaults": {
           "arrowcolor": "#2a3f5f",
           "arrowhead": 0,
           "arrowwidth": 1
          },
          "autotypenumbers": "strict",
          "coloraxis": {
           "colorbar": {
            "outlinewidth": 0,
            "ticks": ""
           }
          },
          "colorscale": {
           "diverging": [
            [
             0,
             "#8e0152"
            ],
            [
             0.1,
             "#c51b7d"
            ],
            [
             0.2,
             "#de77ae"
            ],
            [
             0.3,
             "#f1b6da"
            ],
            [
             0.4,
             "#fde0ef"
            ],
            [
             0.5,
             "#f7f7f7"
            ],
            [
             0.6,
             "#e6f5d0"
            ],
            [
             0.7,
             "#b8e186"
            ],
            [
             0.8,
             "#7fbc41"
            ],
            [
             0.9,
             "#4d9221"
            ],
            [
             1,
             "#276419"
            ]
           ],
           "sequential": [
            [
             0,
             "#0d0887"
            ],
            [
             0.1111111111111111,
             "#46039f"
            ],
            [
             0.2222222222222222,
             "#7201a8"
            ],
            [
             0.3333333333333333,
             "#9c179e"
            ],
            [
             0.4444444444444444,
             "#bd3786"
            ],
            [
             0.5555555555555556,
             "#d8576b"
            ],
            [
             0.6666666666666666,
             "#ed7953"
            ],
            [
             0.7777777777777778,
             "#fb9f3a"
            ],
            [
             0.8888888888888888,
             "#fdca26"
            ],
            [
             1,
             "#f0f921"
            ]
           ],
           "sequentialminus": [
            [
             0,
             "#0d0887"
            ],
            [
             0.1111111111111111,
             "#46039f"
            ],
            [
             0.2222222222222222,
             "#7201a8"
            ],
            [
             0.3333333333333333,
             "#9c179e"
            ],
            [
             0.4444444444444444,
             "#bd3786"
            ],
            [
             0.5555555555555556,
             "#d8576b"
            ],
            [
             0.6666666666666666,
             "#ed7953"
            ],
            [
             0.7777777777777778,
             "#fb9f3a"
            ],
            [
             0.8888888888888888,
             "#fdca26"
            ],
            [
             1,
             "#f0f921"
            ]
           ]
          },
          "colorway": [
           "#636efa",
           "#EF553B",
           "#00cc96",
           "#ab63fa",
           "#FFA15A",
           "#19d3f3",
           "#FF6692",
           "#B6E880",
           "#FF97FF",
           "#FECB52"
          ],
          "font": {
           "color": "#2a3f5f"
          },
          "geo": {
           "bgcolor": "white",
           "lakecolor": "white",
           "landcolor": "white",
           "showlakes": true,
           "showland": true,
           "subunitcolor": "#C8D4E3"
          },
          "hoverlabel": {
           "align": "left"
          },
          "hovermode": "closest",
          "mapbox": {
           "style": "light"
          },
          "paper_bgcolor": "white",
          "plot_bgcolor": "white",
          "polar": {
           "angularaxis": {
            "gridcolor": "#EBF0F8",
            "linecolor": "#EBF0F8",
            "ticks": ""
           },
           "bgcolor": "white",
           "radialaxis": {
            "gridcolor": "#EBF0F8",
            "linecolor": "#EBF0F8",
            "ticks": ""
           }
          },
          "scene": {
           "xaxis": {
            "backgroundcolor": "white",
            "gridcolor": "#DFE8F3",
            "gridwidth": 2,
            "linecolor": "#EBF0F8",
            "showbackground": true,
            "ticks": "",
            "zerolinecolor": "#EBF0F8"
           },
           "yaxis": {
            "backgroundcolor": "white",
            "gridcolor": "#DFE8F3",
            "gridwidth": 2,
            "linecolor": "#EBF0F8",
            "showbackground": true,
            "ticks": "",
            "zerolinecolor": "#EBF0F8"
           },
           "zaxis": {
            "backgroundcolor": "white",
            "gridcolor": "#DFE8F3",
            "gridwidth": 2,
            "linecolor": "#EBF0F8",
            "showbackground": true,
            "ticks": "",
            "zerolinecolor": "#EBF0F8"
           }
          },
          "shapedefaults": {
           "line": {
            "color": "#2a3f5f"
           }
          },
          "ternary": {
           "aaxis": {
            "gridcolor": "#DFE8F3",
            "linecolor": "#A2B1C6",
            "ticks": ""
           },
           "baxis": {
            "gridcolor": "#DFE8F3",
            "linecolor": "#A2B1C6",
            "ticks": ""
           },
           "bgcolor": "white",
           "caxis": {
            "gridcolor": "#DFE8F3",
            "linecolor": "#A2B1C6",
            "ticks": ""
           }
          },
          "title": {
           "x": 0.05
          },
          "xaxis": {
           "automargin": true,
           "gridcolor": "#EBF0F8",
           "linecolor": "#EBF0F8",
           "ticks": "",
           "title": {
            "standoff": 15
           },
           "zerolinecolor": "#EBF0F8",
           "zerolinewidth": 2
          },
          "yaxis": {
           "automargin": true,
           "gridcolor": "#EBF0F8",
           "linecolor": "#EBF0F8",
           "ticks": "",
           "title": {
            "standoff": 15
           },
           "zerolinecolor": "#EBF0F8",
           "zerolinewidth": 2
          }
         }
        },
        "title": {
         "text": "Caffeine Content By Drink Type"
        },
        "xaxis": {
         "anchor": "y",
         "domain": [
          0,
          1
         ],
         "title": {
          "text": "Type"
         }
        },
        "yaxis": {
         "anchor": "x",
         "domain": [
          0,
          1
         ],
         "title": {
          "text": "Caffeine (mg)"
         }
        }
       }
      }
     },
     "metadata": {},
     "output_type": "display_data"
    }
   ],
   "source": [
    "fig = px.box(caffeine, \n",
    "            x='type', \n",
    "            y='Caffeine (mg)',\n",
    "            title='Caffeine Content By Drink Type',\n",
    "            labels={'type': 'Type'},\n",
    "            template='plotly_white',\n",
    "            hover_data=['drink', 'Volume (ml)']\n",
    "            )\n",
    "fig"
   ]
  },
  {
   "cell_type": "markdown",
   "id": "aa5a6eea",
   "metadata": {},
   "source": [
    "Coffee has numerous outlying drinks where caffeine content is very high. Additionally, Coffee drinks appear to be a bit higher in terms of caffeine content than Energy Drinks. However, Energy Shots are higher on average than both Coffee and Energy Drinks. "
   ]
  },
  {
   "cell_type": "markdown",
   "id": "1e20cfd1",
   "metadata": {},
   "source": [
    "### Volume x Caffeine"
   ]
  },
  {
   "cell_type": "code",
   "execution_count": 20,
   "id": "7ca5614c",
   "metadata": {},
   "outputs": [
    {
     "data": {
      "application/vnd.plotly.v1+json": {
       "config": {
        "plotlyServerURL": "https://plot.ly"
       },
       "data": [
        {
         "customdata": [
          [
           "Costa Coffee"
          ],
          [
           "Coffee Friend Brewed Coffee"
          ],
          [
           "Hell Energy Coffee"
          ],
          [
           "Killer Coffee (AU)"
          ],
          [
           "Nescafe Gold"
          ],
          [
           "Espresso Monster"
          ],
          [
           "Dunkin Donuts Shot In The Dark"
          ],
          [
           "Illy Issimo Cafe"
          ],
          [
           "Starbucks Doubleshot Espresso"
          ],
          [
           "TrueStart Performance Coffee"
          ],
          [
           "Bizzy Cold Brew"
          ],
          [
           "Zola Coconut Water Espresso"
          ],
          [
           "Barista Bros Iced Coffee"
          ],
          [
           "Dare Iced Coffee"
          ],
          [
           "V Iced Coffee"
          ],
          [
           "Bottled Iced Coffee Dunkin Donuts"
          ],
          [
           "Starbucks Bottled Frappuccino"
          ],
          [
           "Stok Cold Brew"
          ],
          [
           "Wide Awake Iced Coffee Drinks"
          ],
          [
           "Caribou Canned Cold Brew"
          ],
          [
           "McDonalds Iced Coffee"
          ],
          [
           "Premier Protein Cafe Latte"
          ],
          [
           "Stumptown Cold Brew Coffee"
          ],
          [
           "Espresso Shot"
          ],
          [
           "Peet's Coffee Espresso"
          ],
          [
           "Peet's Decaf Espresso"
          ],
          [
           "Gourmesso Coffee Pods"
          ],
          [
           "Nespresso Coffee Capsules"
          ],
          [
           "Stok Coffee Shots"
          ],
          [
           "Starbucks Bottled Iced Coffee"
          ],
          [
           "Baskin Robbins Cappuccino Blast"
          ],
          [
           "Dunkin' Cold Brew"
          ],
          [
           "Dunkin' Donuts Iced Coffee"
          ],
          [
           "Dunkin' Donuts Iced Latte"
          ],
          [
           "Dutch Bros Coffee (Classic)"
          ],
          [
           "Tim Hortons Large Brewed Coffee"
          ],
          [
           "7 Eleven Brewed Coffee"
          ],
          [
           "Arby's Jamocha Shake"
          ],
          [
           "Biggby Brewed Coffee"
          ],
          [
           "Biggby Creamy Lattes"
          ],
          [
           "Biggby Iced Coffee"
          ],
          [
           "Caribou Brewed Coffee"
          ],
          [
           "Coffee Bean & Tea leaf Coffee"
          ],
          [
           "Einstein Bros Coffee"
          ],
          [
           "Latte"
          ],
          [
           "McDonalds (McCafe) Latte"
          ],
          [
           "McDonalds (McCafe) Mocha"
          ],
          [
           "McDonalds Coffee"
          ],
          [
           "Panera Bread Coffee"
          ],
          [
           "Peet's Brewed Coffee"
          ],
          [
           "Peet's Caffe Americano"
          ],
          [
           "Peet's Caffe Latte"
          ],
          [
           "Peet's Caffe Mocha"
          ],
          [
           "Peet's Cappuccino"
          ],
          [
           "Peet's Iced Coffee"
          ],
          [
           "Peet's Iced Latte"
          ],
          [
           "Peet's Iced Mocha"
          ],
          [
           "Starbucks Caramel Macchiato"
          ],
          [
           "Starbucks Cold Brew Coffee"
          ],
          [
           "Starbucks Decaf Coffee"
          ],
          [
           "Starbucks Grande Caffe Americano"
          ],
          [
           "Starbucks Grande Caffe Latte"
          ],
          [
           "Starbucks Grande Caffe Mocha"
          ],
          [
           "Starbucks Grande Cappuccino"
          ],
          [
           "Starbucks Grande Coffee"
          ],
          [
           "Starbucks Iced Americano"
          ],
          [
           "Starbucks Nitro Cold Brew Coffee"
          ],
          [
           "Starbucks Pink Drink"
          ],
          [
           "Starbucks Pumpkin Cream Cold Brew"
          ],
          [
           "Starbucks Refreshers"
          ],
          [
           "Wawa Coffee"
          ],
          [
           "Private Selection Canned Espresso"
          ],
          [
           "Starbucks Doubleshot Energy"
          ],
          [
           "Wide Awak Energy Coffee"
          ],
          [
           "Chick-fil-A Frosted Coffee"
          ],
          [
           "Chick-fil-A Iced Coffee"
          ],
          [
           "Dunkin' Donuts Brewed Coffee"
          ],
          [
           "Dunkin' Donuts Dunkaccino"
          ],
          [
           "Dunkin' Donuts Extra Charged Coffee"
          ],
          [
           "Dunkin' Donuts Latte"
          ],
          [
           "Americano Coffee"
          ],
          [
           "Big Train Java Chip Ice Coffee"
          ],
          [
           "Biohazard Coffee"
          ],
          [
           "Black Ink Coffee"
          ],
          [
           "Black Insomnia Coffee"
          ],
          [
           "Black Label Brewed Coffee"
          ],
          [
           "Cafe Bustelo"
          ],
          [
           "Caffe Mocha"
          ],
          [
           "Caffe Nero Coffee"
          ],
          [
           "Cannonball Coffee Maximum Charge (UK)"
          ],
          [
           "Cappuccino"
          ],
          [
           "Death Wish Coffee"
          ],
          [
           "Devils Brew Extreme Caffeine Coffee"
          ],
          [
           "Flat White"
          ],
          [
           "GymBrew Coffee"
          ],
          [
           "High Voltage Coffee (AU)"
          ],
          [
           "International Delight Iced Coffee"
          ],
          [
           "Seattle's Best Brewed Coffee"
          ],
          [
           "Starbucks Iced Espresso Classics"
          ],
          [
           "Stipe Miocic Extra Strength Coffee"
          ],
          [
           "Sudden Instant Coffee"
          ],
          [
           "Taft Coffee (EU)"
          ],
          [
           "Very Strong Coffee"
          ],
          [
           "Chameleon Cold Brew With Milk"
          ],
          [
           "Muscle Milk Coffee House"
          ],
          [
           "SlimFast Shake - Cappuccino"
          ],
          [
           "Starbucks Bottled Cold Brew"
          ],
          [
           "Starbucks Canned Nitro Cold Brew"
          ],
          [
           "Starbucks Cold & Crafted"
          ],
          [
           "Stumptown Nitro Cold Brew"
          ],
          [
           "Sunup Pure Green Coffee"
          ],
          [
           "Wide Awake Coffee Cold Brew"
          ],
          [
           "Chameleon Cold Brew RTD"
          ],
          [
           "Chick-fil-A Brewed Coffee"
          ],
          [
           "CoolBrew Coffee"
          ],
          [
           "Tim Hortons Small French Vanilla Coffee"
          ],
          [
           "La Colombe Cold Brew"
          ],
          [
           "La Colombe Draft Latte"
          ],
          [
           "Alpine Start Instant Coffee"
          ],
          [
           "Bulletproof Coffee"
          ],
          [
           "Califia Farms Cold Brew Coffee"
          ],
          [
           "CBD Coffee"
          ],
          [
           "Chameleon Cold Brew Coffee"
          ],
          [
           "Coffee"
          ],
          [
           "Coffee (Decaf, Instant)"
          ],
          [
           "Coffee (Instant)"
          ],
          [
           "Coffee Leaf Tea"
          ],
          [
           "Crio Bru Brewed Cacao"
          ],
          [
           "Death Wish Canned Cold Brew"
          ],
          [
           "Death Wish Latte"
          ],
          [
           "Decaf Coffee"
          ],
          [
           "Driftaway Coffee"
          ],
          [
           "Eight O'Clock Coffee"
          ],
          [
           "Folgers Coffee"
          ],
          [
           "Gold Peak Coffee"
          ],
          [
           "Gothrider Gasoline Coffee"
          ],
          [
           "High Brew Coffee"
          ],
          [
           "Indulgio Cappuccino"
          ],
          [
           "K Cup Decaf"
          ],
          [
           "K-Cup Coffee"
          ],
          [
           "Maxwell House Coffee"
          ],
          [
           "Maxwell House Max Boost Coffee"
          ],
          [
           "Nescafe Dolce Gusto"
          ],
          [
           "Nescafe Ice Java"
          ],
          [
           "Nescafe Ricoffy"
          ],
          [
           "Nestle Milo"
          ],
          [
           "Noocaf Smart Coffee"
          ],
          [
           "Ocean Spray Brew"
          ],
          [
           "Purity Coffee"
          ],
          [
           "Revv Coffee Pods"
          ],
          [
           "Robusta Coffee"
          ],
          [
           "Starbucks 2X Coffee Pods"
          ],
          [
           "Starbucks Cordusio Mocha"
          ],
          [
           "Starbucks Verismo Coffee Pods"
          ],
          [
           "Starbucks Via Ready Brew"
          ],
          [
           "Steep 18 Cold Brew"
          ],
          [
           "Taster's Choice Instant Coffee"
          ],
          [
           "Voila Instant Coffee"
          ],
          [
           "Waka Decaf Instant Coffee"
          ],
          [
           "Waka Indian Instant Coffee"
          ],
          [
           "Waka Instant Coffee"
          ],
          [
           "Whipped (Dalgona) Coffee"
          ],
          [
           "Mushroom Coffee"
          ],
          [
           "Cafe Con Leche"
          ],
          [
           "Choffy (roasted cacao)"
          ],
          [
           "COGO Caffeinated Hot Chocolate"
          ],
          [
           "Dripdash Kyoto Coffee"
          ],
          [
           "Long Black"
          ],
          [
           "Nescafe 3 in 1 Instant Coffee"
          ],
          [
           "Gloria Jean's Coffee"
          ],
          [
           "Biggby Espresso"
          ],
          [
           "Greek Coffee (Metrios)"
          ],
          [
           "Turkish Coffee"
          ]
         ],
         "hovertemplate": "type=Coffee<br>Volume (ml)=%{x}<br>Caffeine (mg)=%{y}<br>drink=%{customdata[0]}<extra></extra>",
         "legendgroup": "Coffee",
         "marker": {
          "color": "#636efa",
          "symbol": "circle"
         },
         "mode": "markers",
         "name": "Coffee",
         "orientation": "v",
         "showlegend": true,
         "type": "scatter",
         "x": [
          256.99371499999995,
          250.19181000000003,
          250.19181000000003,
          250.19181000000003,
          250.19181000000003,
          248.4174,
          239.54535,
          201.0998,
          192.22775,
          150.82485,
          78.96124499999999,
          517.53625,
          500.087885,
          500.087885,
          500.087885,
          405.15695,
          405.15695,
          405.15695,
          405.15695,
          340.09525,
          340.09525,
          340.09525,
          310.52175,
          44.36025,
          44.36025,
          44.36025,
          39.924225,
          39.924225,
          12.716605,
          1419.528,
          709.764,
          709.764,
          709.764,
          709.764,
          591.47,
          591.47,
          473.176,
          473.176,
          473.176,
          473.176,
          473.176,
          473.176,
          473.176,
          473.176,
          473.176,
          473.176,
          473.176,
          473.176,
          473.176,
          473.176,
          473.176,
          473.176,
          473.176,
          473.176,
          473.176,
          473.176,
          473.176,
          473.176,
          473.176,
          473.176,
          473.176,
          473.176,
          473.176,
          473.176,
          473.176,
          473.176,
          473.176,
          473.176,
          473.176,
          473.176,
          473.176,
          443.6025,
          443.6025,
          443.6025,
          414.029,
          414.029,
          414.029,
          414.029,
          414.029,
          414.029,
          354.882,
          354.882,
          354.882,
          354.882,
          354.882,
          354.882,
          354.882,
          354.882,
          354.882,
          354.882,
          354.882,
          354.882,
          354.882,
          354.882,
          354.882,
          354.882,
          354.882,
          354.882,
          354.882,
          354.882,
          354.882,
          354.882,
          354.882,
          325.3085,
          325.3085,
          325.3085,
          325.3085,
          325.3085,
          325.3085,
          325.3085,
          325.3085,
          325.3085,
          295.735,
          295.735,
          295.735,
          295.735,
          266.1615,
          266.1615,
          236.588,
          236.588,
          236.588,
          236.588,
          236.588,
          236.588,
          236.588,
          236.588,
          236.588,
          236.588,
          236.588,
          236.588,
          236.588,
          236.588,
          236.588,
          236.588,
          236.588,
          236.588,
          236.588,
          236.588,
          236.588,
          236.588,
          236.588,
          236.588,
          236.588,
          236.588,
          236.588,
          236.588,
          236.588,
          236.588,
          236.588,
          236.588,
          236.588,
          236.588,
          236.588,
          236.588,
          236.588,
          236.588,
          236.588,
          236.588,
          236.588,
          236.588,
          236.588,
          236.588,
          207.0145,
          177.441,
          177.441,
          177.441,
          177.441,
          177.441,
          177.441,
          59.975058,
          59.147,
          59.147,
          59.147
         ],
         "xaxis": "x",
         "y": [
          277,
          145,
          100,
          430,
          66,
          160,
          134,
          155,
          120,
          95,
          125,
          125,
          140,
          160,
          155,
          171,
          110,
          145,
          30,
          177,
          133,
          120,
          279,
          77,
          70,
          10,
          65,
          60,
          40,
          640,
          234,
          260,
          297,
          166,
          187,
          270,
          280,
          12,
          200,
          100,
          155,
          305,
          333,
          206,
          154,
          142,
          167,
          145,
          189,
          267,
          140,
          140,
          165,
          140,
          150,
          140,
          165,
          150,
          205,
          25,
          225,
          150,
          175,
          150,
          310,
          225,
          280,
          45,
          185,
          45,
          290,
          145,
          135,
          180,
          130,
          80,
          210,
          83,
          252,
          166,
          154,
          49,
          928,
          144,
          1105,
          1555,
          150,
          152,
          160,
          1101,
          154,
          728,
          1325,
          130,
          333,
          1150,
          88,
          260,
          125,
          500,
          95,
          1182,
          1350,
          100,
          120,
          100,
          180,
          235,
          135,
          330,
          200,
          120,
          230,
          136,
          60,
          60,
          180,
          120,
          120,
          145,
          180,
          100,
          200,
          163,
          2,
          57,
          20,
          10,
          300,
          300,
          6,
          160,
          112,
          112,
          126,
          200,
          140,
          20,
          4,
          100,
          112,
          196,
          106,
          100,
          6,
          4,
          160,
          40,
          163,
          127,
          265,
          260,
          155,
          60,
          135,
          90,
          98,
          100,
          4,
          70,
          70,
          105,
          40,
          154,
          23,
          98,
          225,
          154,
          50,
          67,
          100,
          50,
          50
         ],
         "yaxis": "y"
        },
        {
         "customdata": [
          [
           "28 Black Energy Drink"
          ],
          [
           "4 Purpose Energy Drink"
          ],
          [
           "BEEBAD Energy Drink"
          ],
          [
           "Black Bruin Energy Drink"
          ],
          [
           "Blu Frog Energy Drink"
          ],
          [
           "Blue Bolt (UK)"
          ],
          [
           "Blue Charge (UK)"
          ],
          [
           "Blue Spark (UK)"
          ],
          [
           "Bomb Energy Drink"
          ],
          [
           "Boost Energy (UK)"
          ],
          [
           "Euro Shopper Energy Drink (EU)"
          ],
          [
           "Hell Energy Drink (EU)"
          ],
          [
           "Hype Energy Drink (EU)"
          ],
          [
           "M-150 Energy Drink"
          ],
          [
           "Pure Cofain 699 (EU)"
          ],
          [
           "Red Bull"
          ],
          [
           "Red Bull Editions"
          ],
          [
           "Red Bull Sugarfree"
          ],
          [
           "Red Bull Zero"
          ],
          [
           "Scheckters Energy Drink"
          ],
          [
           "Slammers Energy Drink (EU)"
          ],
          [
           "Source 1899 (UK)"
          ],
          [
           "Taurus Energy Drink"
          ],
          [
           "TENZING Natural Energy"
          ],
          [
           "Tiger Energy Drink"
          ],
          [
           "Tweaker Energy Drink"
          ],
          [
           "Virtue Clean Energy Beverage"
          ],
          [
           "Wildcat Energy Drink (UK)"
          ],
          [
           "X Ray Energy Drink"
          ],
          [
           "OK Energy Drink"
          ],
          [
           "Power Horse Energy Drink (EU)"
          ],
          [
           "V Energy Drink"
          ],
          [
           "XL Energy Drink (EU)"
          ],
          [
           "Crave Energy Drink (UK)"
          ],
          [
           "Bomba (EU)"
          ],
          [
           "Cintron Energy Drink"
          ],
          [
           "Dutch Bros Blue Rebel Energy Drink"
          ],
          [
           "XS Energy Drink"
          ],
          [
           "Wild Tiger Energy Drink"
          ],
          [
           "Liquid Ice Energy Drink"
          ],
          [
           "Rush! Energy Drink"
          ],
          [
           "Monster Hydro"
          ],
          [
           "Monster Import"
          ],
          [
           "Moose Juice Energy Drink"
          ],
          [
           "Club Mate (EU)"
          ],
          [
           "Demon Energy Drink"
          ],
          [
           "LevlUp Gaming Booster"
          ],
          [
           "Monster Ripper Energy Juice (UK)"
          ],
          [
           "Monster The Doctor VR46 (UK)"
          ],
          [
           "Mother Energy Drink"
          ],
          [
           "Protein2O + Energy"
          ],
          [
           "Strike Force Energy Drink Mix"
          ],
          [
           "4C Energy Drink Mix"
          ],
          [
           "Arizona Arnold Palmer Half and Half"
          ],
          [
           "Gatorade Bolt 24 Energize"
          ],
          [
           "Live+ Energy Drink"
          ],
          [
           "Pure Kick Energy Drink Mix"
          ],
          [
           "Monster Dragon Tea"
          ],
          [
           "Monster Rehab"
          ],
          [
           "Neuro Sonic"
          ],
          [
           "Lucozade"
          ],
          [
           "Fakeer Energy Drink (EU)"
          ],
          [
           "Arizona Energy Drink Rx"
          ],
          [
           "Bai Boost"
          ],
          [
           "NOCCO Energy Drink (EU)"
          ],
          [
           "Carabao Energy Drink (UK)"
          ],
          [
           "Irn Bru (UK)"
          ],
          [
           "Soylent Stacked"
          ],
          [
           "Red Eye Energy Drink"
          ],
          [
           "Mega Monster Energy Drink"
          ],
          [
           "Amino Force Energy Drink"
          ],
          [
           "Bodyarmour Edge"
          ],
          [
           "SoBe Energy Citrus"
          ],
          [
           "ABB Turbo Tea Zero"
          ],
          [
           "Bai Antioxidant Infusion"
          ],
          [
           "Viso Energy Drink"
          ],
          [
           "3D Energy Drink"
          ],
          [
           "Adrenaline Shoc"
          ],
          [
           "Alsa Energy Drink Mix"
          ],
          [
           "Bang Energy"
          ],
          [
           "Bang Keto Coffee"
          ],
          [
           "Bang Natural"
          ],
          [
           "Bang Sweet Tea"
          ],
          [
           "Beaver Buzz Energy Drink"
          ],
          [
           "Berzerk Energy Drink Mix"
          ],
          [
           "C4 Energy Drink"
          ],
          [
           "C4 Smart Energy Drink"
          ],
          [
           "C4 Ultimate Energy Drink"
          ],
          [
           "Celsius Heat Energy Drink"
          ],
          [
           "Crunk Energy Drink"
          ],
          [
           "Crystal Light Energy Mix"
          ],
          [
           "Electric Monkey Wild Energy Drink"
          ],
          [
           "Full Throttle Energy Drink"
          ],
          [
           "GFuel Cans"
          ],
          [
           "GFuel Energy Drink Mix"
          ],
          [
           "Go Fast Energy Drink"
          ],
          [
           "Go Fast High Octane Energy Drink"
          ],
          [
           "Great Value Energy Drink Mix"
          ],
          [
           "Gridlock Energy Drink"
          ],
          [
           "Hi Ball Energy Drink"
          ],
          [
           "Joker Mad Energy"
          ],
          [
           "Liquid Help Energy Drink"
          ],
          [
           "Loud Energy Drink"
          ],
          [
           "Monster Assault"
          ],
          [
           "Monster Energy"
          ],
          [
           "Monster Juice"
          ],
          [
           "Monster Lo-Carb"
          ],
          [
           "Monster Mango Loco"
          ],
          [
           "Monster Mule"
          ],
          [
           "Monster Pipeline Punch"
          ],
          [
           "Monster Ultra"
          ],
          [
           "Monster Zero Sugar"
          ],
          [
           "Mountain Dew Amp"
          ],
          [
           "Mountain Dew Game Fuel"
          ],
          [
           "Mountain Dew Rise"
          ],
          [
           "NOS Energy Drink"
          ],
          [
           "Nuun Sport"
          ],
          [
           "Propel Zero Powder"
          ],
          [
           "Pure Boost Energy Drink Mix"
          ],
          [
           "Quake Energy Berry Blast Slurpee"
          ],
          [
           "Quake Energy Drink"
          ],
          [
           "Raze Energy Drink"
          ],
          [
           "Reign Total Body Fuel"
          ],
          [
           "Rip It Energy Drink"
          ],
          [
           "Rockstar Boom"
          ],
          [
           "Rockstar Energy Drink (Original)"
          ],
          [
           "Rockstar Halo Infinite"
          ],
          [
           "Rockstar Juiced"
          ],
          [
           "Rockstar Punched"
          ],
          [
           "Rockstar Pure Zero"
          ],
          [
           "Rockstar Recovery"
          ],
          [
           "Rockstar Sugar Free"
          ],
          [
           "Rockstar Thermo"
          ],
          [
           "Rockstar XDurance"
          ],
          [
           "Rockstar Zero Carb"
          ],
          [
           "Rogue Energy Drink Mix"
          ],
          [
           "Rowdy Energy Drink"
          ],
          [
           "Sneak Energy Drink Mix"
          ],
          [
           "Solimo Energy Drink"
          ],
          [
           "Speed Energy Fuel"
          ],
          [
           "Spider Energy Drink"
          ],
          [
           "Spike Hardcore Energy"
          ],
          [
           "Triton Energy Drink"
          ],
          [
           "True Lemon Energy Mix"
          ],
          [
           "Ugly Energy Water"
          ],
          [
           "Venom Death Adder"
          ],
          [
           "Wired X 3000 Energy Drink"
          ],
          [
           "Wired X Berry Rush"
          ],
          [
           "Wired X344 Energy Drink"
          ],
          [
           "Xyience Energy Drink"
          ],
          [
           "ZipFizz Energy Drink Mix"
          ],
          [
           "Zoa Energy Drink"
          ],
          [
           "Java Monster"
          ],
          [
           "Java Monster 300"
          ],
          [
           "Muscle Monster"
          ],
          [
           "Rockstar Organic Energy Drink"
          ],
          [
           "Starbucks Triple Shot Energy"
          ],
          [
           "Alani Nu Energy Drink"
          ],
          [
           "ALL IN Energy Drink"
          ],
          [
           "AXIO Energy Drink Mix"
          ],
          [
           "Bing Energy Drink"
          ],
          [
           "BreinFuel"
          ],
          [
           "Burn Energy Drink"
          ],
          [
           "C4 On The Go"
          ],
          [
           "Celsius Energy Drink"
          ],
          [
           "Celsius Stevia"
          ],
          [
           "Coca-Cola Cherry Vanilla"
          ],
          [
           "Coca-Cola Energy"
          ],
          [
           "Cocaine Energy Drink"
          ],
          [
           "Dark Dog Organic Energy"
          ],
          [
           "Duff Energy Drink"
          ],
          [
           "EBOOST Super Fuel"
          ],
          [
           "EnerBee Energy Drink"
          ],
          [
           "Go Girl Energy Drink"
          ],
          [
           "GURU Energy Drink"
          ],
          [
           "Hyde Xtreme"
          ],
          [
           "Java Kick Coffee Cola"
          ],
          [
           "Kill Cliff Energy X Recover"
          ],
          [
           "Kill Cliff Ignite"
          ],
          [
           "Kona Gold Energy Drink"
          ],
          [
           "Marquis Energy Drink"
          ],
          [
           "MATI Energy Drink"
          ],
          [
           "Meltdown Ketone Drink"
          ],
          [
           "Monster Maxx"
          ],
          [
           "Nerd Focus"
          ],
          [
           "Octane Energy Drink Mix"
          ],
          [
           "Red Power Elixir"
          ],
          [
           "Red Thunder Energy Drink"
          ],
          [
           "RootJack Caffeinated Pirate Root Beer"
          ],
          [
           "Runa"
          ],
          [
           "Sambazon Amazon Energy Drink"
          ],
          [
           "Spike Shooter"
          ],
          [
           "Steaz Energy"
          ],
          [
           "T-Virus Antidote"
          ],
          [
           "Tru Energy Wakeup"
          ],
          [
           "UPTIME Energy Drink"
          ],
          [
           "USANA Rev3 Energy Drink"
          ],
          [
           "Xtreme Shock Energy Drink"
          ],
          [
           "Zest Sparkling Tea"
          ],
          [
           "Zevia Energy Drink"
          ],
          [
           "Cran Energy Juice"
          ],
          [
           "Mamma Chia Energy"
          ],
          [
           "Oikos Pro Fuel"
          ],
          [
           "Advocare Slim"
          ],
          [
           "Arbonne Energy Fizz Stck"
          ],
          [
           "Berocca"
          ],
          [
           "Best Choice Strawberry Energy Drink Mix"
          ],
          [
           "EBOOST Energy Drink Mix"
          ],
          [
           "EBOOST Workout Crusher Mix"
          ],
          [
           "Great Value Energy Drink Enhancers"
          ],
          [
           "Kin Spritz"
          ],
          [
           "LYFT Energy Mix"
          ],
          [
           "PerformElite Pre-Workout"
          ],
          [
           "Perk Energy Beverage"
          ],
          [
           "Redline Princess"
          ],
          [
           "Redline Xtreme Energy Drink"
          ],
          [
           "Roaring Lion Energy Drink"
          ],
          [
           "Spark Energy Drink Mix"
          ],
          [
           "V8 +Energy Drink"
          ]
         ],
         "hovertemplate": "type=Energy Drinks<br>Volume (ml)=%{x}<br>Caffeine (mg)=%{y}<br>drink=%{customdata[0]}<extra></extra>",
         "legendgroup": "Energy Drinks",
         "marker": {
          "color": "#EF553B",
          "symbol": "circle"
         },
         "mode": "markers",
         "name": "Energy Drinks",
         "orientation": "v",
         "showlegend": true,
         "type": "scatter",
         "x": [
          250.19181000000003,
          250.19181000000003,
          250.19181000000003,
          250.19181000000003,
          250.19181000000003,
          250.19181000000003,
          250.19181000000003,
          250.19181000000003,
          250.19181000000003,
          250.19181000000003,
          250.19181000000003,
          250.19181000000003,
          250.19181000000003,
          250.19181000000003,
          250.19181000000003,
          250.19181000000003,
          250.19181000000003,
          250.19181000000003,
          250.19181000000003,
          250.19181000000003,
          250.19181000000003,
          250.19181000000003,
          250.19181000000003,
          250.19181000000003,
          250.19181000000003,
          250.19181000000003,
          250.19181000000003,
          250.19181000000003,
          250.19181000000003,
          249.896075,
          249.896075,
          249.896075,
          249.896075,
          249.304605,
          248.4174,
          248.4174,
          248.4174,
          248.4174,
          247.23446,
          245.46005,
          245.46005,
          751.1668999999999,
          550.0671,
          500.97509,
          500.087885,
          500.087885,
          500.087885,
          500.087885,
          500.087885,
          500.087885,
          500.087885,
          500.087885,
          499.79215,
          499.79215,
          499.79215,
          499.79215,
          499.79215,
          458.38925,
          458.38925,
          428.81575,
          380.019475,
          370.26022,
          340.09525,
          339.208045,
          330.335995,
          330.04026,
          330.04026,
          330.04026,
          328.26585,
          709.764,
          650.617,
          591.47,
          591.47,
          532.323,
          532.323,
          502.7495,
          473.176,
          473.176,
          473.176,
          473.176,
          473.176,
          473.176,
          473.176,
          473.176,
          473.176,
          473.176,
          473.176,
          473.176,
          473.176,
          473.176,
          473.176,
          473.176,
          473.176,
          473.176,
          473.176,
          473.176,
          473.176,
          473.176,
          473.176,
          473.176,
          473.176,
          473.176,
          473.176,
          473.176,
          473.176,
          473.176,
          473.176,
          473.176,
          473.176,
          473.176,
          473.176,
          473.176,
          473.176,
          473.176,
          473.176,
          473.176,
          473.176,
          473.176,
          473.176,
          473.176,
          473.176,
          473.176,
          473.176,
          473.176,
          473.176,
          473.176,
          473.176,
          473.176,
          473.176,
          473.176,
          473.176,
          473.176,
          473.176,
          473.176,
          473.176,
          473.176,
          473.176,
          473.176,
          473.176,
          473.176,
          473.176,
          473.176,
          473.176,
          473.176,
          473.176,
          473.176,
          473.176,
          473.176,
          473.176,
          473.176,
          473.176,
          473.176,
          443.6025,
          443.6025,
          443.6025,
          443.6025,
          443.6025,
          354.882,
          354.882,
          354.882,
          354.882,
          354.882,
          354.882,
          354.882,
          354.882,
          354.882,
          354.882,
          354.882,
          354.882,
          354.882,
          354.882,
          354.882,
          354.882,
          354.882,
          354.882,
          354.882,
          354.882,
          354.882,
          354.882,
          354.882,
          354.882,
          354.882,
          354.882,
          354.882,
          354.882,
          354.882,
          354.882,
          354.882,
          354.882,
          354.882,
          354.882,
          354.882,
          354.882,
          354.882,
          354.882,
          354.882,
          354.882,
          354.882,
          354.882,
          354.882,
          295.735,
          295.735,
          295.735,
          236.588,
          236.588,
          236.588,
          236.588,
          236.588,
          236.588,
          236.588,
          236.588,
          236.588,
          236.588,
          236.588,
          236.588,
          236.588,
          236.588,
          236.588,
          236.588
         ],
         "xaxis": "x",
         "y": [
          80,
          70,
          80,
          38,
          80,
          80,
          80,
          75,
          80,
          80,
          80,
          80,
          80,
          80,
          175,
          80,
          80,
          80,
          80,
          80,
          80,
          80,
          50,
          80,
          80,
          80,
          80,
          80,
          79,
          80,
          80,
          78,
          80,
          80,
          80,
          85,
          80,
          80,
          75,
          80,
          80,
          188,
          179,
          200,
          100,
          160,
          250,
          160,
          160,
          160,
          125,
          160,
          170,
          15,
          75,
          150,
          80,
          155,
          170,
          100,
          46,
          118,
          127,
          110,
          180,
          106,
          30,
          100,
          106,
          240,
          200,
          100,
          81,
          120,
          55,
          300,
          200,
          300,
          100,
          300,
          300,
          250,
          300,
          178,
          200,
          200,
          200,
          300,
          300,
          192,
          60,
          160,
          160,
          300,
          140,
          160,
          300,
          120,
          140,
          160,
          160,
          300,
          320,
          160,
          160,
          160,
          140,
          152,
          160,
          160,
          150,
          140,
          142,
          90,
          180,
          160,
          40,
          0,
          100,
          92,
          250,
          300,
          300,
          160,
          160,
          160,
          240,
          170,
          240,
          240,
          160,
          160,
          300,
          300,
          240,
          175,
          160,
          150,
          152,
          186,
          240,
          350,
          200,
          120,
          160,
          160,
          185,
          95,
          344,
          160,
          100,
          160,
          200,
          300,
          157,
          160,
          225,
          200,
          75,
          100,
          120,
          360,
          112,
          200,
          200,
          200,
          34,
          114,
          280,
          114,
          120,
          110,
          100,
          100,
          140,
          400,
          100,
          25,
          150,
          115,
          100,
          110,
          225,
          200,
          128,
          225,
          160,
          120,
          120,
          150,
          120,
          300,
          100,
          100,
          100,
          142,
          120,
          200,
          135,
          120,
          70,
          90,
          100,
          120,
          55,
          90,
          120,
          110,
          175,
          50,
          50,
          125,
          225,
          100,
          300,
          316,
          77,
          120,
          80
         ],
         "yaxis": "y"
        },
        {
         "customdata": [
          [
           "Spike Energy Double Shot"
          ],
          [
           "Zombie Blood Energy Potion"
          ],
          [
           "Proper Wild Energy Shot"
          ],
          [
           "Redline Max 300"
          ],
          [
           "5 Hour Energy"
          ],
          [
           "5 Hour Energy Extra Strength"
          ],
          [
           "E6 Energy Shot"
          ],
          [
           "Eternal Energy Extra Strength"
          ],
          [
           "Eternal Energy Shot"
          ],
          [
           "Woke Up Energy Shot"
          ],
          [
           "Equip Pure Energy Shot"
          ],
          [
           "Mana Energy Potion"
          ],
          [
           "Clif Shot Energy Gel"
          ],
          [
           "Screamin Energy Max Hit"
          ],
          [
           "Vital 4U Liquid Energy"
          ],
          [
           "Kaffn8 Liquified Caffeine"
          ],
          [
           "Bang Shot"
          ],
          [
           "Redline Xtreme Shot"
          ],
          [
           "7-Eleven Energy Shot"
          ],
          [
           "Advocare Slam Energy Shot"
          ],
          [
           "Balance Active Shot"
          ],
          [
           "Balance Energy Shot"
          ],
          [
           "Forto Organic Coffee Shot"
          ],
          [
           "Kirkland Energy Shot"
          ],
          [
           "Neu Nootropic Shot"
          ],
          [
           "Nutramint Smart Serum"
          ],
          [
           "Performance Caffeine"
          ],
          [
           "Phoenix Energy Shot"
          ],
          [
           "Red Thunder Energy Shot"
          ],
          [
           "Red Thunder Extra Strength"
          ],
          [
           "Reed's Ginger Energize Shot"
          ],
          [
           "Rip It Energy Shot"
          ],
          [
           "Stacker Extreme Energy Shot"
          ],
          [
           "Tweaker Shot"
          ],
          [
           "TruBrain Extra"
          ],
          [
           "X-Mode Energy Shot"
          ]
         ],
         "hovertemplate": "type=Energy Shots<br>Volume (ml)=%{x}<br>Caffeine (mg)=%{y}<br>drink=%{customdata[0]}<extra></extra>",
         "legendgroup": "Energy Shots",
         "marker": {
          "color": "#00cc96",
          "symbol": "circle"
         },
         "mode": "markers",
         "name": "Energy Shots",
         "orientation": "v",
         "showlegend": true,
         "type": "scatter",
         "x": [
          125.98311,
          100.5499,
          73.93375,
          73.93375,
          57.076855,
          57.076855,
          57.076855,
          57.076855,
          57.076855,
          57.076855,
          53.2323,
          49.979215,
          35.4882,
          18.039835,
          14.78675,
          7.393375,
          88.7205,
          88.7205,
          59.147,
          59.147,
          59.147,
          59.147,
          59.147,
          59.147,
          59.147,
          59.147,
          59.147,
          59.147,
          59.147,
          59.147,
          59.147,
          59.147,
          59.147,
          59.147,
          29.5735,
          29.5735
         ],
         "xaxis": "x",
         "y": [
          350,
          80,
          180,
          300,
          200,
          230,
          235,
          280,
          230,
          225,
          100,
          75,
          100,
          185,
          155,
          75,
          300,
          300,
          260,
          120,
          100,
          150,
          225,
          180,
          350,
          200,
          180,
          280,
          138,
          230,
          100,
          120,
          205,
          275,
          100,
          150
         ],
         "yaxis": "y"
        },
        {
         "customdata": [
          [
           "Red Bull Simply Cola"
          ],
          [
           "Afri Cola"
          ],
          [
           "Fritz Kola (EU)"
          ],
          [
           "Pepsi Max (UK)"
          ],
          [
           "Premium Cola (EU)"
          ],
          [
           "Tropicana Twister Soda"
          ],
          [
           "Bawls"
          ],
          [
           "Mountain Dew Kickstart"
          ],
          [
           "Sprecher Cherry Cola"
          ],
          [
           "7-Up"
          ],
          [
           "A&W Cream Soda"
          ],
          [
           "A&W Root Beer"
          ],
          [
           "A&W Zero Sugar Cream Soda"
          ],
          [
           "Ale 8 1"
          ],
          [
           "Barqs Red Creme Soda"
          ],
          [
           "Barqs Root Beer"
          ],
          [
           "Big Red Soda"
          ],
          [
           "Canada Dry Green Tea Ginger Ale"
          ],
          [
           "Cheerwine"
          ],
          [
           "Coca-Cola Caffeine Free"
          ],
          [
           "Coca-Cola Cherry"
          ],
          [
           "Coca-Cola Cherry Zero Sugar"
          ],
          [
           "Coca-Cola Classic"
          ],
          [
           "Coca-Cola Orange Vanilla"
          ],
          [
           "Coca-Cola Vanilla"
          ],
          [
           "Coca-Cola Vanilla Zero Sugar"
          ],
          [
           "Coca-Cola With Coffee"
          ],
          [
           "Coca-Cola Zero Sugar"
          ],
          [
           "Diet Barqs Root Beer"
          ],
          [
           "Diet Cheerwine"
          ],
          [
           "Diet Coke"
          ],
          [
           "Diet Coke with Splenda"
          ],
          [
           "Diet Dr Pepper"
          ],
          [
           "Diet Mountain Dew"
          ],
          [
           "Diet Pepsi"
          ],
          [
           "Diet RC Cola"
          ],
          [
           "Diet Wild Cherry Pepsi"
          ],
          [
           "doc Soda"
          ],
          [
           "Double Cola"
          ],
          [
           "Dr Pepper"
          ],
          [
           "Dr Pepper 10"
          ],
          [
           "Dr Shasta Soda"
          ],
          [
           "Fanta"
          ],
          [
           "Faygo Cola"
          ],
          [
           "Faygo Moon Mist"
          ],
          [
           "Fresca"
          ],
          [
           "Ginger Ale"
          ],
          [
           "Green Cola"
          ],
          [
           "IBC Root Beer"
          ],
          [
           "Inca Kola"
          ],
          [
           "Kickapoo Soda: Joy Juice & Fruit Shine"
          ],
          [
           "Mello Yello"
          ],
          [
           "Mountain Dew"
          ],
          [
           "Mountain Dew Baja Blast"
          ],
          [
           "Mountain Dew Code Red"
          ],
          [
           "Mountain Dew Live Wire"
          ],
          [
           "Mountain Dew Major Melon"
          ],
          [
           "Mountain Dew Voltage"
          ],
          [
           "Mountain Dew Zero Sugar"
          ],
          [
           "Moxie Soda"
          ],
          [
           "Mug Root Beer"
          ],
          [
           "Orange Crush"
          ],
          [
           "PC Cola"
          ],
          [
           "PC Cola Diet"
          ],
          [
           "Pepsi"
          ],
          [
           "Pepsi Caffeine Free"
          ],
          [
           "Pepsi Made With Sugar"
          ],
          [
           "Pepsi Zero Sugar"
          ],
          [
           "Pibb Xtra"
          ],
          [
           "RC (Royal Crown) Cola"
          ],
          [
           "Ritz Cola"
          ],
          [
           "Ruby Red Squirt"
          ],
          [
           "Sarsaparilla"
          ],
          [
           "Shasta Cola"
          ],
          [
           "Shasta Diet Cola"
          ],
          [
           "Shasta Mountain Rush"
          ],
          [
           "Ski Soda"
          ],
          [
           "Slurpee"
          ],
          [
           "Sprite"
          ],
          [
           "Squirt Soda"
          ],
          [
           "Starbucks Refreshers Canned"
          ],
          [
           "Sun Drop Soda"
          ],
          [
           "Sunkist Orange Soda"
          ],
          [
           "Vernors Ginger Ale"
          ],
          [
           "Wave Soda"
          ],
          [
           "Wild Cherry Pepsi"
          ],
          [
           "Zevia Cola"
          ],
          [
           "Boost Nutritional Drink"
          ],
          [
           "Mucho Mango Energy Drink"
          ],
          [
           "Soda Stream"
          ]
         ],
         "hovertemplate": "type=Soft Drinks<br>Volume (ml)=%{x}<br>Caffeine (mg)=%{y}<br>drink=%{customdata[0]}<extra></extra>",
         "legendgroup": "Soft Drinks",
         "marker": {
          "color": "#ab63fa",
          "symbol": "circle"
         },
         "mode": "markers",
         "name": "Soft Drinks",
         "orientation": "v",
         "showlegend": true,
         "type": "scatter",
         "x": [
          250.19181000000003,
          330.04026,
          330.04026,
          330.04026,
          330.04026,
          591.47,
          473.176,
          473.176,
          473.176,
          354.882,
          354.882,
          354.882,
          354.882,
          354.882,
          354.882,
          354.882,
          354.882,
          354.882,
          354.882,
          354.882,
          354.882,
          354.882,
          354.882,
          354.882,
          354.882,
          354.882,
          354.882,
          354.882,
          354.882,
          354.882,
          354.882,
          354.882,
          354.882,
          354.882,
          354.882,
          354.882,
          354.882,
          354.882,
          354.882,
          354.882,
          354.882,
          354.882,
          354.882,
          354.882,
          354.882,
          354.882,
          354.882,
          354.882,
          354.882,
          354.882,
          354.882,
          354.882,
          354.882,
          354.882,
          354.882,
          354.882,
          354.882,
          354.882,
          354.882,
          354.882,
          354.882,
          354.882,
          354.882,
          354.882,
          354.882,
          354.882,
          354.882,
          354.882,
          354.882,
          354.882,
          354.882,
          354.882,
          354.882,
          354.882,
          354.882,
          354.882,
          354.882,
          354.882,
          354.882,
          354.882,
          354.882,
          354.882,
          354.882,
          354.882,
          354.882,
          354.882,
          354.882,
          236.588,
          236.588,
          236.588
         ],
         "xaxis": "x",
         "y": [
          32,
          83,
          83,
          43,
          83,
          0,
          102,
          90,
          0,
          0,
          0,
          0,
          0,
          37,
          0,
          22,
          34,
          9,
          47,
          0,
          34,
          34,
          34,
          34,
          34,
          34,
          69,
          34,
          0,
          47,
          46,
          46,
          41,
          54,
          35,
          48,
          38,
          60,
          36,
          42,
          51,
          29,
          0,
          43,
          20,
          0,
          0,
          37,
          0,
          38,
          40,
          51,
          54,
          54,
          54,
          54,
          55,
          55,
          68,
          24,
          0,
          0,
          12,
          13,
          38,
          0,
          38,
          69,
          40,
          43,
          10,
          39,
          0,
          43,
          47,
          54,
          69,
          30,
          0,
          0,
          50,
          64,
          19,
          0,
          42,
          38,
          45,
          5,
          0,
          31
         ],
         "yaxis": "y"
        },
        {
         "customdata": [
          [
           "PG Tips Black Tea"
          ],
          [
           "Sencha Green Tea Shot"
          ],
          [
           "Xingtea Iced Green Tea"
          ],
          [
           "Gold Peak Tea"
          ],
          [
           "Pure Leaf Iced Tea"
          ],
          [
           "Honest Iced Tea"
          ],
          [
           "Nestea Iced Tea"
          ],
          [
           "Oi Ocha Green Tea"
          ],
          [
           "Teas' Tea Oolong"
          ],
          [
           "Guayaki Canned Yerba Mate"
          ],
          [
           "Inko's White Tea Energy"
          ],
          [
           "Master Brew Kombucha"
          ],
          [
           "McDonalds Sweet Tea"
          ],
          [
           "Dunkin' Donuts Iced Tea"
          ],
          [
           "Fuze Iced Tea"
          ],
          [
           "Peace Tea"
          ],
          [
           "Lipton Iced Tea"
          ],
          [
           "SoBe Green Tea"
          ],
          [
           "Arizona Iced Tea"
          ],
          [
           "Biggby Iced Tea"
          ],
          [
           "Chick-fil-A Iced Tea"
          ],
          [
           "Guayaki Yerba Mate Bottled Tea"
          ],
          [
           "Snapple Tea"
          ],
          [
           "Southern Sweet Tea"
          ],
          [
           "Taiwanese Milk Tea"
          ],
          [
           "Wendy's Iced Tea"
          ],
          [
           "Xing Craft Brew"
          ],
          [
           "Brew Dr Kombucha Uplift"
          ],
          [
           "Brisk Iced Tea"
          ],
          [
           "KOE Kombucha"
          ],
          [
           "Tejava Iced Tea"
          ],
          [
           "Turkey Hill Iced Tea"
          ],
          [
           "Big Train Spiced Chai"
          ],
          [
           "Bigelow Tea"
          ],
          [
           "Brown Rice Tea"
          ],
          [
           "Chai Tea"
          ],
          [
           "Cold Brew Tea"
          ],
          [
           "Crystal Light Iced Tea"
          ],
          [
           "Fast Lane Black Tea"
          ],
          [
           "Guayusa Tea"
          ],
          [
           "HICAF Tea"
          ],
          [
           "K Cup Tea"
          ],
          [
           "Kombucha Tea"
          ],
          [
           "Lipton Natural Energy Tea"
          ],
          [
           "Lipton Tea"
          ],
          [
           "Matcha Tea"
          ],
          [
           "Morning Thunder Tea"
          ],
          [
           "Tazo Chai"
          ],
          [
           "Tea (Black)"
          ],
          [
           "Tea (Decaf)"
          ],
          [
           "Tea (Green)"
          ],
          [
           "Tea (Herbal)"
          ],
          [
           "Tea (Iced)"
          ],
          [
           "Tea (Instant)"
          ],
          [
           "Tea (Jasmine)"
          ],
          [
           "Tea (Oolong)"
          ],
          [
           "Tea (White)"
          ],
          [
           "Teavana Tea"
          ],
          [
           "Twig Tea (Kukicha)"
          ],
          [
           "Waka Instant Tea"
          ],
          [
           "Yellow Tea"
          ],
          [
           "Yerba Mate Tea"
          ],
          [
           "YMateina Yerba Mate"
          ],
          [
           "Zest Highly Caffeinated Tea"
          ],
          [
           "Oregon Chai Tea"
          ],
          [
           "Pacific Chai"
          ]
         ],
         "hovertemplate": "type=Tea<br>Volume (ml)=%{x}<br>Caffeine (mg)=%{y}<br>drink=%{customdata[0]}<extra></extra>",
         "legendgroup": "Tea",
         "marker": {
          "color": "#FFA15A",
          "symbol": "circle"
         },
         "mode": "markers",
         "name": "Tea",
         "orientation": "v",
         "showlegend": true,
         "type": "scatter",
         "x": [
          200.50833,
          189.2704,
          694.97725,
          547.10975,
          547.10975,
          499.79215,
          499.79215,
          499.79215,
          499.79215,
          458.38925,
          458.38925,
          449.5172,
          946.352,
          709.764,
          709.764,
          680.1904999999999,
          591.47,
          591.47,
          473.176,
          473.176,
          473.176,
          473.176,
          473.176,
          473.176,
          473.176,
          473.176,
          473.176,
          414.029,
          354.882,
          354.882,
          354.882,
          354.882,
          236.588,
          236.588,
          236.588,
          236.588,
          236.588,
          236.588,
          236.588,
          236.588,
          236.588,
          236.588,
          236.588,
          236.588,
          236.588,
          236.588,
          236.588,
          236.588,
          236.588,
          236.588,
          236.588,
          236.588,
          236.588,
          236.588,
          236.588,
          236.588,
          236.588,
          236.588,
          236.588,
          236.588,
          236.588,
          236.588,
          236.588,
          236.588,
          177.441,
          177.441
         ],
         "xaxis": "x",
         "y": [
          50,
          40,
          110,
          48,
          69,
          63,
          23,
          60,
          70,
          150,
          165,
          76,
          100,
          63,
          24,
          23,
          25,
          7,
          30,
          38,
          62,
          140,
          37,
          41,
          151,
          32,
          120,
          130,
          11,
          15,
          50,
          64,
          65,
          45,
          4,
          50,
          70,
          10,
          110,
          41,
          110,
          41,
          24,
          75,
          55,
          64,
          45,
          47,
          42,
          4,
          18,
          0,
          47,
          40,
          25,
          37,
          28,
          41,
          25,
          30,
          63,
          40,
          80,
          150,
          45,
          29
         ],
         "yaxis": "y"
        },
        {
         "customdata": [
          [
           "Perrier Energize"
          ],
          [
           "3 Water"
          ],
          [
           "Heroec Energy Water"
          ],
          [
           "Caribou BOUsted Sparkling Water"
          ],
          [
           "Phocus Sparkling Water"
          ],
          [
           "Poland Spring Sparkling Energy Water"
          ],
          [
           "Perrier Sparkling Water"
          ],
          [
           "VitaminWater Energy"
          ],
          [
           "VitaRain Zero Enhanced Water"
          ],
          [
           "Water Joe"
          ],
          [
           "Polar Frost Plus Energy"
          ],
          [
           "Hint Caffeine Kick Water"
          ],
          [
           "Sparkling Ice +Caffeine"
          ],
          [
           "AHA Sparkling Water"
          ],
          [
           "Arti Sparkling Water"
          ],
          [
           "Bubbl'r Sparkling Water"
          ],
          [
           "Bubly Bounce Sparkling Water"
          ],
          [
           "Bubly Sparkling Water"
          ],
          [
           "GURU Sparkling Energy Water"
          ],
          [
           "La Croix Sparkling Water"
          ],
          [
           "Limitless Sparkling Water"
          ],
          [
           "Pep Talk Sparkling Water"
          ],
          [
           "Polar Seltzer Water"
          ],
          [
           "Yerbae Sparkling Water"
          ],
          [
           "Tonic Water"
          ],
          [
           "MiO Energy Water Enhancer"
          ]
         ],
         "hovertemplate": "type=Water<br>Volume (ml)=%{x}<br>Caffeine (mg)=%{y}<br>drink=%{customdata[0]}<extra></extra>",
         "legendgroup": "Water",
         "marker": {
          "color": "#19d3f3",
          "symbol": "circle"
         },
         "mode": "markers",
         "name": "Water",
         "orientation": "v",
         "showlegend": true,
         "type": "scatter",
         "x": [
          250.19181000000003,
          499.79215,
          499.79215,
          340.09525,
          340.09525,
          340.09525,
          329.744525,
          591.47,
          591.47,
          591.47,
          502.7495,
          473.176,
          473.176,
          354.882,
          354.882,
          354.882,
          354.882,
          354.882,
          354.882,
          354.882,
          354.882,
          354.882,
          354.882,
          354.882,
          295.735,
          236.588
         ],
         "xaxis": "x",
         "y": [
          99,
          50,
          60,
          75,
          75,
          75,
          0,
          50,
          42,
          70,
          67,
          60,
          70,
          30,
          120,
          69,
          35,
          0,
          100,
          0,
          35,
          55,
          0,
          100,
          0,
          60
         ],
         "yaxis": "y"
        }
       ],
       "layout": {
        "height": 800,
        "legend": {
         "title": {
          "text": "type"
         },
         "tracegroupgap": 0
        },
        "template": {
         "data": {
          "bar": [
           {
            "error_x": {
             "color": "#2a3f5f"
            },
            "error_y": {
             "color": "#2a3f5f"
            },
            "marker": {
             "line": {
              "color": "white",
              "width": 0.5
             },
             "pattern": {
              "fillmode": "overlay",
              "size": 10,
              "solidity": 0.2
             }
            },
            "type": "bar"
           }
          ],
          "barpolar": [
           {
            "marker": {
             "line": {
              "color": "white",
              "width": 0.5
             },
             "pattern": {
              "fillmode": "overlay",
              "size": 10,
              "solidity": 0.2
             }
            },
            "type": "barpolar"
           }
          ],
          "carpet": [
           {
            "aaxis": {
             "endlinecolor": "#2a3f5f",
             "gridcolor": "#C8D4E3",
             "linecolor": "#C8D4E3",
             "minorgridcolor": "#C8D4E3",
             "startlinecolor": "#2a3f5f"
            },
            "baxis": {
             "endlinecolor": "#2a3f5f",
             "gridcolor": "#C8D4E3",
             "linecolor": "#C8D4E3",
             "minorgridcolor": "#C8D4E3",
             "startlinecolor": "#2a3f5f"
            },
            "type": "carpet"
           }
          ],
          "choropleth": [
           {
            "colorbar": {
             "outlinewidth": 0,
             "ticks": ""
            },
            "type": "choropleth"
           }
          ],
          "contour": [
           {
            "colorbar": {
             "outlinewidth": 0,
             "ticks": ""
            },
            "colorscale": [
             [
              0,
              "#0d0887"
             ],
             [
              0.1111111111111111,
              "#46039f"
             ],
             [
              0.2222222222222222,
              "#7201a8"
             ],
             [
              0.3333333333333333,
              "#9c179e"
             ],
             [
              0.4444444444444444,
              "#bd3786"
             ],
             [
              0.5555555555555556,
              "#d8576b"
             ],
             [
              0.6666666666666666,
              "#ed7953"
             ],
             [
              0.7777777777777778,
              "#fb9f3a"
             ],
             [
              0.8888888888888888,
              "#fdca26"
             ],
             [
              1,
              "#f0f921"
             ]
            ],
            "type": "contour"
           }
          ],
          "contourcarpet": [
           {
            "colorbar": {
             "outlinewidth": 0,
             "ticks": ""
            },
            "type": "contourcarpet"
           }
          ],
          "heatmap": [
           {
            "colorbar": {
             "outlinewidth": 0,
             "ticks": ""
            },
            "colorscale": [
             [
              0,
              "#0d0887"
             ],
             [
              0.1111111111111111,
              "#46039f"
             ],
             [
              0.2222222222222222,
              "#7201a8"
             ],
             [
              0.3333333333333333,
              "#9c179e"
             ],
             [
              0.4444444444444444,
              "#bd3786"
             ],
             [
              0.5555555555555556,
              "#d8576b"
             ],
             [
              0.6666666666666666,
              "#ed7953"
             ],
             [
              0.7777777777777778,
              "#fb9f3a"
             ],
             [
              0.8888888888888888,
              "#fdca26"
             ],
             [
              1,
              "#f0f921"
             ]
            ],
            "type": "heatmap"
           }
          ],
          "heatmapgl": [
           {
            "colorbar": {
             "outlinewidth": 0,
             "ticks": ""
            },
            "colorscale": [
             [
              0,
              "#0d0887"
             ],
             [
              0.1111111111111111,
              "#46039f"
             ],
             [
              0.2222222222222222,
              "#7201a8"
             ],
             [
              0.3333333333333333,
              "#9c179e"
             ],
             [
              0.4444444444444444,
              "#bd3786"
             ],
             [
              0.5555555555555556,
              "#d8576b"
             ],
             [
              0.6666666666666666,
              "#ed7953"
             ],
             [
              0.7777777777777778,
              "#fb9f3a"
             ],
             [
              0.8888888888888888,
              "#fdca26"
             ],
             [
              1,
              "#f0f921"
             ]
            ],
            "type": "heatmapgl"
           }
          ],
          "histogram": [
           {
            "marker": {
             "pattern": {
              "fillmode": "overlay",
              "size": 10,
              "solidity": 0.2
             }
            },
            "type": "histogram"
           }
          ],
          "histogram2d": [
           {
            "colorbar": {
             "outlinewidth": 0,
             "ticks": ""
            },
            "colorscale": [
             [
              0,
              "#0d0887"
             ],
             [
              0.1111111111111111,
              "#46039f"
             ],
             [
              0.2222222222222222,
              "#7201a8"
             ],
             [
              0.3333333333333333,
              "#9c179e"
             ],
             [
              0.4444444444444444,
              "#bd3786"
             ],
             [
              0.5555555555555556,
              "#d8576b"
             ],
             [
              0.6666666666666666,
              "#ed7953"
             ],
             [
              0.7777777777777778,
              "#fb9f3a"
             ],
             [
              0.8888888888888888,
              "#fdca26"
             ],
             [
              1,
              "#f0f921"
             ]
            ],
            "type": "histogram2d"
           }
          ],
          "histogram2dcontour": [
           {
            "colorbar": {
             "outlinewidth": 0,
             "ticks": ""
            },
            "colorscale": [
             [
              0,
              "#0d0887"
             ],
             [
              0.1111111111111111,
              "#46039f"
             ],
             [
              0.2222222222222222,
              "#7201a8"
             ],
             [
              0.3333333333333333,
              "#9c179e"
             ],
             [
              0.4444444444444444,
              "#bd3786"
             ],
             [
              0.5555555555555556,
              "#d8576b"
             ],
             [
              0.6666666666666666,
              "#ed7953"
             ],
             [
              0.7777777777777778,
              "#fb9f3a"
             ],
             [
              0.8888888888888888,
              "#fdca26"
             ],
             [
              1,
              "#f0f921"
             ]
            ],
            "type": "histogram2dcontour"
           }
          ],
          "mesh3d": [
           {
            "colorbar": {
             "outlinewidth": 0,
             "ticks": ""
            },
            "type": "mesh3d"
           }
          ],
          "parcoords": [
           {
            "line": {
             "colorbar": {
              "outlinewidth": 0,
              "ticks": ""
             }
            },
            "type": "parcoords"
           }
          ],
          "pie": [
           {
            "automargin": true,
            "type": "pie"
           }
          ],
          "scatter": [
           {
            "fillpattern": {
             "fillmode": "overlay",
             "size": 10,
             "solidity": 0.2
            },
            "type": "scatter"
           }
          ],
          "scatter3d": [
           {
            "line": {
             "colorbar": {
              "outlinewidth": 0,
              "ticks": ""
             }
            },
            "marker": {
             "colorbar": {
              "outlinewidth": 0,
              "ticks": ""
             }
            },
            "type": "scatter3d"
           }
          ],
          "scattercarpet": [
           {
            "marker": {
             "colorbar": {
              "outlinewidth": 0,
              "ticks": ""
             }
            },
            "type": "scattercarpet"
           }
          ],
          "scattergeo": [
           {
            "marker": {
             "colorbar": {
              "outlinewidth": 0,
              "ticks": ""
             }
            },
            "type": "scattergeo"
           }
          ],
          "scattergl": [
           {
            "marker": {
             "colorbar": {
              "outlinewidth": 0,
              "ticks": ""
             }
            },
            "type": "scattergl"
           }
          ],
          "scattermapbox": [
           {
            "marker": {
             "colorbar": {
              "outlinewidth": 0,
              "ticks": ""
             }
            },
            "type": "scattermapbox"
           }
          ],
          "scatterpolar": [
           {
            "marker": {
             "colorbar": {
              "outlinewidth": 0,
              "ticks": ""
             }
            },
            "type": "scatterpolar"
           }
          ],
          "scatterpolargl": [
           {
            "marker": {
             "colorbar": {
              "outlinewidth": 0,
              "ticks": ""
             }
            },
            "type": "scatterpolargl"
           }
          ],
          "scatterternary": [
           {
            "marker": {
             "colorbar": {
              "outlinewidth": 0,
              "ticks": ""
             }
            },
            "type": "scatterternary"
           }
          ],
          "surface": [
           {
            "colorbar": {
             "outlinewidth": 0,
             "ticks": ""
            },
            "colorscale": [
             [
              0,
              "#0d0887"
             ],
             [
              0.1111111111111111,
              "#46039f"
             ],
             [
              0.2222222222222222,
              "#7201a8"
             ],
             [
              0.3333333333333333,
              "#9c179e"
             ],
             [
              0.4444444444444444,
              "#bd3786"
             ],
             [
              0.5555555555555556,
              "#d8576b"
             ],
             [
              0.6666666666666666,
              "#ed7953"
             ],
             [
              0.7777777777777778,
              "#fb9f3a"
             ],
             [
              0.8888888888888888,
              "#fdca26"
             ],
             [
              1,
              "#f0f921"
             ]
            ],
            "type": "surface"
           }
          ],
          "table": [
           {
            "cells": {
             "fill": {
              "color": "#EBF0F8"
             },
             "line": {
              "color": "white"
             }
            },
            "header": {
             "fill": {
              "color": "#C8D4E3"
             },
             "line": {
              "color": "white"
             }
            },
            "type": "table"
           }
          ]
         },
         "layout": {
          "annotationdefaults": {
           "arrowcolor": "#2a3f5f",
           "arrowhead": 0,
           "arrowwidth": 1
          },
          "autotypenumbers": "strict",
          "coloraxis": {
           "colorbar": {
            "outlinewidth": 0,
            "ticks": ""
           }
          },
          "colorscale": {
           "diverging": [
            [
             0,
             "#8e0152"
            ],
            [
             0.1,
             "#c51b7d"
            ],
            [
             0.2,
             "#de77ae"
            ],
            [
             0.3,
             "#f1b6da"
            ],
            [
             0.4,
             "#fde0ef"
            ],
            [
             0.5,
             "#f7f7f7"
            ],
            [
             0.6,
             "#e6f5d0"
            ],
            [
             0.7,
             "#b8e186"
            ],
            [
             0.8,
             "#7fbc41"
            ],
            [
             0.9,
             "#4d9221"
            ],
            [
             1,
             "#276419"
            ]
           ],
           "sequential": [
            [
             0,
             "#0d0887"
            ],
            [
             0.1111111111111111,
             "#46039f"
            ],
            [
             0.2222222222222222,
             "#7201a8"
            ],
            [
             0.3333333333333333,
             "#9c179e"
            ],
            [
             0.4444444444444444,
             "#bd3786"
            ],
            [
             0.5555555555555556,
             "#d8576b"
            ],
            [
             0.6666666666666666,
             "#ed7953"
            ],
            [
             0.7777777777777778,
             "#fb9f3a"
            ],
            [
             0.8888888888888888,
             "#fdca26"
            ],
            [
             1,
             "#f0f921"
            ]
           ],
           "sequentialminus": [
            [
             0,
             "#0d0887"
            ],
            [
             0.1111111111111111,
             "#46039f"
            ],
            [
             0.2222222222222222,
             "#7201a8"
            ],
            [
             0.3333333333333333,
             "#9c179e"
            ],
            [
             0.4444444444444444,
             "#bd3786"
            ],
            [
             0.5555555555555556,
             "#d8576b"
            ],
            [
             0.6666666666666666,
             "#ed7953"
            ],
            [
             0.7777777777777778,
             "#fb9f3a"
            ],
            [
             0.8888888888888888,
             "#fdca26"
            ],
            [
             1,
             "#f0f921"
            ]
           ]
          },
          "colorway": [
           "#636efa",
           "#EF553B",
           "#00cc96",
           "#ab63fa",
           "#FFA15A",
           "#19d3f3",
           "#FF6692",
           "#B6E880",
           "#FF97FF",
           "#FECB52"
          ],
          "font": {
           "color": "#2a3f5f"
          },
          "geo": {
           "bgcolor": "white",
           "lakecolor": "white",
           "landcolor": "white",
           "showlakes": true,
           "showland": true,
           "subunitcolor": "#C8D4E3"
          },
          "hoverlabel": {
           "align": "left"
          },
          "hovermode": "closest",
          "mapbox": {
           "style": "light"
          },
          "paper_bgcolor": "white",
          "plot_bgcolor": "white",
          "polar": {
           "angularaxis": {
            "gridcolor": "#EBF0F8",
            "linecolor": "#EBF0F8",
            "ticks": ""
           },
           "bgcolor": "white",
           "radialaxis": {
            "gridcolor": "#EBF0F8",
            "linecolor": "#EBF0F8",
            "ticks": ""
           }
          },
          "scene": {
           "xaxis": {
            "backgroundcolor": "white",
            "gridcolor": "#DFE8F3",
            "gridwidth": 2,
            "linecolor": "#EBF0F8",
            "showbackground": true,
            "ticks": "",
            "zerolinecolor": "#EBF0F8"
           },
           "yaxis": {
            "backgroundcolor": "white",
            "gridcolor": "#DFE8F3",
            "gridwidth": 2,
            "linecolor": "#EBF0F8",
            "showbackground": true,
            "ticks": "",
            "zerolinecolor": "#EBF0F8"
           },
           "zaxis": {
            "backgroundcolor": "white",
            "gridcolor": "#DFE8F3",
            "gridwidth": 2,
            "linecolor": "#EBF0F8",
            "showbackground": true,
            "ticks": "",
            "zerolinecolor": "#EBF0F8"
           }
          },
          "shapedefaults": {
           "line": {
            "color": "#2a3f5f"
           }
          },
          "ternary": {
           "aaxis": {
            "gridcolor": "#DFE8F3",
            "linecolor": "#A2B1C6",
            "ticks": ""
           },
           "baxis": {
            "gridcolor": "#DFE8F3",
            "linecolor": "#A2B1C6",
            "ticks": ""
           },
           "bgcolor": "white",
           "caxis": {
            "gridcolor": "#DFE8F3",
            "linecolor": "#A2B1C6",
            "ticks": ""
           }
          },
          "title": {
           "x": 0.05
          },
          "xaxis": {
           "automargin": true,
           "gridcolor": "#EBF0F8",
           "linecolor": "#EBF0F8",
           "ticks": "",
           "title": {
            "standoff": 15
           },
           "zerolinecolor": "#EBF0F8",
           "zerolinewidth": 2
          },
          "yaxis": {
           "automargin": true,
           "gridcolor": "#EBF0F8",
           "linecolor": "#EBF0F8",
           "ticks": "",
           "title": {
            "standoff": 15
           },
           "zerolinecolor": "#EBF0F8",
           "zerolinewidth": 2
          }
         }
        },
        "title": {
         "text": "Volume x Caffeine"
        },
        "xaxis": {
         "anchor": "y",
         "domain": [
          0,
          1
         ],
         "title": {
          "text": "Volume (ml)"
         }
        },
        "yaxis": {
         "anchor": "x",
         "domain": [
          0,
          1
         ],
         "title": {
          "text": "Caffeine (mg)"
         }
        }
       }
      }
     },
     "metadata": {},
     "output_type": "display_data"
    }
   ],
   "source": [
    "px.scatter(caffeine,\n",
    "            x='Volume (ml)', \n",
    "            y='Caffeine (mg)',\n",
    "            color='type',  \n",
    "            title='Volume x Caffeine',\n",
    "            height = 800,\n",
    "            template='plotly_white',\n",
    "            hover_data=['drink']\n",
    "            )"
   ]
  },
  {
   "cell_type": "markdown",
   "id": "79f16649",
   "metadata": {},
   "source": [
    "The coffee outliers can be seen here as well and it looks like they are mostly among drinks of the same volume. Energy shots are clustered around 100 ml or lower but have similar caffeine content to many enery drinks and coffee. Tea, Water, and Soft Drinks look to lower caffeine content. "
   ]
  },
  {
   "cell_type": "markdown",
   "id": "6384850c",
   "metadata": {},
   "source": [
    "## Box Plot for Caffeine Concentration Across all Drink Types"
   ]
  },
  {
   "cell_type": "markdown",
   "id": "1a3f1084",
   "metadata": {},
   "source": [
    "We're going to take another look at caffeine distribution across all drink types, but this time we'll use caffeine concentration which is equal to Caffeine (mg) / Volume (ml). This will give us a better idea of which drink types pack a caffeine punch relative to the volume of the drink."
   ]
  },
  {
   "cell_type": "code",
   "execution_count": null,
   "id": "74181013",
   "metadata": {},
   "outputs": [],
   "source": [
    "# create Caffeine Concentration column which = Caffeine (mg) / Volume (ml)\n",
    "caffeine['Caffeine Concentration'] = caffeine['Caffeine (mg)'] / caffeine['Volume (ml)']\n",
    "\n",
    "px.box(caffeine,\n",
    "        x='type',\n",
    "        y='Caffeine Concentration',\n",
    "        title='Caffeine Concentration By Drink Type',\n",
    "        labels={'type': 'Type'},\n",
    "        height=800,\n",
    "        template='plotly_white',\n",
    "        hover_data=['drink']\n",
    "        )"
   ]
  },
  {
   "cell_type": "markdown",
   "id": "f4a025c5",
   "metadata": {},
   "source": [
    "The caffeine concentration of energy shots is clearly much higher than any other drink type. Between Coffee and Energy drinks, Coffee appears to have a higher caffeine concentration. Additionally, just like with the previous box plot showing caffeine content for all drink types, there are numerous outliers for coffee.\n"
   ]
  },
  {
   "cell_type": "markdown",
   "id": "2c4530e4",
   "metadata": {},
   "source": [
    "## Healthier Options\n",
    "\n",
    "Now that we have a better understanding of the data set and have created a caffeine concentration value for each drink, lets try to see if we can isolate some potentially healthier options. In this data set, we only have calories as a data point which could be extrapolated to interpret whether something is healthy or not, so we will run with that. \n",
    "\n",
    "Let's take filter for a subset of drinks that have 100 or less calories"
   ]
  },
  {
   "cell_type": "code",
   "execution_count": null,
   "id": "71671427",
   "metadata": {},
   "outputs": [],
   "source": [
    "healthy_caffeine = caffeine[(caffeine['Calories'] <= 100) & (caffeine['type'] != 'Energy Shots')].sort_values(by=['Caffeine Concentration'], ascending=False).head(20)\n",
    "healthy_caffeine"
   ]
  },
  {
   "cell_type": "markdown",
   "id": "93525199",
   "metadata": {},
   "source": [
    "## Which Tea and Water Drinks Have the Highest Caffeine Content"
   ]
  },
  {
   "cell_type": "markdown",
   "id": "bebe5126",
   "metadata": {},
   "source": [
    "As much as most people love caffeine, it's hard not to feel a little bit guilty indulging in a caffeinated drink because unless you're drinking black coffee, drinks with caffeine tend to come with a lot of other chemicals included in them.\n",
    "\n",
    "Let's take a look at the Caffeine dataset but only at Tea and Water drinks to see if we can find some drinks with a lot of caffeine"
   ]
  },
  {
   "cell_type": "code",
   "execution_count": 23,
   "id": "d489364b",
   "metadata": {},
   "outputs": [
    {
     "data": {
      "text/html": [
       "<div>\n",
       "<style scoped>\n",
       "    .dataframe tbody tr th:only-of-type {\n",
       "        vertical-align: middle;\n",
       "    }\n",
       "\n",
       "    .dataframe tbody tr th {\n",
       "        vertical-align: top;\n",
       "    }\n",
       "\n",
       "    .dataframe thead th {\n",
       "        text-align: right;\n",
       "    }\n",
       "</style>\n",
       "<table border=\"1\" class=\"dataframe\">\n",
       "  <thead>\n",
       "    <tr style=\"text-align: right;\">\n",
       "      <th></th>\n",
       "      <th>drink</th>\n",
       "      <th>Volume (ml)</th>\n",
       "      <th>Calories</th>\n",
       "      <th>Caffeine (mg)</th>\n",
       "      <th>type</th>\n",
       "      <th>Caffeine Concentration</th>\n",
       "    </tr>\n",
       "  </thead>\n",
       "  <tbody>\n",
       "    <tr>\n",
       "      <th>581</th>\n",
       "      <td>Zest Highly Caffeinated Tea</td>\n",
       "      <td>236.58800</td>\n",
       "      <td>0</td>\n",
       "      <td>150</td>\n",
       "      <td>Tea</td>\n",
       "      <td>0.634014</td>\n",
       "    </tr>\n",
       "    <tr>\n",
       "      <th>556</th>\n",
       "      <td>Fast Lane Black Tea</td>\n",
       "      <td>236.58800</td>\n",
       "      <td>0</td>\n",
       "      <td>110</td>\n",
       "      <td>Tea</td>\n",
       "      <td>0.464943</td>\n",
       "    </tr>\n",
       "    <tr>\n",
       "      <th>558</th>\n",
       "      <td>HICAF Tea</td>\n",
       "      <td>236.58800</td>\n",
       "      <td>0</td>\n",
       "      <td>110</td>\n",
       "      <td>Tea</td>\n",
       "      <td>0.464943</td>\n",
       "    </tr>\n",
       "    <tr>\n",
       "      <th>584</th>\n",
       "      <td>Perrier Energize</td>\n",
       "      <td>250.19181</td>\n",
       "      <td>35</td>\n",
       "      <td>99</td>\n",
       "      <td>Water</td>\n",
       "      <td>0.395696</td>\n",
       "    </tr>\n",
       "    <tr>\n",
       "      <th>528</th>\n",
       "      <td>Inko's White Tea Energy</td>\n",
       "      <td>458.38925</td>\n",
       "      <td>100</td>\n",
       "      <td>165</td>\n",
       "      <td>Tea</td>\n",
       "      <td>0.359956</td>\n",
       "    </tr>\n",
       "    <tr>\n",
       "      <th>580</th>\n",
       "      <td>YMateina Yerba Mate</td>\n",
       "      <td>236.58800</td>\n",
       "      <td>0</td>\n",
       "      <td>80</td>\n",
       "      <td>Tea</td>\n",
       "      <td>0.338141</td>\n",
       "    </tr>\n",
       "    <tr>\n",
       "      <th>598</th>\n",
       "      <td>Arti Sparkling Water</td>\n",
       "      <td>354.88200</td>\n",
       "      <td>0</td>\n",
       "      <td>120</td>\n",
       "      <td>Water</td>\n",
       "      <td>0.338141</td>\n",
       "    </tr>\n",
       "    <tr>\n",
       "      <th>527</th>\n",
       "      <td>Guayaki Canned Yerba Mate</td>\n",
       "      <td>458.38925</td>\n",
       "      <td>120</td>\n",
       "      <td>150</td>\n",
       "      <td>Tea</td>\n",
       "      <td>0.327233</td>\n",
       "    </tr>\n",
       "    <tr>\n",
       "      <th>542</th>\n",
       "      <td>Taiwanese Milk Tea</td>\n",
       "      <td>473.17600</td>\n",
       "      <td>299</td>\n",
       "      <td>151</td>\n",
       "      <td>Tea</td>\n",
       "      <td>0.319120</td>\n",
       "    </tr>\n",
       "    <tr>\n",
       "      <th>561</th>\n",
       "      <td>Lipton Natural Energy Tea</td>\n",
       "      <td>236.58800</td>\n",
       "      <td>0</td>\n",
       "      <td>75</td>\n",
       "      <td>Tea</td>\n",
       "      <td>0.317007</td>\n",
       "    </tr>\n",
       "  </tbody>\n",
       "</table>\n",
       "</div>"
      ],
      "text/plain": [
       "                           drink  Volume (ml)  Calories  Caffeine (mg)   type  \\\n",
       "581  Zest Highly Caffeinated Tea    236.58800         0            150    Tea   \n",
       "556          Fast Lane Black Tea    236.58800         0            110    Tea   \n",
       "558                    HICAF Tea    236.58800         0            110    Tea   \n",
       "584             Perrier Energize    250.19181        35             99  Water   \n",
       "528      Inko's White Tea Energy    458.38925       100            165    Tea   \n",
       "580          YMateina Yerba Mate    236.58800         0             80    Tea   \n",
       "598         Arti Sparkling Water    354.88200         0            120  Water   \n",
       "527    Guayaki Canned Yerba Mate    458.38925       120            150    Tea   \n",
       "542           Taiwanese Milk Tea    473.17600       299            151    Tea   \n",
       "561    Lipton Natural Energy Tea    236.58800         0             75    Tea   \n",
       "\n",
       "     Caffeine Concentration  \n",
       "581                0.634014  \n",
       "556                0.464943  \n",
       "558                0.464943  \n",
       "584                0.395696  \n",
       "528                0.359956  \n",
       "580                0.338141  \n",
       "598                0.338141  \n",
       "527                0.327233  \n",
       "542                0.319120  \n",
       "561                0.317007  "
      ]
     },
     "execution_count": 23,
     "metadata": {},
     "output_type": "execute_result"
    }
   ],
   "source": [
    "# filter for only Tea and Water\n",
    "tw_caffeine = caffeine[(caffeine['type'] == 'Tea') | (caffeine['type'] == 'Water')].sort_values(by=['Caffeine Concentration'], ascending=False).head(10)\n",
    "\n",
    "tw_caffeine"
   ]
  }
 ],
 "metadata": {
  "kernelspec": {
   "display_name": "Python 3 (ipykernel)",
   "language": "python",
   "name": "python3"
  },
  "language_info": {
   "codemirror_mode": {
    "name": "ipython",
    "version": 3
   },
   "file_extension": ".py",
   "mimetype": "text/x-python",
   "name": "python",
   "nbconvert_exporter": "python",
   "pygments_lexer": "ipython3",
   "version": "3.9.16"
  },
  "vscode": {
   "interpreter": {
    "hash": "5db1ea01a22930699da1c9e5c734fc7a3d3838d6d85bd3693d59d1be0ad9fdcb"
   }
  }
 },
 "nbformat": 4,
 "nbformat_minor": 5
}
